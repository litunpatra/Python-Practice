{
 "cells": [
  {
   "cell_type": "code",
   "execution_count": 1,
   "id": "255611c2-f52e-4450-a0f9-22a7dc8b47e7",
   "metadata": {},
   "outputs": [
    {
     "name": "stdout",
     "output_type": "stream",
     "text": [
      "Enter any +ve number: 5\n",
      "Numbers b/w 0 to 5:\n",
      "==================================================\n",
      "1\t\n",
      "2\t\n",
      "3\t\n",
      "4\t\n",
      "5\t\n",
      "==================================================\n",
      "Program Execution Over !!!\n"
     ]
    }
   ],
   "source": [
    "# Program for generating 1 to n numbers, for +ve n\n",
    "n=int(input(\"Enter any +ve number: \"))\n",
    "print(f\"Numbers b/w 0 to {n}:\")\n",
    "print(\"=\"*50)\n",
    "i=1 #initialization\n",
    "while(i<=n):\n",
    "    print(\"{}\\t\".format(i))\n",
    "    i+=1 #updation\n",
    "else:\n",
    "    print(\"=\"*50)\n",
    "print(\"Program Execution Over !!!\")   "
   ]
  },
  {
   "cell_type": "code",
   "execution_count": 2,
   "id": "7d55d0bf",
   "metadata": {},
   "outputs": [
    {
     "name": "stdout",
     "output_type": "stream",
     "text": [
      "Enter any number:12\n",
      "==================================================\n",
      "12\n",
      "11\n",
      "10\n",
      "9\n",
      "8\n",
      "7\n",
      "6\n",
      "5\n",
      "4\n",
      "3\n",
      "2\n",
      "1\n",
      "Program Execution Over!!!\n"
     ]
    }
   ],
   "source": [
    "# Program for generating n to 1 numbers, for +ve n\n",
    "n = int(input(\"Enter any number:\"))\n",
    "if(n>0):\n",
    "    print(\"=\"*50)\n",
    "    i=n\n",
    "    while(i>0):\n",
    "        print(f\"{i}\")\n",
    "        i-=1\n",
    "    else:\n",
    "        print(\"Program Execution Over!!!\")\n",
    "        \n",
    "else:\n",
    "    print(\"Please enter a positive number\")"
   ]
  },
  {
   "cell_type": "code",
   "execution_count": 3,
   "id": "92d431f1",
   "metadata": {},
   "outputs": [
    {
     "name": "stdout",
     "output_type": "stream",
     "text": [
      "Enter the number whose table has to be printed: 19\n",
      "==================================================\n",
      "Multiplication Table for 19\n",
      "==================================================\n",
      "\t19 x 1 = 19\n",
      "\t19 x 2 = 38\n",
      "\t19 x 3 = 57\n",
      "\t19 x 4 = 76\n",
      "\t19 x 5 = 95\n",
      "\t19 x 6 = 114\n",
      "\t19 x 7 = 133\n",
      "\t19 x 8 = 152\n",
      "\t19 x 9 = 171\n",
      "\t19 x 10 = 190\n",
      "==================================================\n"
     ]
    }
   ],
   "source": [
    "# Multipliction Table\n",
    "n = int(input(\"Enter the number whose table has to be printed: \"))\n",
    "print(\"=\"*50)\n",
    "print(f'Multiplication Table for {n}')\n",
    "print(\"=\"*50)\n",
    "i = 1\n",
    "while(i<11):\n",
    "    print(f'\\t{n} x {i} = {n*i}')\n",
    "    i+=1\n",
    "print(\"=\"*50)"
   ]
  },
  {
   "cell_type": "code",
   "execution_count": 4,
   "id": "e2a1bcd1",
   "metadata": {},
   "outputs": [
    {
     "name": "stdout",
     "output_type": "stream",
     "text": [
      "Enter any line of text: Hi there how are you doing?\n",
      "H\n",
      "i\n",
      " \n",
      "t\n",
      "h\n",
      "e\n",
      "r\n",
      "e\n",
      " \n",
      "h\n",
      "o\n",
      "w\n",
      " \n",
      "a\n",
      "r\n",
      "e\n",
      " \n",
      "y\n",
      "o\n",
      "u\n",
      " \n",
      "d\n",
      "o\n",
      "i\n",
      "n\n",
      "g\n",
      "?\n"
     ]
    }
   ],
   "source": [
    "#Program for accepting a line of text and display all chars \n",
    "#chargenex.py\n",
    "line = input(\"Enter any line of text: \")\n",
    "n = len(line)\n",
    "i = 0\n",
    "while(i<n):\n",
    "    print(\"{}\".format(line[i]))\n",
    "    i+=1"
   ]
  },
  {
   "cell_type": "code",
   "execution_count": 5,
   "id": "0ac4125a",
   "metadata": {},
   "outputs": [
    {
     "name": "stdout",
     "output_type": "stream",
     "text": [
      "Enter any number:15\n",
      "1\t\n",
      "2\t\n",
      "3\t\n",
      "4\t\n",
      "5\t\n",
      "6\t\n",
      "7\t\n",
      "8\t\n",
      "9\t\n",
      "10\t\n",
      "11\t\n",
      "12\t\n",
      "13\t\n",
      "14\t\n",
      "15\t\n"
     ]
    }
   ],
   "source": [
    "#Printing 1 to n\n",
    "n=int(input(\"Enter any number:\"))\n",
    "if(n>0):\n",
    "    for i in range(1,n+1):\n",
    "        print(\"{}\\t\".format(i))\n",
    "else:\n",
    "    print(\"Enter a valid input!\")"
   ]
  },
  {
   "cell_type": "code",
   "execution_count": 6,
   "id": "0676423c",
   "metadata": {},
   "outputs": [
    {
     "name": "stdout",
     "output_type": "stream",
     "text": [
      "Enter a number:10\n",
      "10\t\n",
      "9\t\n",
      "8\t\n",
      "7\t\n",
      "6\t\n",
      "5\t\n",
      "4\t\n",
      "3\t\n",
      "2\t\n",
      "1\t\n"
     ]
    }
   ],
   "source": [
    "#Printing n to 1\n",
    "n=int(input(\"Enter a number:\"))\n",
    "if(n>0):\n",
    "    for i in range(n,0,-1):\n",
    "        print(\"{}\\t\".format(i))\n",
    "else:\n",
    "    print(\"Enter a valid input!\")"
   ]
  },
  {
   "cell_type": "code",
   "execution_count": 7,
   "id": "b9dea3b6",
   "metadata": {},
   "outputs": [
    {
     "name": "stdout",
     "output_type": "stream",
     "text": [
      "Enter any number whose factors u want to print: 12\n",
      "==================================================\n",
      "Factors of 12:\n",
      "\n",
      "[1, 2, 3, 4, 6]\n",
      "==================================================\n"
     ]
    }
   ],
   "source": [
    "#Program for generating Factors for a given number\n",
    "#FactorsEx.py\n",
    "n=int(input(\"Enter any number whose factors u want to print: \"))\n",
    "factors=[]\n",
    "if(n<0):\n",
    "    print(\"Enter a valid number !!!\")\n",
    "else:\n",
    "    for i in range(1,(n//2)+1):\n",
    "        if(n%i == 0):\n",
    "            factors.append(i)\n",
    "    else:\n",
    "        print(\"=\"*50)\n",
    "        print(\"Factors of {}:\\n\".format(n))\n",
    "        print(factors)\n",
    "        print(\"=\"*50)     \n",
    "            "
   ]
  },
  {
   "cell_type": "code",
   "execution_count": 8,
   "id": "c06b2750",
   "metadata": {},
   "outputs": [
    {
     "name": "stdout",
     "output_type": "stream",
     "text": [
      "Enter any number: 5\n",
      "==================================================\n",
      "1\t\n",
      "2\t\n",
      "3\t\n",
      "4\t\n",
      "5\t\n",
      "==================================================\n",
      "Sum of 1st 5 natural numbers is: 15\n",
      "==================================================\n"
     ]
    }
   ],
   "source": [
    "#Program finding sum of first natural nums\n",
    "#NatNumSum.py\n",
    "n=int(input(\"Enter any number: \"))\n",
    "print(\"=\"*50)\n",
    "sum=0\n",
    "if(n>0):\n",
    "    for i in range(1,n+1):\n",
    "        sum=sum+i\n",
    "        print(\"{}\\t\".format(i))\n",
    "    print(\"=\"*50)\n",
    "    print(\"Sum of 1st {} natural numbers is: {}\".format(n,sum))\n",
    "    print(\"=\"*50)\n",
    "else:\n",
    "    print(\"Enter a +ve number!!!\")"
   ]
  },
  {
   "cell_type": "code",
   "execution_count": 9,
   "id": "5ae87d50",
   "metadata": {},
   "outputs": [
    {
     "name": "stdout",
     "output_type": "stream",
     "text": [
      "Enter a line of text: Hi there\n",
      "==================================================\n",
      "Characters in the line:\n",
      "==================================================\n",
      "H\n",
      "i\n",
      " \n",
      "t\n",
      "h\n",
      "e\n",
      "r\n",
      "e\n"
     ]
    }
   ],
   "source": [
    "#Program for printing the characters\n",
    "#CharGenEx1.py\n",
    "line = input(\"Enter a line of text: \")\n",
    "print(\"=\"*50)\n",
    "print(\"Characters in the line:\")\n",
    "print(\"=\"*50)\n",
    "for i in line:\n",
    "    print(i)"
   ]
  },
  {
   "cell_type": "code",
   "execution_count": 10,
   "id": "5b77e4bc",
   "metadata": {},
   "outputs": [
    {
     "name": "stdout",
     "output_type": "stream",
     "text": [
      "Enter a number: 10\n",
      "==================================================\n",
      "1\t\n",
      "2\t\n",
      "3\t\n",
      "4\t\n",
      "5\t\n",
      "6\t\n",
      "7\t\n",
      "8\t\n",
      "9\t\n",
      "10\t\n",
      "==================================================\n",
      "Sum of 1st 10 natural numbers = 55\n",
      "Sum of Squares = 385\n",
      "Sum of Cubes = 3025\n",
      "==================================================\n"
     ]
    }
   ],
   "source": [
    "#Program for finding sum of natural numbers, squares and cubes of first n natural numbers \n",
    "#NatNumsSqCubes.py\n",
    "n=int(input(\"Enter a number: \"))\n",
    "s=0\n",
    "ss=0\n",
    "cs=0\n",
    "\n",
    "print(\"=\"*50)\n",
    "for i in range(1,n+1):\n",
    "    print(\"{}\\t\".format(i))\n",
    "    s=s+i\n",
    "    ss+=i**2\n",
    "    cs+=i**3\n",
    "print(\"=\"*50)\n",
    "print(\"Sum of 1st {} natural numbers = {}\".format(n,s))\n",
    "print(\"Sum of Squares = {}\".format(ss))\n",
    "print(\"Sum of Cubes = {}\".format(cs))\n",
    "print(\"=\"*50)"
   ]
  },
  {
   "cell_type": "code",
   "execution_count": 11,
   "id": "0bc3e049",
   "metadata": {},
   "outputs": [
    {
     "name": "stdout",
     "output_type": "stream",
     "text": [
      "Enter a number: 5\n",
      "5! = 120\n"
     ]
    }
   ],
   "source": [
    "#Program for calculate factorial of a given number \n",
    "#FactEx1.py\n",
    "n=int(input(\"Enter a number: \"))\n",
    "prod=1\n",
    "\n",
    "# for i in range(n,0,-1):\n",
    "#     prod*=i\n",
    "# print(\"{}! = {}\".format(n,prod))\n",
    "\n",
    "# i=1\n",
    "# while(i<n+1):\n",
    "#     prod*=i\n",
    "#     i+=1\n",
    "# print(\"{}! = {}\".format(n,prod))\n",
    "\n",
    "for i in range(1,n+1):\n",
    "    prod*=i\n",
    "print(\"{}! = {}\".format(n,prod))"
   ]
  },
  {
   "cell_type": "code",
   "execution_count": 12,
   "id": "84557e43",
   "metadata": {},
   "outputs": [
    {
     "name": "stdout",
     "output_type": "stream",
     "text": [
      "Enter a number: 252\n",
      "Sum of digits in 252 = 9\n"
     ]
    }
   ],
   "source": [
    "#Program to accept a number and find sum of its digits \n",
    "#digitssum.py\n",
    "n=int(input(\"Enter a number: \"))\n",
    "x=n\n",
    "ds=0\n",
    "length = len(str(n))\n",
    "for i in range(0,length):\n",
    "    ds+=n%10\n",
    "    n=n//10\n",
    "print(\"Sum of digits in {} = {}\".format(x,ds))"
   ]
  },
  {
   "cell_type": "code",
   "execution_count": 13,
   "id": "39d429db",
   "metadata": {},
   "outputs": [
    {
     "data": {
      "text/plain": [
       "3"
      ]
     },
     "execution_count": 13,
     "metadata": {},
     "output_type": "execute_result"
    }
   ],
   "source": [
    "len(str(235))"
   ]
  },
  {
   "cell_type": "code",
   "execution_count": 14,
   "id": "2a4045c3",
   "metadata": {},
   "outputs": [
    {
     "data": {
      "text/plain": [
       "23"
      ]
     },
     "execution_count": 14,
     "metadata": {},
     "output_type": "execute_result"
    }
   ],
   "source": [
    "235//10"
   ]
  },
  {
   "cell_type": "code",
   "execution_count": 15,
   "id": "56199ae8",
   "metadata": {},
   "outputs": [
    {
     "data": {
      "text/plain": [
       "7"
      ]
     },
     "execution_count": 15,
     "metadata": {},
     "output_type": "execute_result"
    }
   ],
   "source": [
    "347%10"
   ]
  },
  {
   "cell_type": "code",
   "execution_count": 16,
   "id": "5eaee0a7",
   "metadata": {
    "scrolled": true
   },
   "outputs": [
    {
     "data": {
      "text/plain": [
       "25"
      ]
     },
     "execution_count": 16,
     "metadata": {},
     "output_type": "execute_result"
    }
   ],
   "source": [
    "252//10"
   ]
  },
  {
   "cell_type": "code",
   "execution_count": 17,
   "id": "91e36c31",
   "metadata": {},
   "outputs": [
    {
     "data": {
      "text/plain": [
       "2"
      ]
     },
     "execution_count": 17,
     "metadata": {},
     "output_type": "execute_result"
    }
   ],
   "source": [
    "25//10"
   ]
  },
  {
   "cell_type": "code",
   "execution_count": 18,
   "id": "4f3d2fd2",
   "metadata": {},
   "outputs": [
    {
     "data": {
      "text/plain": [
       "0"
      ]
     },
     "execution_count": 18,
     "metadata": {},
     "output_type": "execute_result"
    }
   ],
   "source": [
    "2//10"
   ]
  },
  {
   "cell_type": "code",
   "execution_count": 19,
   "id": "e774ccec",
   "metadata": {},
   "outputs": [
    {
     "name": "stdout",
     "output_type": "stream",
     "text": [
      "Enter a number: 125\n",
      "[5, 2, 1]\n",
      "3\n"
     ]
    }
   ],
   "source": [
    "n=int(input(\"Enter a number: \"))\n",
    "dl=[]\n",
    "counter=0\n",
    "#res=n//10\n",
    "while(n>0):\n",
    "    dl.append(n%10)\n",
    "    n=n//10\n",
    "    counter+=1\n",
    "else:\n",
    "    print(dl)\n",
    "    print(counter)"
   ]
  },
  {
   "cell_type": "code",
   "execution_count": 20,
   "id": "fe21a5c2",
   "metadata": {},
   "outputs": [
    {
     "name": "stdout",
     "output_type": "stream",
     "text": [
      "Enter a number: 125\n",
      "Sum of digits of the entered number = 8\n"
     ]
    }
   ],
   "source": [
    "n=int(input(\"Enter a number: \"))\n",
    "ds=0\n",
    "while(n>0):\n",
    "    ds+=n%10\n",
    "    n=n//10\n",
    "    \n",
    "else:\n",
    "    print(\"Sum of digits of the entered number = {}\".format(ds))"
   ]
  },
  {
   "cell_type": "code",
   "execution_count": 21,
   "id": "bee6faf9",
   "metadata": {},
   "outputs": [
    {
     "name": "stdout",
     "output_type": "stream",
     "text": [
      "Enter a string: MADAM\n",
      "Palindrome\n"
     ]
    }
   ],
   "source": [
    "#Program to decide whether the given number or name is palindrome or not \n",
    "#palindrome.py\n",
    "word = input(\"Enter a string: \")\n",
    "if(word == word[::-1]):\n",
    "    print(\"Palindrome\")\n",
    "else:\n",
    "    print(\"Not Palindrome\")"
   ]
  },
  {
   "cell_type": "code",
   "execution_count": 22,
   "id": "d7653d12",
   "metadata": {},
   "outputs": [
    {
     "name": "stdout",
     "output_type": "stream",
     "text": [
      "\tP\n",
      "\tY\n",
      "\tT\n",
      "Other statements in Program\n"
     ]
    }
   ],
   "source": [
    "#This program demonstrates the functionality of break statement \n",
    "#breakex1.py\n",
    "s=\"PYTHON\"\n",
    "for ch in s:\n",
    "    if(ch==\"H\"):\n",
    "        break       #takes control out of the loop\n",
    "    else:\n",
    "        print(\"\\t{}\".format(ch))\n",
    "else:\n",
    "    print(\"I am from else block\")\n",
    "print(\"Other statements in Program\")"
   ]
  },
  {
   "cell_type": "code",
   "execution_count": 24,
   "id": "528d4e6c-7d96-4548-9d6a-40e10a5c4374",
   "metadata": {},
   "outputs": [
    {
     "name": "stdout",
     "output_type": "stream",
     "text": [
      "\tP\n",
      "\tY\n",
      "\tT\n",
      "\tH\n",
      "Statement from outside the while loop\n"
     ]
    }
   ],
   "source": [
    "#This program demonstrates the functionality of break statement \n",
    "#breakex2.py\n",
    "s=\"PYTHON\"\n",
    "i=0\n",
    "while(i<len(s)):\n",
    "    if(s[i]==\"O\"):\n",
    "        break        #takes control out of the while loop when executed\n",
    "    else:\n",
    "        print(\"\\t{}\".format(s[i]))\n",
    "        i+=1\n",
    "else:\n",
    "    print(\"I am from else block of while loop\")\n",
    "print(\"Statement from outside the while loop\")"
   ]
  },
  {
   "cell_type": "code",
   "execution_count": 28,
   "id": "2fc3d862",
   "metadata": {},
   "outputs": [
    {
     "name": "stdout",
     "output_type": "stream",
     "text": [
      "\tP\n",
      "\tY\n",
      "\tT\n",
      "\tO\n",
      "\tN\n",
      "I am from else block of for loop\n",
      "Other statements in Program\n"
     ]
    }
   ],
   "source": [
    "#Program for demonstrating continue statement \n",
    "#continueEx1.py\n",
    "s=\"PYTHON\"\n",
    "for ch in s:\n",
    "    \n",
    "    if(ch=='H'):\n",
    "        continue\n",
    "        #pass\n",
    "        \n",
    "    else:\n",
    "        print(\"\\t{}\".format(ch))\n",
    "else:\n",
    "    print(\"I am from else block of for loop\")\n",
    "print(\"Other statements in Program\")"
   ]
  },
  {
   "cell_type": "code",
   "execution_count": 29,
   "id": "9e3c54b7",
   "metadata": {},
   "outputs": [
    {
     "name": "stdout",
     "output_type": "stream",
     "text": [
      "\tPython\n",
      "\tJava\n",
      "\tDjango\n",
      "\tData Science\n",
      "\tPyramid\n",
      "I am from else block of the for loop\n",
      "Other statements in Program\n"
     ]
    }
   ],
   "source": [
    "lst=[\"Python\", \"Java\", \"Venky\", \"Django\", \"Data Science\", \"Flask\", \"Pyramid\"]\n",
    "for name in lst:\n",
    "    if(name==\"Venky\") or (name==\"Flask\"):\n",
    "        continue\n",
    "    else:\n",
    "        print(\"\\t{}\".format(name))\n",
    "else:\n",
    "    print(\"I am from else block of the for loop\")\n",
    "\n",
    "print(\"Other statements in Program\")"
   ]
  },
  {
   "cell_type": "code",
   "execution_count": 30,
   "id": "64b20590",
   "metadata": {},
   "outputs": [
    {
     "name": "stdout",
     "output_type": "stream",
     "text": [
      "\tPython\n",
      "\tVenky\n",
      "\tFlask\n",
      "I am from else block of for loop\n",
      "Other statements in Programs\n"
     ]
    }
   ],
   "source": [
    "lst=[\"Python\", \"Java\", \"Venky\", \"Django\", \"Data Science\", \"Flask\", \"Pyramid\"]\n",
    "for name in lst:\n",
    "    if name not in [\"Venky\",\"Flask\",\"Python\"]:\n",
    "        continue\n",
    "    else:\n",
    "        print(\"\\t{}\".format(name))\n",
    "else:\n",
    "    print(\"I am from else block of for loop\")\n",
    "print(\"Other statements in Programs\")"
   ]
  },
  {
   "cell_type": "code",
   "execution_count": 37,
   "id": "fc022c86",
   "metadata": {},
   "outputs": [
    {
     "name": "stdout",
     "output_type": "stream",
     "text": [
      "3, 3\n",
      "2 1 3 \n",
      "5 2 4 \n",
      "10 25 12 \n"
     ]
    }
   ],
   "source": [
    "lst=[[2,1,3],[5,2,4],[10,25,12]]\n",
    "l1=len(lst)\n",
    "l2=len(lst[0])\n",
    "print(\"{}, {}\".format(l1,l2))\n",
    "for i in range(len(lst)):\n",
    "    for j in range(len(lst[0])):\n",
    "        print(\"{}\".format(lst[i][j]),end=\" \")      #To continue printing in the same line\n",
    "    print()\n"
   ]
  },
  {
   "cell_type": "code",
   "execution_count": 32,
   "id": "5b54777b",
   "metadata": {},
   "outputs": [],
   "source": [
    "lst=[[2,1,3],[5,2,4],[10,25,12]]"
   ]
  },
  {
   "cell_type": "code",
   "execution_count": 33,
   "id": "abe945d9",
   "metadata": {},
   "outputs": [],
   "source": [
    "l1=len(lst)\n",
    "l2=len(lst[0])"
   ]
  },
  {
   "cell_type": "code",
   "execution_count": 34,
   "id": "5ce5d59c",
   "metadata": {},
   "outputs": [
    {
     "data": {
      "text/plain": [
       "3"
      ]
     },
     "execution_count": 34,
     "metadata": {},
     "output_type": "execute_result"
    }
   ],
   "source": [
    "l1"
   ]
  },
  {
   "cell_type": "code",
   "execution_count": 35,
   "id": "48414e49",
   "metadata": {},
   "outputs": [
    {
     "data": {
      "text/plain": [
       "3"
      ]
     },
     "execution_count": 35,
     "metadata": {},
     "output_type": "execute_result"
    }
   ],
   "source": [
    "l2"
   ]
  },
  {
   "cell_type": "code",
   "execution_count": 38,
   "id": "062e76a1",
   "metadata": {},
   "outputs": [
    {
     "name": "stdout",
     "output_type": "stream",
     "text": [
      "i=1\n",
      "\tj=10\n",
      "\t\tk=50\n",
      "\t\tk=51\n",
      "\tj=11\n",
      "\t\tk=50\n",
      "\t\tk=51\n",
      "i=2\n",
      "\tj=10\n",
      "\t\tk=50\n",
      "\t\tk=51\n",
      "\tj=11\n",
      "\t\tk=50\n",
      "\t\tk=51\n"
     ]
    }
   ],
   "source": [
    "for i in range(1,3):\n",
    "    print(\"i={}\".format(i))\n",
    "    for j in range(10,12):\n",
    "        print(\"\\tj={}\".format(j))\n",
    "        for k in range(50,52):\n",
    "            print(\"\\t\\tk={}\".format(k))"
   ]
  },
  {
   "cell_type": "code",
   "execution_count": 39,
   "id": "429330fd",
   "metadata": {},
   "outputs": [
    {
     "name": "stdout",
     "output_type": "stream",
     "text": [
      "Outer loop iteration no. 1: \n",
      "--------------------------------------------------\n",
      "\tInner loop iteration no. 1: \n",
      "\tInner loop iteration no. 2: \n",
      "\tInner loop iteration no. 3: \n",
      "Out of Inner for loop\n",
      "----------------------------------------\n",
      "Outer loop iteration no. 2: \n",
      "--------------------------------------------------\n",
      "\tInner loop iteration no. 1: \n",
      "\tInner loop iteration no. 2: \n",
      "\tInner loop iteration no. 3: \n",
      "Out of Inner for loop\n",
      "----------------------------------------\n",
      "Outer loop iteration no. 3: \n",
      "--------------------------------------------------\n",
      "\tInner loop iteration no. 1: \n",
      "\tInner loop iteration no. 2: \n",
      "\tInner loop iteration no. 3: \n",
      "Out of Inner for loop\n",
      "----------------------------------------\n",
      "Outer loop iteration no. 4: \n",
      "--------------------------------------------------\n",
      "\tInner loop iteration no. 1: \n",
      "\tInner loop iteration no. 2: \n",
      "\tInner loop iteration no. 3: \n",
      "Out of Inner for loop\n",
      "----------------------------------------\n",
      "Outer loop iteration no. 5: \n",
      "--------------------------------------------------\n",
      "\tInner loop iteration no. 1: \n",
      "\tInner loop iteration no. 2: \n",
      "\tInner loop iteration no. 3: \n",
      "Out of Inner for loop\n",
      "----------------------------------------\n",
      "Out of Outer for loop\n",
      "----------------------------------------\n"
     ]
    }
   ],
   "source": [
    "#innerloopex1.py\n",
    "for i in range(1,6):\n",
    "    print(\"Outer loop iteration no. {}: \".format(i))\n",
    "    print(\"-\"*50)\n",
    "    for j in range(1,4):\n",
    "        print(\"\\tInner loop iteration no. {}: \".format(j))\n",
    "    else:\n",
    "        print(\"Out of Inner for loop\")\n",
    "        print(\"-\"*40)\n",
    "else:\n",
    "    print(\"Out of Outer for loop\")\n",
    "    print(\"-\"*40)"
   ]
  },
  {
   "cell_type": "code",
   "execution_count": 46,
   "id": "933e94a0",
   "metadata": {},
   "outputs": [
    {
     "name": "stdout",
     "output_type": "stream",
     "text": [
      "How many Multiplication tables do you want to print: 3\n",
      "Enter Number 1: \n",
      "5\n",
      "==================================================\n",
      "\tMultiplication Table for 5\n",
      "==================================================\n",
      "5 X 1 = 5\n",
      "5 X 2 = 10\n",
      "5 X 3 = 15\n",
      "5 X 4 = 20\n",
      "5 X 5 = 25\n",
      "5 X 6 = 30\n",
      "5 X 7 = 35\n",
      "5 X 8 = 40\n",
      "5 X 9 = 45\n",
      "5 X 10 = 50\n",
      "==================================================\n",
      "\n",
      "\n",
      "Enter Number 2: \n",
      "7\n",
      "==================================================\n",
      "\tMultiplication Table for 7\n",
      "==================================================\n",
      "7 X 1 = 7\n",
      "7 X 2 = 14\n",
      "7 X 3 = 21\n",
      "7 X 4 = 28\n",
      "7 X 5 = 35\n",
      "7 X 6 = 42\n",
      "7 X 7 = 49\n",
      "7 X 8 = 56\n",
      "7 X 9 = 63\n",
      "7 X 10 = 70\n",
      "==================================================\n",
      "\n",
      "\n",
      "Enter Number 3: \n",
      "19\n",
      "==================================================\n",
      "\tMultiplication Table for 19\n",
      "==================================================\n",
      "19 X 1 = 19\n",
      "19 X 2 = 38\n",
      "19 X 3 = 57\n",
      "19 X 4 = 76\n",
      "19 X 5 = 95\n",
      "19 X 6 = 114\n",
      "19 X 7 = 133\n",
      "19 X 8 = 152\n",
      "19 X 9 = 171\n",
      "19 X 10 = 190\n",
      "==================================================\n",
      "\n",
      "\n"
     ]
    }
   ],
   "source": [
    "n = int(input(\"How many Multiplication tables do you want to print: \"))\n",
    "if(n>0):\n",
    "    arr=list()\n",
    "    for i in range(n):\n",
    "        print(\"Enter Number {}: \".format(i+1))\n",
    "        arr.insert(i,int(input()))\n",
    "        print(\"=\"*50)\n",
    "        print(\"\\tMultiplication Table for {}\".format(arr[i]))\n",
    "        print(\"=\"*50)\n",
    "    #print(arr)\n",
    "        \n",
    "        for j in range(1,11):\n",
    "            print(\"{} X {} = {}\".format(arr[i],j,arr[i]*j))\n",
    "        print(\"=\"*50)\n",
    "        print(\"\\n\")       "
   ]
  },
  {
   "cell_type": "code",
   "execution_count": 2,
   "id": "6e663ae5",
   "metadata": {},
   "outputs": [
    {
     "name": "stdout",
     "output_type": "stream",
     "text": [
      "==================================================\n",
      "\tMultiplication Table for 1:\n",
      "==================================================\n",
      "1 X 1 = 1\n",
      "1 X 2 = 2\n",
      "1 X 3 = 3\n",
      "1 X 4 = 4\n",
      "1 X 5 = 5\n",
      "1 X 6 = 6\n",
      "1 X 7 = 7\n",
      "1 X 8 = 8\n",
      "1 X 9 = 9\n",
      "1 X 10 = 10\n",
      "==================================================\n",
      "\n",
      "\n",
      "==================================================\n",
      "\tMultiplication Table for 2:\n",
      "==================================================\n",
      "2 X 1 = 2\n",
      "2 X 2 = 4\n",
      "2 X 3 = 6\n",
      "2 X 4 = 8\n",
      "2 X 5 = 10\n",
      "2 X 6 = 12\n",
      "2 X 7 = 14\n",
      "2 X 8 = 16\n",
      "2 X 9 = 18\n",
      "2 X 10 = 20\n",
      "==================================================\n",
      "\n",
      "\n",
      "==================================================\n",
      "\tMultiplication Table for 3:\n",
      "==================================================\n",
      "3 X 1 = 3\n",
      "3 X 2 = 6\n",
      "3 X 3 = 9\n",
      "3 X 4 = 12\n",
      "3 X 5 = 15\n",
      "3 X 6 = 18\n",
      "3 X 7 = 21\n",
      "3 X 8 = 24\n",
      "3 X 9 = 27\n",
      "3 X 10 = 30\n",
      "==================================================\n",
      "\n",
      "\n",
      "==================================================\n",
      "\tMultiplication Table for 4:\n",
      "==================================================\n",
      "4 X 1 = 4\n",
      "4 X 2 = 8\n",
      "4 X 3 = 12\n",
      "4 X 4 = 16\n",
      "4 X 5 = 20\n",
      "4 X 6 = 24\n",
      "4 X 7 = 28\n",
      "4 X 8 = 32\n",
      "4 X 9 = 36\n",
      "4 X 10 = 40\n",
      "==================================================\n",
      "\n",
      "\n",
      "==================================================\n",
      "\tMultiplication Table for 5:\n",
      "==================================================\n",
      "5 X 1 = 5\n",
      "5 X 2 = 10\n",
      "5 X 3 = 15\n",
      "5 X 4 = 20\n",
      "5 X 5 = 25\n",
      "5 X 6 = 30\n",
      "5 X 7 = 35\n",
      "5 X 8 = 40\n",
      "5 X 9 = 45\n",
      "5 X 10 = 50\n",
      "==================================================\n",
      "\n",
      "\n",
      "==================================================\n",
      "\tMultiplication Table for 6:\n",
      "==================================================\n",
      "6 X 1 = 6\n",
      "6 X 2 = 12\n",
      "6 X 3 = 18\n",
      "6 X 4 = 24\n",
      "6 X 5 = 30\n",
      "6 X 6 = 36\n",
      "6 X 7 = 42\n",
      "6 X 8 = 48\n",
      "6 X 9 = 54\n",
      "6 X 10 = 60\n",
      "==================================================\n",
      "\n",
      "\n",
      "==================================================\n",
      "\tMultiplication Table for 7:\n",
      "==================================================\n",
      "7 X 1 = 7\n",
      "7 X 2 = 14\n",
      "7 X 3 = 21\n",
      "7 X 4 = 28\n",
      "7 X 5 = 35\n",
      "7 X 6 = 42\n",
      "7 X 7 = 49\n",
      "7 X 8 = 56\n",
      "7 X 9 = 63\n",
      "7 X 10 = 70\n",
      "==================================================\n",
      "\n",
      "\n",
      "==================================================\n",
      "\tMultiplication Table for 8:\n",
      "==================================================\n",
      "8 X 1 = 8\n",
      "8 X 2 = 16\n",
      "8 X 3 = 24\n",
      "8 X 4 = 32\n",
      "8 X 5 = 40\n",
      "8 X 6 = 48\n",
      "8 X 7 = 56\n",
      "8 X 8 = 64\n",
      "8 X 9 = 72\n",
      "8 X 10 = 80\n",
      "==================================================\n",
      "\n",
      "\n",
      "==================================================\n",
      "\tMultiplication Table for 9:\n",
      "==================================================\n",
      "9 X 1 = 9\n",
      "9 X 2 = 18\n",
      "9 X 3 = 27\n",
      "9 X 4 = 36\n",
      "9 X 5 = 45\n",
      "9 X 6 = 54\n",
      "9 X 7 = 63\n",
      "9 X 8 = 72\n",
      "9 X 9 = 81\n",
      "9 X 10 = 90\n",
      "==================================================\n",
      "\n",
      "\n",
      "==================================================\n",
      "\tMultiplication Table for 10:\n",
      "==================================================\n",
      "10 X 1 = 10\n",
      "10 X 2 = 20\n",
      "10 X 3 = 30\n",
      "10 X 4 = 40\n",
      "10 X 5 = 50\n",
      "10 X 6 = 60\n",
      "10 X 7 = 70\n",
      "10 X 8 = 80\n",
      "10 X 9 = 90\n",
      "10 X 10 = 100\n",
      "==================================================\n",
      "\n",
      "\n",
      "==================================================\n",
      "\tMultiplication Table for 11:\n",
      "==================================================\n",
      "11 X 1 = 11\n",
      "11 X 2 = 22\n",
      "11 X 3 = 33\n",
      "11 X 4 = 44\n",
      "11 X 5 = 55\n",
      "11 X 6 = 66\n",
      "11 X 7 = 77\n",
      "11 X 8 = 88\n",
      "11 X 9 = 99\n",
      "11 X 10 = 110\n",
      "==================================================\n",
      "\n",
      "\n",
      "==================================================\n",
      "\tMultiplication Table for 12:\n",
      "==================================================\n",
      "12 X 1 = 12\n",
      "12 X 2 = 24\n",
      "12 X 3 = 36\n",
      "12 X 4 = 48\n",
      "12 X 5 = 60\n",
      "12 X 6 = 72\n",
      "12 X 7 = 84\n",
      "12 X 8 = 96\n",
      "12 X 9 = 108\n",
      "12 X 10 = 120\n",
      "==================================================\n",
      "\n",
      "\n",
      "==================================================\n",
      "\tMultiplication Table for 13:\n",
      "==================================================\n",
      "13 X 1 = 13\n",
      "13 X 2 = 26\n",
      "13 X 3 = 39\n",
      "13 X 4 = 52\n",
      "13 X 5 = 65\n",
      "13 X 6 = 78\n",
      "13 X 7 = 91\n",
      "13 X 8 = 104\n",
      "13 X 9 = 117\n",
      "13 X 10 = 130\n",
      "==================================================\n",
      "\n",
      "\n",
      "==================================================\n",
      "\tMultiplication Table for 14:\n",
      "==================================================\n",
      "14 X 1 = 14\n",
      "14 X 2 = 28\n",
      "14 X 3 = 42\n",
      "14 X 4 = 56\n",
      "14 X 5 = 70\n",
      "14 X 6 = 84\n",
      "14 X 7 = 98\n",
      "14 X 8 = 112\n",
      "14 X 9 = 126\n",
      "14 X 10 = 140\n",
      "==================================================\n",
      "\n",
      "\n",
      "==================================================\n",
      "\tMultiplication Table for 15:\n",
      "==================================================\n",
      "15 X 1 = 15\n",
      "15 X 2 = 30\n",
      "15 X 3 = 45\n",
      "15 X 4 = 60\n",
      "15 X 5 = 75\n",
      "15 X 6 = 90\n",
      "15 X 7 = 105\n",
      "15 X 8 = 120\n",
      "15 X 9 = 135\n",
      "15 X 10 = 150\n",
      "==================================================\n",
      "\n",
      "\n",
      "==================================================\n",
      "\tMultiplication Table for 16:\n",
      "==================================================\n",
      "16 X 1 = 16\n",
      "16 X 2 = 32\n",
      "16 X 3 = 48\n",
      "16 X 4 = 64\n",
      "16 X 5 = 80\n",
      "16 X 6 = 96\n",
      "16 X 7 = 112\n",
      "16 X 8 = 128\n",
      "16 X 9 = 144\n",
      "16 X 10 = 160\n",
      "==================================================\n",
      "\n",
      "\n",
      "==================================================\n",
      "\tMultiplication Table for 17:\n",
      "==================================================\n",
      "17 X 1 = 17\n",
      "17 X 2 = 34\n",
      "17 X 3 = 51\n",
      "17 X 4 = 68\n",
      "17 X 5 = 85\n",
      "17 X 6 = 102\n",
      "17 X 7 = 119\n",
      "17 X 8 = 136\n",
      "17 X 9 = 153\n",
      "17 X 10 = 170\n",
      "==================================================\n",
      "\n",
      "\n",
      "==================================================\n",
      "\tMultiplication Table for 18:\n",
      "==================================================\n",
      "18 X 1 = 18\n",
      "18 X 2 = 36\n",
      "18 X 3 = 54\n",
      "18 X 4 = 72\n",
      "18 X 5 = 90\n",
      "18 X 6 = 108\n",
      "18 X 7 = 126\n",
      "18 X 8 = 144\n",
      "18 X 9 = 162\n",
      "18 X 10 = 180\n",
      "==================================================\n",
      "\n",
      "\n",
      "==================================================\n",
      "\tMultiplication Table for 19:\n",
      "==================================================\n",
      "19 X 1 = 19\n",
      "19 X 2 = 38\n",
      "19 X 3 = 57\n",
      "19 X 4 = 76\n",
      "19 X 5 = 95\n",
      "19 X 6 = 114\n",
      "19 X 7 = 133\n",
      "19 X 8 = 152\n",
      "19 X 9 = 171\n",
      "19 X 10 = 190\n",
      "==================================================\n",
      "\n",
      "\n",
      "==================================================\n",
      "\tMultiplication Table for 20:\n",
      "==================================================\n",
      "20 X 1 = 20\n",
      "20 X 2 = 40\n",
      "20 X 3 = 60\n",
      "20 X 4 = 80\n",
      "20 X 5 = 100\n",
      "20 X 6 = 120\n",
      "20 X 7 = 140\n",
      "20 X 8 = 160\n",
      "20 X 9 = 180\n",
      "20 X 10 = 200\n",
      "==================================================\n",
      "\n",
      "\n"
     ]
    }
   ],
   "source": [
    "#multables.py\n",
    "for n in range(1,21):\n",
    "    print(\"=\"*50)\n",
    "    print(\"\\tMultiplication Table for {}:\".format(n))\n",
    "    print(\"=\"*50)\n",
    "    for i in range(1,11):\n",
    "        print(\"{} X {} = {}\".format(n,i,n*i))\n",
    "    print(\"=\"*50)\n",
    "    print(\"\\n\")"
   ]
  },
  {
   "cell_type": "code",
   "execution_count": 4,
   "id": "a7aa4bb6",
   "metadata": {},
   "outputs": [
    {
     "name": "stdout",
     "output_type": "stream",
     "text": [
      "Enter how many values do you want to enter5\n",
      "Enter value 0: 10\n",
      "Enter value 1: -12\n",
      "Enter value 2: 23\n",
      "Enter value 3: 51\n",
      "Enter value 4: -8\n",
      "==================================================\n",
      "Given list of elements\n",
      "==================================================\n",
      "[10, -12, 23, 51, -8]\n",
      "\n",
      "\n",
      "==================================================\n",
      "Positive Numbers in list = [10, 23, 51]\n",
      "==================================================\n",
      "\n",
      "\n",
      "Negative Numbers in list = [-12, -8]\n",
      "\n",
      "\n"
     ]
    }
   ],
   "source": [
    "#Program which will accept a list of numeric values. Separate positive values and negative values.\n",
    "#PosNegValue.py\n",
    "n = int(input(\"Enter how many values do you want to enter\"))\n",
    "if(n<=0):\n",
    "    print(\"{} is invalid input!!\\n Enter a +ve value\")\n",
    "else:\n",
    "    l=list() #create an empty list\n",
    "    for i in range(n):\n",
    "        val=int(input(\"Enter value {}: \".format(i)))\n",
    "        l.append(val)\n",
    "    else:\n",
    "        print(\"=\"*50)\n",
    "        print(\"Given list of elements\")\n",
    "        print(\"=\"*50)\n",
    "        print(l)\n",
    "        print(\"\\n\")\n",
    "        print(\"=\"*50)\n",
    "        pl=[]\n",
    "        nl=[]\n",
    "        for num in l:\n",
    "            if(num>=0):\n",
    "                pl.append(num)\n",
    "            else:\n",
    "                nl.append(num)\n",
    "        print(\"Positive Numbers in list = {}\".format(pl))\n",
    "        print(\"=\"*50)\n",
    "        print(\"\\n\")\n",
    "        print(\"Negative Numbers in list = {}\".format(nl))\n",
    "        print(\"\\n\")\n",
    "        "
   ]
  },
  {
   "cell_type": "code",
   "execution_count": 6,
   "id": "6fc4c7f0",
   "metadata": {},
   "outputs": [
    {
     "name": "stdout",
     "output_type": "stream",
     "text": [
      "Enter your age:5\n",
      "You are not yet of age to vote\n"
     ]
    }
   ],
   "source": [
    "#Program for accepting age of a citizen and decide eligibility to vote\n",
    "#VoterEx1.py\n",
    "age = int(input(\"Enter your age:\"))\n",
    "if(age>=18) and (age<=100):\n",
    "    print(\"You are eligible to cast your vote!!!\")\n",
    "else:\n",
    "    if(age<18):\n",
    "        print(\"You are not yet of age to vote\")\n",
    "    else:\n",
    "        print(\"You are too old to vote\")"
   ]
  }
 ],
 "metadata": {
  "kernelspec": {
   "display_name": "Python 3 (ipykernel)",
   "language": "python",
   "name": "python3"
  },
  "language_info": {
   "codemirror_mode": {
    "name": "ipython",
    "version": 3
   },
   "file_extension": ".py",
   "mimetype": "text/x-python",
   "name": "python",
   "nbconvert_exporter": "python",
   "pygments_lexer": "ipython3",
   "version": "3.9.16"
  }
 },
 "nbformat": 4,
 "nbformat_minor": 5
}
