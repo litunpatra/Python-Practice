{
 "cells": [
  {
   "cell_type": "markdown",
   "id": "da93f06c",
   "metadata": {},
   "source": [
    "### NOTE :\n",
    "- “**builtins**” is the ***default module*** that is **implicitly imported in EVERY Python program**, so no need to explicitly import it.\n",
    "- **filter( )** and **map( )** are defined within the **builtins** module\n",
    "- **reduce( )** is defined within the **functools** module, thus to use **reduce( )**, we need to       **explicitly import functools** module"
   ]
  },
  {
   "cell_type": "code",
   "execution_count": 6,
   "id": "5aee0c9f",
   "metadata": {},
   "outputs": [
    {
     "name": "stdout",
     "output_type": "stream",
     "text": [
      "How many random numbers you want to print?: 7\n",
      "Specify the max number (inclusive)till which you want to generate random numbers: 10\n",
      "Generated list elements are = [8, -1, 7, 8, -5, 1, 9]\n",
      "Squares of +ve Numbers are = [64, 49, 64, 1, 81]\n",
      "Cubes of -ve Numbers are = [-1, -125]\n"
     ]
    }
   ],
   "source": [
    "#  Write a python program which will accept list of numerical values and find\n",
    "##   squares for positive numbers and cubes for negative numbers\n",
    "\n",
    "#filtermapex1.py\n",
    "import random\n",
    "\n",
    "def randNumlist(n,lim):\n",
    "    num = []\n",
    "    for i in range(n):\n",
    "        rn = random.randint(-lim,lim)\n",
    "        num.append(rn)\n",
    "    print(\"Generated list elements are = {}\".format(num))\n",
    "    return num\n",
    "\n",
    "\n",
    "pos = lambda x : x>0\n",
    "neg = lambda x : x<0\n",
    "\n",
    "sqFun = lambda x : x**2\n",
    "cuFun = lambda x : x**3\n",
    "\n",
    "\n",
    "#main\n",
    "r = int(input(\"How many random numbers you want to print?: \"))\n",
    "m = int(input(\"Specify the max number (inclusive)\" + \\\n",
    "                 \"till which you want to generate random numbers: \"))\n",
    "lst = randNumlist(r,m)\n",
    "pl = list(filter(pos, lst))\n",
    "nl = list(filter(neg, lst))\n",
    "sq = list(map(sqFun,pl))\n",
    "cu = list(map(cuFun,nl))\n",
    "print(\"Squares of +ve Numbers are = {}\".format(sq))\n",
    "print(\"Cubes of -ve Numbers are = {}\".format(cu))"
   ]
  },
  {
   "cell_type": "code",
   "execution_count": 9,
   "id": "8db809b9",
   "metadata": {},
   "outputs": [
    {
     "name": "stdout",
     "output_type": "stream",
     "text": [
      "Enter a list of numbers separated by space: \n",
      "5 -2 7 1 9 -8 3\n",
      "Entered list of elements = [5, -2, 7, 1, 9, -8, 3]\n",
      "Square of +ve elements in list = [25, 49, 1, 81, 9]\n",
      "Cube of -ve elements in list = [-8, -512]\n"
     ]
    }
   ],
   "source": [
    "#  Write a python program which will accept list of numerical values and find\n",
    "##   squares for positive numbers and cubes for negative numbers\n",
    "\n",
    "#filtermapex2.py\n",
    "\n",
    "#main\n",
    "print(\"Enter a list of numbers separated by space: \")\n",
    "lst = [int(val) for val in input().split()]\n",
    "print(\"Entered list of elements = {}\".format(lst))\n",
    "sqlst = list(map(lambda x : x**2, list(filter(lambda y : y>0, lst))))\n",
    "cblst = list(map(lambda x : x**3, list(filter(lambda y : y<0, lst))))\n",
    "print(\"Square of +ve elements in list = {}\".format(sqlst))\n",
    "print(\"Cube of -ve elements in list = {}\".format(cblst))"
   ]
  },
  {
   "cell_type": "code",
   "execution_count": 12,
   "id": "b18da9c7",
   "metadata": {},
   "outputs": [
    {
     "name": "stdout",
     "output_type": "stream",
     "text": [
      "Enter a list of elements separated by space:\n",
      "2 -5 3 -7 15 9 -8\n",
      "Entered list = [2, -5, 3, -7, 15, 9, -8]\n",
      "Sum of +ve numbers in list = 29\n",
      "Sum of -ve numbers in list = -20\n"
     ]
    }
   ],
   "source": [
    "\"\"\" Write a python program which will accept list of values & finds the sum\n",
    "     of positive numerical and negative numerical values \"\"\"\n",
    "\n",
    "#reducefilterex1.py\n",
    "import functools as ft\n",
    "\n",
    "\n",
    "#main\n",
    "print(\"Enter a list of elements separated by space:\")\n",
    "lst = [int(val) for val in input().split()]\n",
    "print(\"Entered list = {}\".format(lst))\n",
    "possum = ft.reduce(lambda x,y : x+y, list(filter(lambda x : x>0, lst)))\n",
    "negsum = ft.reduce(lambda x,y : x+y, list(filter(lambda x : x<0, lst)))\n",
    "print(\"Sum of +ve numbers in list = {}\".format(possum))\n",
    "print(\"Sum of -ve numbers in list = {}\".format(negsum))"
   ]
  },
  {
   "cell_type": "code",
   "execution_count": 19,
   "id": "85758c2f",
   "metadata": {},
   "outputs": [
    {
     "name": "stdout",
     "output_type": "stream",
     "text": [
      "Enter a list of numbers (+ve/-ve) separated by space: \n",
      "2 -5 3 -8 9 4\n",
      "Entered list = [2, -5, 3, -8, 9, 4]\n",
      "==================================================\n",
      "Sum of Squares of +ve Numbers in List = 110\n",
      "Sum of Squares of -ve Numbers in List = 89\n",
      "==================================================\n"
     ]
    }
   ],
   "source": [
    "\"\"\" Write a python program which will accept list of values separated by space. \n",
    "Find sum of squares of positive numbers and sum of square of negative numbers. \"\"\"\n",
    "\n",
    "\n",
    "#reducemapfilterex.py\n",
    "import functools as ft\n",
    "\n",
    "pos = lambda x : x if x>0 else None\n",
    "neg = lambda x : x if x<0 else None\n",
    "\n",
    "sq = lambda x : x**2\n",
    "\n",
    "sumOp = lambda x,y : x+y\n",
    "\n",
    "#main\n",
    "print(\"Enter a list of numbers (+ve/-ve) separated by space: \")\n",
    "lst = [int(val) for val in input().split()]\n",
    "print(\"Entered list = {}\".format(lst))\n",
    "print(\"=\"*50)\n",
    "\n",
    "pl = list(filter(pos, lst))\n",
    "sopl = list(map(sq, pl))\n",
    "possum = ft.reduce(sumOp, sopl)\n",
    "print(\"Sum of Squares of +ve Numbers in List = {}\".format(possum))\n",
    "\n",
    "nl = list(filter(neg, lst))\n",
    "sonl = list(map(sq, nl))\n",
    "negsum = ft.reduce(sumOp, sonl)\n",
    "\n",
    "print(\"Sum of Squares of -ve Numbers in List = {}\".format(negsum))\n",
    "print(\"=\"*50)"
   ]
  },
  {
   "cell_type": "code",
   "execution_count": 20,
   "id": "5809e3bf",
   "metadata": {},
   "outputs": [
    {
     "name": "stdout",
     "output_type": "stream",
     "text": [
      "Enter a list of numbers (+ve/-ve) separated by space: \n",
      "2 -5 3 -8 9 4\n",
      "Entered list = [2, -5, 3, -8, 9, 4]\n",
      "==================================================\n",
      "Sum of Squares of +ve Numbers in List = 110\n",
      "Sum of Squares of -ve Numbers in List = 89\n",
      "==================================================\n"
     ]
    }
   ],
   "source": [
    "#reducemapfilterex.py\n",
    "import functools as ft\n",
    "\n",
    "#main\n",
    "print(\"Enter a list of numbers (+ve/-ve) separated by space: \")\n",
    "lst = [int(val) for val in input().split()]\n",
    "print(\"Entered list = {}\".format(lst))\n",
    "\n",
    "posSumSq = ft.reduce(lambda x,y:x+y, list(map(lambda x:x**2, list(filter(lambda x:x>0, lst)))))\n",
    "negSumSq = ft.reduce(lambda x,y:x+y, list(map(lambda x:x**2, list(filter(lambda x:x<0, lst)))))\n",
    "print(\"=\"*50)\n",
    "print(\"Sum of Squares of +ve Numbers in List = {}\".format(posSumSq))\n",
    "print(\"Sum of Squares of -ve Numbers in List = {}\".format(negSumSq))\n",
    "print(\"=\"*50)"
   ]
  },
  {
   "cell_type": "code",
   "execution_count": 23,
   "id": "ff989dd4",
   "metadata": {},
   "outputs": [
    {
     "name": "stdout",
     "output_type": "stream",
     "text": [
      "Enter list of numbers (+ve/-ve) separated by space for List - 1: \n",
      "10 20 30\n",
      "1st list = [10, 20, 30]\n",
      "===========================================================================\n",
      "Enter list of numbers (+ve/-ve) separated by space for List - 2: \n",
      "1 2 3\n",
      "2nd list = [1, 2, 3]\n",
      "===========================================================================\n",
      "Sum([10, 20, 30], [1, 2, 3]) = [11, 22, 33]\n",
      "===========================================================================\n"
     ]
    }
   ],
   "source": [
    "#Program to add the content of 2 list objects\n",
    "#mapex.py\n",
    "\n",
    "#main\n",
    "print(\"Enter list of numbers (+ve/-ve) separated by space for List - 1: \")\n",
    "lst1 = [int(val) for val in input().split()]\n",
    "print(\"1st list = {}\".format(lst1))\n",
    "print(\"=\"*75)\n",
    "\n",
    "print(\"Enter list of numbers (+ve/-ve) separated by space for List - 2: \")\n",
    "lst2 = [int(val) for val in input().split()]\n",
    "print(\"2nd list = {}\".format(lst2))\n",
    "print(\"=\"*75)\n",
    "\n",
    "lsum = list(map(lambda x,y:x+y, lst1, lst2))\n",
    "print(\"Sum({}, {}) = {}\".format(lst1, lst2, lsum))\n",
    "print(\"=\"*75)"
   ]
  },
  {
   "cell_type": "code",
   "execution_count": null,
   "id": "5f6cc104",
   "metadata": {},
   "outputs": [],
   "source": []
  }
 ],
 "metadata": {
  "kernelspec": {
   "display_name": "Python 3 (ipykernel)",
   "language": "python",
   "name": "python3"
  },
  "language_info": {
   "codemirror_mode": {
    "name": "ipython",
    "version": 3
   },
   "file_extension": ".py",
   "mimetype": "text/x-python",
   "name": "python",
   "nbconvert_exporter": "python",
   "pygments_lexer": "ipython3",
   "version": "3.11.0"
  }
 },
 "nbformat": 4,
 "nbformat_minor": 5
}
