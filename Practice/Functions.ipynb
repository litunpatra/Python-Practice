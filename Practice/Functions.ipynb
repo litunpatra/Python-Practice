{
 "cells": [
  {
   "cell_type": "code",
   "execution_count": 1,
   "id": "a53fc0b7",
   "metadata": {},
   "outputs": [
    {
     "name": "stdout",
     "output_type": "stream",
     "text": [
      "Enter 1st operand:20\n",
      "Enter 2nd operand:32\n",
      "Sum(20.0, 32.0) = 52.0\n"
     ]
    }
   ],
   "source": [
    "#add1.py\n",
    "def addop(a,b):\n",
    "    return a+b\n",
    "\n",
    "#main\n",
    "x=float(input(\"Enter 1st operand:\"))\n",
    "y=float(input(\"Enter 2nd operand:\"))\n",
    "sum=addop(x,y)\n",
    "print(\"Sum({}, {}) = {}\".format(x,y,x+y))"
   ]
  },
  {
   "cell_type": "code",
   "execution_count": 2,
   "id": "6cd974fc",
   "metadata": {},
   "outputs": [
    {
     "name": "stdout",
     "output_type": "stream",
     "text": [
      "Enter 1st operand: 10\n",
      "Enter 2nd operand: 20\n",
      "Sum(10, 20) = 30\n",
      "==================================================\n",
      "Enter 1st operand: 25\n",
      "Enter 2nd operand: 20\n",
      "Sum(25, 20) = 45\n"
     ]
    }
   ],
   "source": [
    "#add2.py\n",
    "def addop():\n",
    "    a=int(input(\"Enter 1st operand: \"))\n",
    "    b=int(input(\"Enter 2nd operand: \"))\n",
    "    c=a+b\n",
    "    return a,b,c\n",
    "\n",
    "#main\n",
    "x,y,res=addop()\n",
    "print(\"Sum({}, {}) = {}\".format(x,y,res))\n",
    "print(\"=\"*50)\n",
    "result=addop()\n",
    "print(\"Sum({}, {}) = {}\".format(result[0],result[1],result[2]))"
   ]
  },
  {
   "cell_type": "code",
   "execution_count": 12,
   "id": "0cc99da1",
   "metadata": {},
   "outputs": [
    {
     "name": "stdout",
     "output_type": "stream",
     "text": [
      "Program to find index of an element in a list\n",
      "==================================================\n",
      "\n",
      "Enter a list of values separated by space: \n",
      "10 -2 13 5 -8\n",
      "Enter the value you want to search: 12\n",
      "No match found\n"
     ]
    }
   ],
   "source": [
    "#findElementIndex.py\n",
    "def readValues():\n",
    "    print(\"\\nEnter a list of values separated by space: \")\n",
    "    lst = [int(val) for val in input().split()]\n",
    "    return lst\n",
    "\n",
    "def findIndex():\n",
    "    a = readValues()\n",
    "    key = int(input(\"Enter the value you want to search: \"))\n",
    "    for i in range(len(a)):\n",
    "        if(key==a[i]):\n",
    "            print(\"{} found at index {} of the list\".format(key,i))\n",
    "            break\n",
    "    else:\n",
    "        print(\"No match found\")\n",
    "\n",
    "#main\n",
    "print(\"Program to find index of an element in a list\")\n",
    "print(\"=\"*50)\n",
    "findIndex()"
   ]
  },
  {
   "cell_type": "code",
   "execution_count": 3,
   "id": "1803300f",
   "metadata": {},
   "outputs": [
    {
     "data": {
      "text/plain": [
       "2"
      ]
     },
     "execution_count": 3,
     "metadata": {},
     "output_type": "execute_result"
    }
   ],
   "source": [
    "l=[10,2,5,15,3]\n",
    "l.index(5)"
   ]
  },
  {
   "cell_type": "code",
   "execution_count": 3,
   "id": "ea420e9f",
   "metadata": {},
   "outputs": [
    {
     "name": "stdout",
     "output_type": "stream",
     "text": [
      "Enter a list of values separated by space: \n",
      "5 2 -8 6 12\n",
      "1423308397632\n",
      "1423308397632\n",
      "1423308397632\n",
      "Elements sorted in Ascending Order = [12, 6, 5, 2, -8]\n",
      "Elements sorted in Descending Order = [12, 6, 5, 2, -8]\n"
     ]
    }
   ],
   "source": [
    "#sortingEx.py\n",
    "def readValues():\n",
    "    print(\"Enter a list of values separated by space: \")\n",
    "    lst = [int(val) for val in input().split()]\n",
    "    return lst\n",
    "\n",
    "def ascSort(al):\n",
    "    al.sort()\n",
    "    print(id(al))\n",
    "    return al\n",
    "\n",
    "def desSort(dl):\n",
    "    dl.sort(reverse=True)\n",
    "    print(id(dl))\n",
    "    return dl\n",
    "\n",
    "#main\n",
    "l1=readValues()\n",
    "print(id(l1))\n",
    "l2=ascSort(l1)\n",
    "l3=desSort(l1)\n",
    "print(\"Elements sorted in Ascending Order = {}\".format(l2))\n",
    "print(\"Elements sorted in Descending Order = {}\".format(l3))"
   ]
  },
  {
   "cell_type": "markdown",
   "id": "923bda04",
   "metadata": {},
   "source": [
    "- When \"**a list**\" is passed as actual argument to the function definition, the formal parameters in the function heading assume the same address as that of the actual argument, through a **Deep Copy operation internally**."
   ]
  },
  {
   "cell_type": "code",
   "execution_count": 9,
   "id": "9d001899",
   "metadata": {},
   "outputs": [
    {
     "name": "stdout",
     "output_type": "stream",
     "text": [
      "Enter a list of values separated by space: \n",
      "20 10 -3 6 25\n",
      "1423309849920\n",
      "1423310072896\n",
      "Elements sorted in Ascending Order = [-3, 6, 10, 20, 25]\n",
      "1423310034816\n",
      "Elements sorted in Descending Order = [25, 20, 10, 6, -3]\n"
     ]
    }
   ],
   "source": [
    "#sortingEx.py\n",
    "def readValues():\n",
    "    print(\"Enter a list of values separated by space: \")\n",
    "    lst = [int(val) for val in input().split()]\n",
    "    return lst\n",
    "\n",
    "def ascSort(al):\n",
    "    al.sort()\n",
    "    print(id(al))\n",
    "    return al\n",
    "\n",
    "def desSort(dl):\n",
    "    dl.sort(reverse=True)\n",
    "    print(id(dl))\n",
    "    return dl\n",
    "\n",
    "#main\n",
    "l1=readValues()\n",
    "print(id(l1))\n",
    "l2=l1.copy()\n",
    "l3=l1.copy()\n",
    "\n",
    "print(\"Elements sorted in Ascending Order = {}\".format(ascSort(l2)))\n",
    "print(\"Elements sorted in Descending Order = {}\".format(desSort(l3)))"
   ]
  },
  {
   "cell_type": "code",
   "execution_count": 18,
   "id": "43fb2a5f",
   "metadata": {
    "scrolled": true
   },
   "outputs": [
    {
     "name": "stdout",
     "output_type": "stream",
     "text": [
      "How many numbers do you want to enter = 5\n",
      "Enter 5 elements now: \n",
      "Enter value 1 = 20\n",
      "Enter value 2 = -5\n",
      "Enter value 3 = 12\n",
      "Enter value 4 = -15\n",
      "Enter value 5 = 25\n",
      "Entered list is = [20, -5, 12, -15, 25]\n",
      "==================================================\n",
      "List in Ascending Order = [-15, -5, 12, 20, 25]\n",
      "List in Descending Order = [25, 20, 12, -5, -15]\n",
      "==================================================\n"
     ]
    }
   ],
   "source": [
    "#sortingEx2.py\n",
    "n = int(input(\"How many numbers do you want to enter = \"))\n",
    "if(n<0):\n",
    "    print(\"Nothing Entered, Please enter something!!!\")\n",
    "else:\n",
    "    lst=[]\n",
    "    print(\"Enter {} elements now: \".format(n))\n",
    "    for i in range(n):\n",
    "        val=int(input(\"Enter value {} = \".format(i+1)))\n",
    "        lst.append(val)\n",
    "    print(\"Entered list is = {}\".format(lst))\n",
    "    print(\"=\"*50)\n",
    "    lst.sort()\n",
    "    print(\"List in Ascending Order = {}\".format(lst))\n",
    "    lst.sort(reverse=True)\n",
    "    print(\"List in Descending Order = {}\".format(lst))\n",
    "    print(\"=\"*50)"
   ]
  }
 ],
 "metadata": {
  "kernelspec": {
   "display_name": "Python 3 (ipykernel)",
   "language": "python",
   "name": "python3"
  },
  "language_info": {
   "codemirror_mode": {
    "name": "ipython",
    "version": 3
   },
   "file_extension": ".py",
   "mimetype": "text/x-python",
   "name": "python",
   "nbconvert_exporter": "python",
   "pygments_lexer": "ipython3",
   "version": "3.11.0"
  }
 },
 "nbformat": 4,
 "nbformat_minor": 5
}
