{
 "cells": [
  {
   "cell_type": "markdown",
   "id": "3a46f857",
   "metadata": {},
   "source": [
    "### filter()\n",
    "**filter()** is used for \"Filtering out some elements from a list of elements(iterable object) by passing the iterable object as an argument to a function\".\n",
    "\n",
    "#### Syntax:\n",
    "**varName = filter(FunctionName, Iterable_object)**\n",
    "\n",
    "#### Explanation:\n",
    "- '**varName**' is an **object of type <class,'filter'>** and we can convert it into any iteratable object by using type-casting functions\n",
    "- \"**FunctionName**\" represents either **Normal function or Anonymous functions**\n",
    "- \"**Iterable_object**\" represents **Sequence, list, tuple, set** and **dict** type variables\n",
    "- The execution process of filter() is as follows - \n",
    "  - \"**Each value of Iterable Object**\" is sent to the function, **Function Name.**\n",
    "    - If the function returns **True** then the **element is filtered**\n",
    "    - if the function returns **False** then that **element is neglected/not filtered**\n",
    "    - This process will be continued until all elements of Iterable object are exhausted"
   ]
  },
  {
   "cell_type": "code",
   "execution_count": 1,
   "id": "7e6b98f3",
   "metadata": {},
   "outputs": [
    {
     "name": "stdout",
     "output_type": "stream",
     "text": [
      "Enter a list of values separated by space:\n",
      "10 -5 20 25 -8 -12 23 32 -25\n",
      "<filter object at 0x000002024F87A190> <class 'filter'>\n",
      "Original Elements = [10, -5, 20, 25, -8, -12, 23, 32, -25]\n",
      "Positive Elements = [10, 20, 25, 23, 32]\n",
      "<filter object at 0x000002024F87A7C0> <class 'filter'>\n",
      "Negative Elements =  (-5, -8, -12, -25)\n"
     ]
    }
   ],
   "source": [
    "#Program for filtering Positive Elements from list of elements by using Normal Functions\n",
    "#FilterEx1.py\n",
    "def pos(n):\n",
    "    if(n>0):\n",
    "        return True\n",
    "    else:\n",
    "        return False\n",
    "\n",
    "def neg(n):\n",
    "    if(n<0):\n",
    "        return True\n",
    "    else:\n",
    "        return False\n",
    "    \n",
    "#main\n",
    "print(\"Enter a list of values separated by space:\")\n",
    "lst = [int(val) for val in input().split()]\n",
    "\n",
    "fo1 = filter(pos,lst)\n",
    "print(fo1,type(fo1))\n",
    "pslist = list(fo1)\n",
    "print(\"Original Elements = {}\".format(lst))\n",
    "print(\"Positive Elements = {}\".format(pslist))\n",
    "\n",
    "fo2 = filter(neg,lst)\n",
    "print(fo2,type(fo2))\n",
    "nglist = tuple(fo2)\n",
    "print(\"Negative Elements = \",nglist)\n"
   ]
  },
  {
   "cell_type": "code",
   "execution_count": 1,
   "id": "b7146413",
   "metadata": {},
   "outputs": [
    {
     "name": "stdout",
     "output_type": "stream",
     "text": [
      "Enter the List of elements separated by space:\n",
      "5 -2 9 -10 15 25 -18\n",
      "##################################################\n",
      "Positive Elements = [5, 9, 15, 25]\n",
      "Negative Elements = (-2, -10, -18)\n",
      "##################################################\n"
     ]
    }
   ],
   "source": [
    "#Program for filtering Positive and Negative Elements from list of elements by using Anonymous Functions\n",
    "#FilterEx2.py\n",
    "pos = lambda n : n>0\n",
    "neg = lambda n : n<0\n",
    "\n",
    "#main:\n",
    "print(\"Enter the List of elements separated by space:\")\n",
    "lst = [int(val) for val in input().split()]\n",
    "pslist = list(filter(pos,lst))\n",
    "nslist = tuple(filter(neg,lst))\n",
    "\n",
    "print(\"#\"*50)\n",
    "print(\"Positive Elements = {}\".format(pslist))\n",
    "print(\"Negative Elements = {}\".format(nslist))\n",
    "print(\"#\"*50)"
   ]
  },
  {
   "cell_type": "code",
   "execution_count": 2,
   "id": "ea09b451",
   "metadata": {},
   "outputs": [
    {
     "name": "stdout",
     "output_type": "stream",
     "text": [
      "Enter a list of +ve & -ve elements:\n",
      "10 20 -45 -23 -2 12 -6 78 0 23\n",
      "Positive Elements = [10, 20, 12, 78, 23]\n",
      "Negative Elements = (-45, -23, -2, -6)\n"
     ]
    }
   ],
   "source": [
    "#Program for filtering Positive and Negative Elements from list of elements by using Anonymous Functions\n",
    "#FilterEx3.py\n",
    "def posNeg():\n",
    "    print(\"Enter a list of +ve & -ve elements:\")\n",
    "    lst=[int(val) for val in input().split()]\n",
    "    pslst = list(filter(lambda n : n>0, lst))\n",
    "    nslst = tuple(filter(lambda n : n<0, lst))\n",
    "    print(\"Positive Elements = {}\".format(pslst))\n",
    "    print(\"Negative Elements = {}\".format(nslst))\n",
    "\n",
    "\n",
    "\n",
    "#main:\n",
    "posNeg()"
   ]
  },
  {
   "cell_type": "code",
   "execution_count": 5,
   "id": "79b79d52",
   "metadata": {},
   "outputs": [
    {
     "name": "stdout",
     "output_type": "stream",
     "text": [
      "Enter a list of elements:\n",
      "5 2 11 32 8 15 7\n",
      "Original Elements = [5, 2, 11, 32, 8, 15, 7]\n",
      "Even Elements = [2, 32, 8]\n",
      "Odd Elements = [5, 11, 15, 7]\n"
     ]
    }
   ],
   "source": [
    "#Program for filtering Odd and Even Elements from list of elements by using Anonymous Functions and Normal Functions.\n",
    "#FilterEx4.py\n",
    "def even(n):\n",
    "    if(n%2 == 0):\n",
    "        return n\n",
    "odd = lambda n:n%2 != 0\n",
    "\n",
    "#main\n",
    "print(\"Enter a list of elements:\")\n",
    "lst = [int(val) for val in input().split()]\n",
    "evenList = list(filter(even,lst))\n",
    "oddList = list(filter(odd,lst))\n",
    "print(\"Original Elements = {}\".format(lst))\n",
    "print(\"Even Elements = {}\".format(evenList))\n",
    "print(\"Odd Elements = {}\".format(oddList))"
   ]
  },
  {
   "cell_type": "code",
   "execution_count": 6,
   "id": "8f2a0203",
   "metadata": {},
   "outputs": [
    {
     "name": "stdout",
     "output_type": "stream",
     "text": [
      "Enter a list of characters separated by comma:\n",
      "'d','f','a','i','r','u','l','o' \n"
     ]
    },
    {
     "ename": "TypeError",
     "evalue": "unsupported operand type(s) for |: 'str' and 'str'",
     "output_type": "error",
     "traceback": [
      "\u001b[1;31m---------------------------------------------------------------------------\u001b[0m",
      "\u001b[1;31mTypeError\u001b[0m                                 Traceback (most recent call last)",
      "\u001b[1;32m~\\AppData\\Local\\Temp\\ipykernel_10952\\3916077621.py\u001b[0m in \u001b[0;36m<module>\u001b[1;34m\u001b[0m\n\u001b[0;32m     10\u001b[0m \u001b[0mprint\u001b[0m\u001b[1;33m(\u001b[0m\u001b[1;34m\"Enter a list of characters separated by comma:\"\u001b[0m\u001b[1;33m)\u001b[0m\u001b[1;33m\u001b[0m\u001b[1;33m\u001b[0m\u001b[0m\n\u001b[0;32m     11\u001b[0m \u001b[0mcl\u001b[0m \u001b[1;33m=\u001b[0m \u001b[1;33m[\u001b[0m\u001b[0mch\u001b[0m \u001b[1;32mfor\u001b[0m \u001b[0mch\u001b[0m \u001b[1;32min\u001b[0m \u001b[0minput\u001b[0m\u001b[1;33m(\u001b[0m\u001b[1;33m)\u001b[0m\u001b[1;33m.\u001b[0m\u001b[0msplit\u001b[0m\u001b[1;33m(\u001b[0m\u001b[1;34m\",\"\u001b[0m\u001b[1;33m)\u001b[0m\u001b[1;33m]\u001b[0m\u001b[1;33m\u001b[0m\u001b[1;33m\u001b[0m\u001b[0m\n\u001b[1;32m---> 12\u001b[1;33m \u001b[0mconsL\u001b[0m \u001b[1;33m=\u001b[0m \u001b[0mlist\u001b[0m\u001b[1;33m(\u001b[0m\u001b[0mfilter\u001b[0m\u001b[1;33m(\u001b[0m\u001b[0mconsonant\u001b[0m\u001b[1;33m,\u001b[0m \u001b[0mcl\u001b[0m\u001b[1;33m)\u001b[0m\u001b[1;33m)\u001b[0m\u001b[1;33m\u001b[0m\u001b[1;33m\u001b[0m\u001b[0m\n\u001b[0m\u001b[0;32m     13\u001b[0m \u001b[0mvwl\u001b[0m \u001b[1;33m=\u001b[0m \u001b[0mtuple\u001b[0m\u001b[1;33m(\u001b[0m\u001b[0mfilter\u001b[0m\u001b[1;33m(\u001b[0m\u001b[0mvowel\u001b[0m\u001b[1;33m,\u001b[0m \u001b[0mcl\u001b[0m\u001b[1;33m)\u001b[0m\u001b[1;33m)\u001b[0m\u001b[1;33m\u001b[0m\u001b[1;33m\u001b[0m\u001b[0m\n\u001b[0;32m     14\u001b[0m \u001b[0mprint\u001b[0m\u001b[1;33m(\u001b[0m\u001b[1;34m\"Vowels = {}\"\u001b[0m\u001b[1;33m.\u001b[0m\u001b[0mformat\u001b[0m\u001b[1;33m(\u001b[0m\u001b[0mvwl\u001b[0m\u001b[1;33m)\u001b[0m\u001b[1;33m)\u001b[0m\u001b[1;33m\u001b[0m\u001b[1;33m\u001b[0m\u001b[0m\n",
      "\u001b[1;32m~\\AppData\\Local\\Temp\\ipykernel_10952\\3916077621.py\u001b[0m in \u001b[0;36mconsonant\u001b[1;34m(n)\u001b[0m\n\u001b[0;32m      2\u001b[0m \u001b[1;31m#FilterEx5.py\u001b[0m\u001b[1;33m\u001b[0m\u001b[1;33m\u001b[0m\u001b[0m\n\u001b[0;32m      3\u001b[0m \u001b[1;32mdef\u001b[0m \u001b[0mconsonant\u001b[0m\u001b[1;33m(\u001b[0m\u001b[0mn\u001b[0m\u001b[1;33m)\u001b[0m\u001b[1;33m:\u001b[0m\u001b[1;33m\u001b[0m\u001b[1;33m\u001b[0m\u001b[0m\n\u001b[1;32m----> 4\u001b[1;33m     \u001b[1;32mif\u001b[0m\u001b[1;33m(\u001b[0m\u001b[0mn\u001b[0m \u001b[1;33m!=\u001b[0m \u001b[1;34m'a'\u001b[0m\u001b[1;33m|\u001b[0m\u001b[1;34m'e'\u001b[0m\u001b[1;33m|\u001b[0m\u001b[1;34m'i'\u001b[0m\u001b[1;33m|\u001b[0m\u001b[1;34m'o'\u001b[0m\u001b[1;33m|\u001b[0m\u001b[1;34m'e'\u001b[0m\u001b[1;33m)\u001b[0m\u001b[1;33m:\u001b[0m\u001b[1;33m\u001b[0m\u001b[1;33m\u001b[0m\u001b[0m\n\u001b[0m\u001b[0;32m      5\u001b[0m         \u001b[1;32mreturn\u001b[0m \u001b[0mn\u001b[0m\u001b[1;33m\u001b[0m\u001b[1;33m\u001b[0m\u001b[0m\n\u001b[0;32m      6\u001b[0m \u001b[1;33m\u001b[0m\u001b[0m\n",
      "\u001b[1;31mTypeError\u001b[0m: unsupported operand type(s) for |: 'str' and 'str'"
     ]
    }
   ],
   "source": [
    "#Write a python program which will accept a line of text and obtains list of vowels by using filter()\n",
    "#FilterEx5.py\n",
    "def consonant(n):\n",
    "    if(n != 'a'|'e'|'i'|'o'|'e'):\n",
    "        return n\n",
    "\n",
    "vowel = lambda n : n == 'a'|'e'|'i'|'o'|'e'\n",
    "\n",
    "#main\n",
    "print(\"Enter a list of characters separated by comma:\")\n",
    "cl = [ch for ch in input().split(\",\")]\n",
    "consL = list(filter(consonant, cl))\n",
    "vwl = tuple(filter(vowel, cl))\n",
    "print(\"Vowels = {}\".format(vwl))\n",
    "print(\"Consonent = {}\".format(consL))"
   ]
  },
  {
   "cell_type": "code",
   "execution_count": 12,
   "id": "0305df5a",
   "metadata": {},
   "outputs": [
    {
     "name": "stdout",
     "output_type": "stream",
     "text": [
      "Enter a list of characters separated by comma:\n",
      "g,U,Y,o,P,i,r,E\n",
      "Vowels = ('U', 'o', 'i', 'E')\n",
      "Total Number of Vowels in entered list = 4\n",
      "Consonant = ['g', 'Y', 'P', 'r']\n",
      "Total Number of Consonants in entered list = 4\n"
     ]
    }
   ],
   "source": [
    "#Write a python program which will accept a line of text and obtains list of vowels by using filter()\n",
    "#FilterEx5.py\n",
    "def consonant(n):\n",
    "    if(n not in (\"a\",\"e\",\"i\",\"o\",\"u\",'A','E','I','O','U')):\n",
    "        return n\n",
    "\n",
    "vowel = lambda n : n in [\"a\",\"e\",\"i\",\"o\",\"u\",'A','E','I','O','U']\n",
    "\n",
    "#main\n",
    "print(\"Enter a list of characters separated by comma:\")\n",
    "cl = [ch for ch in input().split(\",\")]\n",
    "consL = list(filter(consonant, cl))\n",
    "vwl = tuple(filter(vowel, cl))\n",
    "print(\"Vowels = {}\".format(vwl))\n",
    "print(\"Total Number of Vowels in entered list = {}\".format(len(vwl)))\n",
    "print(\"Consonant = {}\".format(consL))\n",
    "print(\"Total Number of Consonants in entered list = {}\".format(len(consL)))"
   ]
  },
  {
   "cell_type": "code",
   "execution_count": 15,
   "id": "f62934ee",
   "metadata": {},
   "outputs": [
    {
     "name": "stdout",
     "output_type": "stream",
     "text": [
      "Enter a list of numbers separated by comma:\n",
      "11,2,6,5,8,16,23,45,85,14,34,62\n",
      "Even List = {2, 34, 6, 8, 14, 16, 62}\n",
      "Odd List = {5, 11, 45, 85, 23}\n"
     ]
    }
   ],
   "source": [
    "#evenodd.py\n",
    "print(\"Enter a list of numbers separated by comma:\")\n",
    "nl = [int(val) for val in input().split(\",\")]\n",
    "\n",
    "el = lambda n:n%2 == 0\n",
    "ol = lambda n:n%2 != 0\n",
    "\n",
    "print(\"Even List = {}\".format(set(filter(el,nl))))\n",
    "print(\"Odd List = {}\".format(set(filter(ol,nl))))"
   ]
  },
  {
   "cell_type": "code",
   "execution_count": 19,
   "id": "2caac036",
   "metadata": {},
   "outputs": [
    {
     "name": "stdout",
     "output_type": "stream",
     "text": [
      "Enter a list of numbers separated by space: \n",
      "10 2 3 8 9 17 27\n",
      "List of Prime Numbers = [2, 3, 17]\n"
     ]
    }
   ],
   "source": [
    "#primecheck1.py\n",
    "def prime(n):\n",
    "    factL = list()\n",
    "    if(n>0):\n",
    "        for i in range(2,n):\n",
    "            if n%i == 0:\n",
    "                factL.append(i)\n",
    "    no_of_fact = len(factL)\n",
    "    if(no_of_fact == 0):\n",
    "        return n\n",
    "\n",
    "\n",
    "\n",
    "#main:\n",
    "print(\"Enter a list of numbers separated by space: \")\n",
    "num = [int(val) for val in input().split()]\n",
    "pl = list(filter(prime,num))\n",
    "print(\"List of Prime Numbers = {}\".format(pl))"
   ]
  },
  {
   "cell_type": "code",
   "execution_count": 33,
   "id": "0708796d",
   "metadata": {},
   "outputs": [
    {
     "name": "stdout",
     "output_type": "stream",
     "text": [
      "Enter a list of numbers separated by space: \n",
      "10 8 9 17 27 45 77 \n",
      "List of Prime Numbers = [17]\n",
      "List of Composite Numbers = (10, 8, 9, 27, 45, 77)\n"
     ]
    }
   ],
   "source": [
    "#primecheck2.py\n",
    "isPrime = lambda n : n if((len([i for i in range(2,n) if(n%i == 0)])) == 0 and n>0) else None \n",
    "###isPrime = lambda n: n if len([i for i in range(2, n) if n % i == 0]) == 0 and n > 0 else None\n",
    "def notP(n):\n",
    "    np=[]\n",
    "    if(n>0):\n",
    "        for i in range(2,n):\n",
    "            if(n%i == 0):\n",
    "                return n\n",
    "                break\n",
    "        \n",
    "                              \n",
    "                \n",
    "\n",
    "#main:\n",
    "print(\"Enter a list of numbers separated by space: \")\n",
    "num = [int(val) for val in input().split()]\n",
    "pl = list(filter(isPrime,num))\n",
    "print(\"List of Prime Numbers = {}\".format(pl))\n",
    "npl = tuple(filter(notP,num))\n",
    "print(\"List of Composite Numbers = {}\".format(npl))"
   ]
  },
  {
   "cell_type": "code",
   "execution_count": null,
   "id": "f06a4ed9",
   "metadata": {},
   "outputs": [],
   "source": [
    "10 8 9 17 27 45 77 "
   ]
  }
 ],
 "metadata": {
  "kernelspec": {
   "display_name": "Python 3 (ipykernel)",
   "language": "python",
   "name": "python3"
  },
  "language_info": {
   "codemirror_mode": {
    "name": "ipython",
    "version": 3
   },
   "file_extension": ".py",
   "mimetype": "text/x-python",
   "name": "python",
   "nbconvert_exporter": "python",
   "pygments_lexer": "ipython3",
   "version": "3.11.0"
  }
 },
 "nbformat": 4,
 "nbformat_minor": 5
}
