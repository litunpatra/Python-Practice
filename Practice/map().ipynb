{
 "cells": [
  {
   "cell_type": "markdown",
   "id": "45a3973a",
   "metadata": {},
   "source": [
    "### map()\n",
    "\n",
    "- map() is used for **obtaining a new iterable object** from **existing iterable object** by passing old iterable elements to the function\n",
    "- map() obtains a new list of elements from existing old list of elements by applying the old list to the function\n",
    "- The map() function executes a specified function for each item in an iterable. The item is sent to the function as a parameter.\n",
    "- Syntax:-\n",
    "  - **varname** = **map(functionName, iterable_Object)**\n",
    "    - here 'varname' is an object of type **<class 'map'>** and we can convert into any iteratable object by using type-casting functions \n",
    "    - \"**functionName**\" represents either **Normal function** or **Anonymous functions**\n",
    "    - \"**Iterable_Object**\" represents Iterables like:- list, tuple, set and dict types\n",
    "\n",
    "- Execution Process:\n",
    "    - map() sends every element of iterable object to the specified function, which processes it and returns the modified value (result) and obtains a new list of elements\n",
    "    - This process will be continued until all elements of iterable_Object are passed to the function named \"functionName\""
   ]
  },
  {
   "cell_type": "code",
   "execution_count": 3,
   "id": "c24b87f0",
   "metadata": {},
   "outputs": [
    {
     "name": "stdout",
     "output_type": "stream",
     "text": [
      "Enter a list of elements separated by space:\n",
      "22 10 5 17 35\n",
      "<map object at 0x0000022BEEA1BCA0> <class 'map'>\n",
      "Original List =  [22, 10, 5, 17, 35]\n",
      "Squared List =  [484, 100, 25, 289, 1225]\n"
     ]
    }
   ],
   "source": [
    "#Program for obtaining Square for every element of list by using map() with Normal Function\n",
    "#mapex1.py\n",
    "sqLst = lambda x : x**2\n",
    "    \n",
    "#main:\n",
    "print(\"Enter a list of elements separated by space:\")\n",
    "lst = [int(val) for val in input().split()]\n",
    "m1 = map(sqLst,lst)\n",
    "print(m1, type(m1))\n",
    "m2 = list(map(sqLst,lst))\n",
    "print(\"Original List = \",lst)\n",
    "print(\"Squared List = \", m2)"
   ]
  },
  {
   "cell_type": "code",
   "execution_count": 4,
   "id": "7ac8e0f7",
   "metadata": {},
   "outputs": [
    {
     "name": "stdout",
     "output_type": "stream",
     "text": [
      "Enter a list of elements separated by space:\n",
      "5 2 8 6 9\n",
      "<map object at 0x0000022BEE9F49D0> <class 'map'>\n",
      "Original List =  [5, 2, 8, 6, 9]\n",
      "Squared List =  [25, 4, 64, 36, 81]\n"
     ]
    }
   ],
   "source": [
    "#Program for obtaining Square for every element of list by using map() with Normal Function\n",
    "#mapex2.py\n",
    "def sq(n):\n",
    "    return n**2\n",
    "    \n",
    "#main:\n",
    "print(\"Enter a list of elements separated by space:\")\n",
    "lst = [int(val) for val in input().split()]\n",
    "m1 = map(sq,lst)\n",
    "print(m1, type(m1))\n",
    "m2 = list(map(sq,lst))\n",
    "print(\"Original List = \",lst)\n",
    "print(\"Squared List = \", m2)"
   ]
  },
  {
   "cell_type": "code",
   "execution_count": 5,
   "id": "a1e7224d",
   "metadata": {},
   "outputs": [
    {
     "name": "stdout",
     "output_type": "stream",
     "text": [
      "Enter a list of elements separated by space:\n",
      "5 8 4 2 9\n",
      "<map object at 0x0000022BEE541EA0> <class 'map'>\n",
      "Original List =  [5, 8, 4, 2, 9]\n",
      "Squared List =  [25, 64, 16, 4, 81]\n"
     ]
    }
   ],
   "source": [
    "#Program for obtaining Square for every element of list by using map() with Normal Function\n",
    "#mapex3.py\n",
    "    \n",
    "#main:\n",
    "print(\"Enter a list of elements separated by space:\")\n",
    "lst = [int(val) for val in input().split()]\n",
    "m1 = map(lambda x : x**2, lst)\n",
    "print(m1, type(m1))\n",
    "m2 = list(map(lambda x : x**2, lst))\n",
    "print(\"Original List = \",lst)\n",
    "print(\"Squared List = \", m2)"
   ]
  },
  {
   "cell_type": "code",
   "execution_count": 7,
   "id": "535fd7bc",
   "metadata": {},
   "outputs": [
    {
     "name": "stdout",
     "output_type": "stream",
     "text": [
      "Enter a list of salaries separated by space:\n",
      "20 12 5 32 8\n",
      "Original Salaries =  [20, 12, 5, 32, 8]\n",
      "Incremented Salaries =  [22.0, 13.2, 5.5, 35.2, 8.8]\n"
     ]
    }
   ],
   "source": [
    "#Program for obtaining new sal list from oldsal list by giving 10% hike by using map()\n",
    "#mapex4.py\n",
    "incSal = lambda n : n + 0.1*n\n",
    "\n",
    "#main:\n",
    "print(\"Enter a list of salaries separated by space:\")\n",
    "oldSal = [int(val) for val in input().split()]\n",
    "newSal = list(map(incSal, oldSal))\n",
    "\n",
    "print(\"Original Salaries = \",oldSal)\n",
    "print(\"Incremented Salaries = \", newSal)"
   ]
  }
 ],
 "metadata": {
  "kernelspec": {
   "display_name": "Python 3 (ipykernel)",
   "language": "python",
   "name": "python3"
  },
  "language_info": {
   "codemirror_mode": {
    "name": "ipython",
    "version": 3
   },
   "file_extension": ".py",
   "mimetype": "text/x-python",
   "name": "python",
   "nbconvert_exporter": "python",
   "pygments_lexer": "ipython3",
   "version": "3.11.0"
  }
 },
 "nbformat": 4,
 "nbformat_minor": 5
}
