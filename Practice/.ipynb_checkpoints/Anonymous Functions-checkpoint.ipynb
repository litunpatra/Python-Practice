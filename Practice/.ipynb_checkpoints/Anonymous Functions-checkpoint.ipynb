{
 "cells": [
  {
   "cell_type": "markdown",
   "id": "ccfa9b20",
   "metadata": {},
   "source": [
    "### Anonymous Functions / Lambda Function\n",
    "- Anonymous Functions are those which does not contain any name EXPLICITLY.\n",
    "- Anonymous Functions are used – \"To perform Instantaneous Operations\".\n",
    "- Instantaneous Operations are the operations that are not intended to be performed repeatedly, but are only intended to get a particular task done at a particular instant.\n",
    "- To define Anonymous Functions, we use a keyword “lambda” and thus Anonymous Functions are also called Lambda Function.\n",
    "- Anonymous Functions are comprised of a single executable statement but do not contain Block(s) of statements.\n",
    "- Anonymous Functions returns the result automatically (No need to write return statement explicitly)"
   ]
  },
  {
   "cell_type": "markdown",
   "id": "011b4ba0",
   "metadata": {},
   "source": [
    "##### Syntax:\n",
    "varName = **lambda** _params-list : expression_"
   ]
  },
  {
   "cell_type": "markdown",
   "id": "c8be2255",
   "metadata": {},
   "source": [
    "- here \"**varName**\" is an object and **itself acts as a Function Name** because here varname is **an object of <class 'function'>**\n",
    "- **lambda** is a keyword **used for defining Anonymous Function** \n",
    "- params-list represents a list of variable names used for holding or storing input values coming from Function Calls\n",
    "- **expression** represents a single executable statement which performs an Instantaneous Operation and whose result gets returned automatically"
   ]
  },
  {
   "cell_type": "code",
   "execution_count": 5,
   "id": "b6dda9c5",
   "metadata": {},
   "outputs": [
    {
     "name": "stdout",
     "output_type": "stream",
     "text": [
      "Enter 1st value:10\n",
      "Enter 2nd value:20\n",
      "Sum using Lambda function = 30\n",
      "Type of sumop1 = <class 'function'>\n",
      "Sum using Usual function = 30\n",
      "Type of sumop2 = <class 'function'>\n"
     ]
    }
   ],
   "source": [
    "#anonfunex1.py\n",
    "sumop1=lambda a,b:a+b\n",
    "\n",
    "def sumop2(x,y):\n",
    "    s = x+y\n",
    "    return s\n",
    "    \n",
    "\n",
    "#main\n",
    "a=int(input(\"Enter 1st value:\"))\n",
    "b=int(input(\"Enter 2nd value:\"))\n",
    "res1=sumop1(10,20)\n",
    "print(\"Sum using Lambda function = {}\".format(res1))\n",
    "print(\"Type of sumop1 = {}\".format(type(sumop1)))\n",
    "\n",
    "\n",
    "res2 = sumop2(a,b)\n",
    "print(\"Sum using Usual function = {}\".format(res2))\n",
    "print(\"Type of sumop2 = {}\".format(type(sumop2)))"
   ]
  },
  {
   "cell_type": "code",
   "execution_count": 10,
   "id": "b4a458da",
   "metadata": {},
   "outputs": [
    {
     "name": "stdout",
     "output_type": "stream",
     "text": [
      "Enter Celcius temperature:37\n",
      "37.0°C = 98.60000000000001°F\n",
      "37.0°C = 310.15°K\n"
     ]
    }
   ],
   "source": [
    "#Program for performing Temperature Conversions\n",
    "#anonfunex2.py\n",
    "f2c = lambda ct:ct*(9/5)+32\n",
    "k2c = lambda ct:ct+273.15\n",
    "\n",
    "#main():\n",
    "ct = float(input(\"Enter Celcius temperature:\"))\n",
    "ft = f2c(ct)\n",
    "print(\"{}°C = {}°F\".format(ct,ft))\n",
    "kt = k2c(ct)\n",
    "print(\"{}°C = {}°K\".format(ct,kt))"
   ]
  },
  {
   "cell_type": "code",
   "execution_count": 11,
   "id": "31762c6d",
   "metadata": {},
   "outputs": [
    {
     "name": "stdout",
     "output_type": "stream",
     "text": [
      "Enter 1st value:10\n",
      "Enter 2nd value:20\n",
      "Minimum(10.0, 20.0) = 10.0\n",
      "Maximum(10.0, 20.0) = 20.0\n"
     ]
    }
   ],
   "source": [
    "#Program for finding biggest and smallest among two numbers\n",
    "#anonfunex3.py\n",
    "minVal = lambda a,b : a if a<b else b\n",
    "maxVal = lambda a,b : a if a>b else b\n",
    "\n",
    "#main\n",
    "x=float(input(\"Enter 1st value:\"))\n",
    "y=float(input(\"Enter 2nd value:\"))\n",
    "print(\"Minimum({}, {}) = {}\".format(x,y,minVal(x,y)))\n",
    "print(\"Maximum({}, {}) = {}\".format(x,y,maxVal(x,y)))"
   ]
  },
  {
   "cell_type": "code",
   "execution_count": 15,
   "id": "c6870384",
   "metadata": {},
   "outputs": [
    {
     "name": "stdout",
     "output_type": "stream",
     "text": [
      "Enter 1st Number = 10\n",
      "Enter 2nd Number = 10\n",
      "Min(10.0, 10.0) = Both values are equal\n",
      "Max(10.0, 10.0) = Both values are equal\n"
     ]
    }
   ],
   "source": [
    "#Program for finding biggest and smallest among two numbers\n",
    "#anonfunex4.py\n",
    "minVal = lambda a,b : \"Both values are equal\" if(a==b) else \\\n",
    "                a if(a<b) else b\n",
    "maxVal = lambda a,b : \"Both values are equal\" if(a==b) else \\\n",
    "                a if(a>b) else b\n",
    "\n",
    "#main\n",
    "x=float(input(\"Enter 1st Number = \"))\n",
    "y=float(input(\"Enter 2nd Number = \"))\n",
    "minRes = minVal(x,y)\n",
    "maxRes = maxVal(x,y)\n",
    "print(\"Min({}, {}) = {}\".format(x,y,minRes))\n",
    "print(\"Max({}, {}) = {}\".format(x,y,maxRes))"
   ]
  },
  {
   "cell_type": "code",
   "execution_count": 16,
   "id": "d1c389b0",
   "metadata": {},
   "outputs": [
    {
     "name": "stdout",
     "output_type": "stream",
     "text": [
      "Enter 1st Number = 25\n",
      "Enter 2nd Number = 12\n",
      "Min(25.0, 12.0) = 12.0\n",
      "Max(25.0, 12.0) = 25.0\n"
     ]
    }
   ],
   "source": [
    "#Program for finding biggest and smallest among two numbers\n",
    "#anonfunex4.py\n",
    "minVal = lambda a,b : \"Both values are equal\" if(a==b) else \\\n",
    "                a if(a<b) else b\n",
    "maxVal = lambda a,b : \"Both values are equal\" if(a==b) else \\\n",
    "                a if(a>b) else b\n",
    "\n",
    "#main\n",
    "x=float(input(\"Enter 1st Number = \"))\n",
    "y=float(input(\"Enter 2nd Number = \"))\n",
    "minRes = minVal(x,y)\n",
    "maxRes = maxVal(x,y)\n",
    "print(\"Min({}, {}) = {}\".format(x,y,minRes))\n",
    "print(\"Max({}, {}) = {}\".format(x,y,maxRes))"
   ]
  },
  {
   "cell_type": "code",
   "execution_count": 26,
   "id": "eb12f23f",
   "metadata": {},
   "outputs": [
    {
     "name": "stdout",
     "output_type": "stream",
     "text": [
      "Enter 1st Number = 25\n",
      "Enter 2nd Number = 12\n",
      "Enter 3rd Number = 30\n",
      "Min(25.0, 12.0, 30.0) = 12.0\n",
      "Max(25.0, 12.0, 30.0) = 30.0\n"
     ]
    }
   ],
   "source": [
    "#Program for finding biggest and smallest among 3 numbers\n",
    "#anonfunex5.py\n",
    "minVal = lambda a,b,c : \"All values are equal\" if(a==b==c) else \\\n",
    "                a if(c>a<b) else \\\n",
    "                b if(a>b<c) else c\n",
    "maxVal = lambda a,b,c : \"All values are equal\" if(a==b==c) else \\\n",
    "                a if(c<a>b) else \\\n",
    "                b if(a<b>c) else c\n",
    "\n",
    "#main\n",
    "x=float(input(\"Enter 1st Number = \"))\n",
    "y=float(input(\"Enter 2nd Number = \"))\n",
    "z=float(input(\"Enter 3rd Number = \"))\n",
    "minRes = minVal(x,y,z)\n",
    "maxRes = maxVal(x,y,z)\n",
    "print(\"Min({}, {}, {}) = {}\".format(x,y,z,minRes))\n",
    "print(\"Max({}, {}, {}) = {}\".format(x,y,z,maxRes))"
   ]
  },
  {
   "cell_type": "code",
   "execution_count": 27,
   "id": "6cfb8ef7",
   "metadata": {},
   "outputs": [
    {
     "name": "stdout",
     "output_type": "stream",
     "text": [
      "Enter 1st Number = 10\n",
      "Enter 2nd Number = 10\n",
      "Enter 3rd Number = 10\n",
      "Min(10.0, 10.0, 10.0) = All values are equal\n",
      "Max(10.0, 10.0, 10.0) = All values are equal\n"
     ]
    }
   ],
   "source": [
    "#Program for finding biggest and smallest among 3 numbers\n",
    "#anonfunex5.py\n",
    "minVal = lambda a,b,c : \"All values are equal\" if(a==b==c) else \\\n",
    "                a if(c>a<b) else \\\n",
    "                b if(a>b<c) else c\n",
    "maxVal = lambda a,b,c : \"All values are equal\" if(a==b==c) else \\\n",
    "                a if(c<a>b) else \\\n",
    "                b if(a<b>c) else c\n",
    "\n",
    "#main\n",
    "x=float(input(\"Enter 1st Number = \"))\n",
    "y=float(input(\"Enter 2nd Number = \"))\n",
    "z=float(input(\"Enter 3rd Number = \"))\n",
    "minRes = minVal(x,y,z)\n",
    "maxRes = maxVal(x,y,z)\n",
    "print(\"Min({}, {}, {}) = {}\".format(x,y,z,minRes))\n",
    "print(\"Max({}, {}, {}) = {}\".format(x,y,z,maxRes))"
   ]
  },
  {
   "cell_type": "code",
   "execution_count": 28,
   "id": "23a74fc3",
   "metadata": {},
   "outputs": [
    {
     "name": "stdout",
     "output_type": "stream",
     "text": [
      "Enter 1st Number = 25\n",
      "Enter 2nd Number = 8\n",
      "Enter 3rd Number = 8\n",
      "Min(25.0, 8.0, 8.0) = 8.0\n",
      "Max(25.0, 8.0, 8.0) = 25.0\n"
     ]
    }
   ],
   "source": [
    "#Program for finding biggest and smallest among 3 numbers\n",
    "#anonfunex5.py\n",
    "minVal = lambda a,b,c : \"All values are equal\" if(a==b==c) else \\\n",
    "                a if(c>a<b) else \\\n",
    "                b if(a>b<c) else c\n",
    "maxVal = lambda a,b,c : \"All values are equal\" if(a==b==c) else \\\n",
    "                a if(c<a>b) else \\\n",
    "                b if(a<b>c) else c\n",
    "\n",
    "#main\n",
    "x=float(input(\"Enter 1st Number = \"))\n",
    "y=float(input(\"Enter 2nd Number = \"))\n",
    "z=float(input(\"Enter 3rd Number = \"))\n",
    "minRes = minVal(x,y,z)\n",
    "maxRes = maxVal(x,y,z)\n",
    "print(\"Min({}, {}, {}) = {}\".format(x,y,z,minRes))\n",
    "print(\"Max({}, {}, {}) = {}\".format(x,y,z,maxRes))"
   ]
  },
  {
   "cell_type": "code",
   "execution_count": 30,
   "id": "72ae8d3f",
   "metadata": {},
   "outputs": [
    {
     "name": "stdout",
     "output_type": "stream",
     "text": [
      "Enter a list of values separated by space: \n",
      "10 5 8 2 12\n",
      "============================================================\n",
      "Entered List of Elements = [10.0, 5.0, 8.0, 2.0, 12.0]\n",
      "============================================================\n",
      "Min element in list = 2.0\n",
      "Max element in list = 12.0\n",
      "============================================================\n"
     ]
    }
   ],
   "source": [
    "# Write a python program which will accept list of numerical values \n",
    "### and find max and min by using anonymous functions\n",
    "\n",
    "#anonfunex6.py\n",
    "minv = lambda lst : min(lst)\n",
    "maxv = lambda lst : max(lst)\n",
    "\n",
    "\n",
    "#main\n",
    "print(\"Enter a list of values separated by space: \")\n",
    "lst = [float(val) for val in input().split()]\n",
    "print(\"=\"*60)\n",
    "print(\"Entered List of Elements = {}\".format(lst))\n",
    "minr = minv(lst)\n",
    "maxr = maxv(lst)\n",
    "print(\"=\"*60)\n",
    "print(\"Min element in list = {}\".format(minr))\n",
    "print(\"Max element in list = {}\".format(maxr))\n",
    "print(\"=\"*60)"
   ]
  }
 ],
 "metadata": {
  "kernelspec": {
   "display_name": "Python 3 (ipykernel)",
   "language": "python",
   "name": "python3"
  },
  "language_info": {
   "codemirror_mode": {
    "name": "ipython",
    "version": 3
   },
   "file_extension": ".py",
   "mimetype": "text/x-python",
   "name": "python",
   "nbconvert_exporter": "python",
   "pygments_lexer": "ipython3",
   "version": "3.9.16"
  }
 },
 "nbformat": 4,
 "nbformat_minor": 5
}
