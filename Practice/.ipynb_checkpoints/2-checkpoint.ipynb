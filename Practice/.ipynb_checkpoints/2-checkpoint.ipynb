{
 "cells": [
  {
   "cell_type": "code",
   "execution_count": 3,
   "id": "5a769490",
   "metadata": {},
   "outputs": [
    {
     "name": "stdout",
     "output_type": "stream",
     "text": [
      "Enter 2 values: \n",
      "10\n",
      "20\n",
      "Sum of 10.0,20.0 = 30.0\n"
     ]
    }
   ],
   "source": [
    "print(\"Enter 2 values: \")\n",
    "a=input()\n",
    "b=input()\n",
    "x=float(a)\n",
    "y=float(b)\n",
    "print(\"Sum of {},{} = {}\".format(x,y,x+y))"
   ]
  },
  {
   "cell_type": "code",
   "execution_count": 4,
   "id": "14a838ef",
   "metadata": {
    "scrolled": true
   },
   "outputs": [
    {
     "name": "stdout",
     "output_type": "stream",
     "text": [
      "Enter 2 values: \n",
      "5\n",
      "2\n",
      "Sum of 5.0,2.0 = 7.0\n"
     ]
    }
   ],
   "source": [
    "print(\"Enter 2 values: \")\n",
    "x=float(input())\n",
    "y=float(input())\n",
    "print(\"Sum of {},{} = {}\".format(x,y,x+y))"
   ]
  },
  {
   "cell_type": "code",
   "execution_count": 5,
   "id": "82c7fc0d",
   "metadata": {},
   "outputs": [
    {
     "data": {
      "text/plain": [
       "25"
      ]
     },
     "execution_count": 5,
     "metadata": {},
     "output_type": "execute_result"
    }
   ],
   "source": [
    "5**2"
   ]
  },
  {
   "cell_type": "code",
   "execution_count": 6,
   "id": "3500ac9d",
   "metadata": {},
   "outputs": [
    {
     "name": "stdout",
     "output_type": "stream",
     "text": [
      "Enter the radius of a circle: 5\n",
      "Area = 78.5 \n",
      "Perimeter = 31.400000000000002\n"
     ]
    }
   ],
   "source": [
    "r = float(input(\"Enter the radius of a circle: \"))\n",
    "print(\"Area = {} \\nPerimeter = {}\".format(3.14*r**2, 2*3.14*r))"
   ]
  },
  {
   "cell_type": "code",
   "execution_count": 8,
   "id": "2becf7f8",
   "metadata": {},
   "outputs": [
    {
     "name": "stdout",
     "output_type": "stream",
     "text": [
      "Enter a number: 27\n",
      "Square Root of 27 = 5.196\n"
     ]
    }
   ],
   "source": [
    "n=int(input(\"Enter a number: \"))\n",
    "sqr=n**0.5\n",
    "print(\"Square Root of {} = {}\".format(n, round(sqr,3)))"
   ]
  },
  {
   "cell_type": "code",
   "execution_count": 9,
   "id": "6af38b48",
   "metadata": {},
   "outputs": [],
   "source": [
    "a,b=10,20"
   ]
  },
  {
   "cell_type": "code",
   "execution_count": 10,
   "id": "b7cc62e0",
   "metadata": {},
   "outputs": [
    {
     "data": {
      "text/plain": [
       "10"
      ]
     },
     "execution_count": 10,
     "metadata": {},
     "output_type": "execute_result"
    }
   ],
   "source": [
    "a"
   ]
  },
  {
   "cell_type": "code",
   "execution_count": 11,
   "id": "96ef701f",
   "metadata": {},
   "outputs": [
    {
     "data": {
      "text/plain": [
       "20"
      ]
     },
     "execution_count": 11,
     "metadata": {},
     "output_type": "execute_result"
    }
   ],
   "source": [
    "b"
   ]
  },
  {
   "cell_type": "code",
   "execution_count": 12,
   "id": "6f382e8e",
   "metadata": {},
   "outputs": [],
   "source": [
    "a,b=b,a"
   ]
  },
  {
   "cell_type": "code",
   "execution_count": 13,
   "id": "7159cf38",
   "metadata": {},
   "outputs": [
    {
     "data": {
      "text/plain": [
       "20"
      ]
     },
     "execution_count": 13,
     "metadata": {},
     "output_type": "execute_result"
    }
   ],
   "source": [
    "a"
   ]
  },
  {
   "cell_type": "code",
   "execution_count": 14,
   "id": "9b989744",
   "metadata": {},
   "outputs": [
    {
     "data": {
      "text/plain": [
       "10"
      ]
     },
     "execution_count": 14,
     "metadata": {},
     "output_type": "execute_result"
    }
   ],
   "source": [
    "b"
   ]
  },
  {
   "cell_type": "code",
   "execution_count": 15,
   "id": "8e0dd805",
   "metadata": {},
   "outputs": [
    {
     "data": {
      "text/plain": [
       "100"
      ]
     },
     "execution_count": 15,
     "metadata": {},
     "output_type": "execute_result"
    }
   ],
   "source": [
    "100 or 200"
   ]
  },
  {
   "cell_type": "code",
   "execution_count": 1,
   "id": "c53979cb",
   "metadata": {},
   "outputs": [],
   "source": [
    "s = \"PYTHON\""
   ]
  },
  {
   "cell_type": "code",
   "execution_count": 2,
   "id": "e9efc35f-5fc7-410e-8a06-68ec539cd6ad",
   "metadata": {},
   "outputs": [
    {
     "data": {
      "text/plain": [
       "True"
      ]
     },
     "execution_count": 2,
     "metadata": {},
     "output_type": "execute_result"
    }
   ],
   "source": [
    "\"P\" in s"
   ]
  },
  {
   "cell_type": "code",
   "execution_count": 3,
   "id": "1d2d29ac-f40c-4e2c-9a35-d9966737618c",
   "metadata": {},
   "outputs": [
    {
     "data": {
      "text/plain": [
       "False"
      ]
     },
     "execution_count": 3,
     "metadata": {},
     "output_type": "execute_result"
    }
   ],
   "source": [
    "\"NO\" in s"
   ]
  },
  {
   "cell_type": "code",
   "execution_count": 4,
   "id": "68e39c84-a1de-4256-83d8-c58b838fe01d",
   "metadata": {},
   "outputs": [
    {
     "data": {
      "text/plain": [
       "True"
      ]
     },
     "execution_count": 4,
     "metadata": {},
     "output_type": "execute_result"
    }
   ],
   "source": [
    "\"NO\" in s[::-1]"
   ]
  },
  {
   "cell_type": "code",
   "execution_count": 6,
   "id": "b34b6443-387e-4855-981c-25d8cf67d818",
   "metadata": {},
   "outputs": [
    {
     "name": "stdout",
     "output_type": "stream",
     "text": [
      "[66, 65, 43, 91, 3]\n"
     ]
    }
   ],
   "source": [
    "import random\n",
    "num = list()\n",
    "for i in range(5):\n",
    "       num.append(random.randint(1,100))\n",
    "print(num)"
   ]
  },
  {
   "cell_type": "code",
   "execution_count": 7,
   "id": "6a254a1e-00ca-44a7-9235-53c40f93b6b8",
   "metadata": {},
   "outputs": [],
   "source": [
    "num1 = num"
   ]
  },
  {
   "cell_type": "code",
   "execution_count": 8,
   "id": "d9744752-e5cf-48d7-891d-c4607592bb67",
   "metadata": {},
   "outputs": [
    {
     "data": {
      "text/plain": [
       "True"
      ]
     },
     "execution_count": 8,
     "metadata": {},
     "output_type": "execute_result"
    }
   ],
   "source": [
    "num is num1"
   ]
  },
  {
   "cell_type": "code",
   "execution_count": 9,
   "id": "a519f9e7-1ca2-4d9d-b5c5-97763f402378",
   "metadata": {},
   "outputs": [],
   "source": [
    "num2 = num.copy()"
   ]
  },
  {
   "cell_type": "code",
   "execution_count": 10,
   "id": "040f3552-3f7d-417b-b29a-11f36084b1e7",
   "metadata": {},
   "outputs": [
    {
     "data": {
      "text/plain": [
       "True"
      ]
     },
     "execution_count": 10,
     "metadata": {},
     "output_type": "execute_result"
    }
   ],
   "source": [
    "num is not num2"
   ]
  },
  {
   "cell_type": "code",
   "execution_count": 11,
   "id": "28756b5b-1c38-4bed-945e-9c71b23653c3",
   "metadata": {},
   "outputs": [
    {
     "name": "stdout",
     "output_type": "stream",
     "text": [
      "1.50000000000000000000\n"
     ]
    }
   ],
   "source": [
    "a=1.5\n",
    "print(\"%0.20f\" %a)"
   ]
  },
  {
   "cell_type": "code",
   "execution_count": 13,
   "id": "d7a279db-b895-4939-9f5b-9ec96d72a625",
   "metadata": {},
   "outputs": [
    {
     "data": {
      "text/plain": [
       "'Python'"
      ]
     },
     "execution_count": 13,
     "metadata": {},
     "output_type": "execute_result"
    }
   ],
   "source": [
    "s=\"python\"\n",
    "s.capitalize()"
   ]
  },
  {
   "cell_type": "code",
   "execution_count": 15,
   "id": "d0243c71-c36e-465f-a590-5e61c015480a",
   "metadata": {},
   "outputs": [
    {
     "name": "stdin",
     "output_type": "stream",
     "text": [
      "Do u have a ticket(yes/no):  no\n"
     ]
    },
    {
     "name": "stdout",
     "output_type": "stream",
     "text": [
      "Sorry! Not Allowed !!\n"
     ]
    }
   ],
   "source": [
    "tkt = input(\"Do u have a ticket(yes/no): \")\n",
    "if(tkt.capitalize()==\"Yes\"):\n",
    "    print(\"Welcome\")\n",
    "else:\n",
    "    print(\"Sorry! Not Allowed !!\")\n",
    "    "
   ]
  },
  {
   "cell_type": "code",
   "execution_count": 16,
   "id": "8b4ed6b6-baa0-4fae-86ff-5c8cc195bebe",
   "metadata": {},
   "outputs": [
    {
     "data": {
      "text/plain": [
       "'PYTHON'"
      ]
     },
     "execution_count": 16,
     "metadata": {},
     "output_type": "execute_result"
    }
   ],
   "source": [
    "s.upper()"
   ]
  },
  {
   "cell_type": "code",
   "execution_count": 17,
   "id": "b9604559-981b-4c5e-8ce7-08070509824f",
   "metadata": {},
   "outputs": [
    {
     "data": {
      "text/plain": [
       "'python'"
      ]
     },
     "execution_count": 17,
     "metadata": {},
     "output_type": "execute_result"
    }
   ],
   "source": [
    "s.lower()"
   ]
  },
  {
   "cell_type": "code",
   "execution_count": 18,
   "id": "8e749b6d-289a-4233-a6ba-bac0322ab988",
   "metadata": {},
   "outputs": [
    {
     "data": {
      "text/plain": [
       "'python'"
      ]
     },
     "execution_count": 18,
     "metadata": {},
     "output_type": "execute_result"
    }
   ],
   "source": [
    "s"
   ]
  },
  {
   "cell_type": "code",
   "execution_count": 19,
   "id": "049da849-aa35-45c2-bbf0-e3986bf61577",
   "metadata": {},
   "outputs": [
    {
     "data": {
      "text/plain": [
       "'Python'"
      ]
     },
     "execution_count": 19,
     "metadata": {},
     "output_type": "execute_result"
    }
   ],
   "source": [
    "s.capitalize()"
   ]
  },
  {
   "cell_type": "code",
   "execution_count": 23,
   "id": "7bd4f54a-d73e-4658-8af9-8165a798dea3",
   "metadata": {},
   "outputs": [
    {
     "name": "stdin",
     "output_type": "stream",
     "text": [
      "Enter 1st Number:  10\n",
      "2nd Number:  10\n",
      "3rd Number:  10\n"
     ]
    },
    {
     "name": "stdout",
     "output_type": "stream",
     "text": [
      "All values are Equal !\n"
     ]
    }
   ],
   "source": [
    "a=int(input(\"Enter 1st Number: \"))\n",
    "b=int(input(\"2nd Number: \"))\n",
    "c=int(input(\"3rd Number: \"))\n",
    "if(c<a>b):\n",
    "    print(\"{} is greater\".format(a))\n",
    "else:\n",
    "    if(c<b>a):\n",
    "        print(\"{} is greater\".format(b))\n",
    "    elif(a<c>b):\n",
    "        print(\"{} is greater\".format(c))\n",
    "    else:\n",
    "        print(\"All values are Equal !\")\n",
    "    "
   ]
  },
  {
   "cell_type": "code",
   "execution_count": 24,
   "id": "3388347a-1afa-4c71-bbfa-8f1c8a1bf123",
   "metadata": {},
   "outputs": [
    {
     "name": "stdin",
     "output_type": "stream",
     "text": [
      "Enter any digit: 5\n"
     ]
    },
    {
     "name": "stdout",
     "output_type": "stream",
     "text": [
      "5 in words is FIVE\n"
     ]
    }
   ],
   "source": [
    "diginame = {1:\"ONE\",2:\"TWO\",3:\"THREE\",4:\"FOUR\",5:\"FIVE\",6:\"SIX\",7:\"SEVEN\",8:\"EIGHT\",9:\"NINE\",0:\"ZERO\"}\n",
    "d=int(input(\"Enter any digit:\"))\n",
    "res=diginame.get(d)\n",
    "if(res!=None):\n",
    "    print(\"{} in words is {}\".format(d,res))\n",
    "else:\n",
    "    print(\"Entered values is a NUMBER\")"
   ]
  },
  {
   "cell_type": "code",
   "execution_count": null,
   "id": "56915864-2aa0-44ea-91eb-8a7d790c37e1",
   "metadata": {},
   "outputs": [],
   "source": [
    "#aopmenu.py print(\"=\"*50) print(\"\\tArithmetic Operations\") print(\"=\"*50) print(\"\\t1.Addition\") print(\"\\t2.Substraction\") print(\"\\t3.Multiplication\") print(\"\\t4.Division\") print(\"\\t5.Modulo Div\") print(\"\\t6.Exponentiation\") print(\"\\t7.Exit:\") print(\"=\"*50)\n",
    "ch=int(input(\"Enter Ur Choice:\"))\n",
    "match (ch):\n",
    "case 1: a,b=float(input(\"Enter First Value for addition:\")),\n",
    "float(input(\"Enter Second Value for addition:\")) print(\"sum({},{})={}\".format(a,b,a+b))\n",
    "case 2: a,b=float(input(\"Enter First Value for Subtract:\")),\n",
    "float(input(\"Enter Second Value for Subtract:\")) print(\"sub({},{})={}\".format(a,b,a-b))\n",
    "case 3: a,b=float(input(\"Enter First Value for Mul:\")),\n",
    "float(input(\"Enter Second Value for Mul:\")) print(\"mul({},{})={}\".format(a,b,a*b))\n",
    "case 4: a,b=float(input(\"Enter First Value for Div:\")),\n",
    "float(input(\"Enter Second Value for Div:\")) print(\"Div({},{})={}\".format(a,b,a/b)) print(\"FloorDiv({},{})={}\".format(a,b,a//b))\n",
    "case 5: a,b=float(input(\"Enter First Value for Modulo div:\")),\n",
    "float(input(\"Enter Second Value for Modulo div:\")) print(\"Mod({},{})={}\".format(a,b,a%b))\n",
    "case 6: a,b=float(input(\"Enter Power:\")),\n",
    "float(input(\"Enter Base:\")) print(\"pow({},{})={}\".format(a,b,a**b))\n",
    "case 7: print(\"Thnaks for using this program\") exit()\n",
    "case _: # default case block print(\"Ur Selection of Operations is wrong\") print(\"Program execution completed\")"
   ]
  },
  {
   "cell_type": "code",
   "execution_count": null,
   "id": "6529a4bd-cde3-422a-9f5b-4f78de8bc1a6",
   "metadata": {},
   "outputs": [
    {
     "name": "stdout",
     "output_type": "stream",
     "text": [
      "\n",
      "\n",
      "==================================================\n",
      "Arithmetic Operations:\n",
      "==================================================\n",
      "\t1.Add\n",
      "\t2.Subs\n",
      "\t3.Mul\n",
      "\t4.Div\n",
      "\t5.Floor Div\n",
      "\t6.Modulo\n",
      "\t7.Exponentiation\n",
      "==================================================\n",
      "Enter 1st Number: 25\n",
      "Enter 2nd Number: 5\n",
      "Enter your choice: 7\n",
      "25.0 ^ 5.0 = 9765625.0\n",
      "==================================================\n",
      "\n",
      "\n",
      "\n",
      "Do you want to continue?(yes/no)\n",
      "yes\n",
      "Thank You for using the program\n",
      "\n",
      "\n",
      "==================================================\n",
      "Arithmetic Operations:\n",
      "==================================================\n",
      "\t1.Add\n",
      "\t2.Subs\n",
      "\t3.Mul\n",
      "\t4.Div\n",
      "\t5.Floor Div\n",
      "\t6.Modulo\n",
      "\t7.Exponentiation\n",
      "==================================================\n"
     ]
    }
   ],
   "source": [
    "#matchCase.py\n",
    "c = True\n",
    "\n",
    "while(c == True):\n",
    "    print(\"\\n\")\n",
    "    print(\"=\"*50)\n",
    "    print(\"Arithmetic Operations:\")\n",
    "    print(\"=\"*50)\n",
    "    print(\"\\t1.Add\")\n",
    "    print(\"\\t2.Subs\")\n",
    "    print(\"\\t3.Mul\")\n",
    "    print(\"\\t4.Div\")\n",
    "    print(\"\\t5.Floor Div\")\n",
    "    print(\"\\t6.Modulo\")\n",
    "    print(\"\\t7.Exponentiation\")\n",
    "    print(\"=\"*50)\n",
    "    a=float(input(\"Enter 1st Number: \"))\n",
    "    b=float(input(\"Enter 2nd Number: \"))\n",
    "    ch = int(input(\"Enter your choice: \"))\n",
    "    match (ch):\n",
    "        case 1:\n",
    "            print(\"Sum of {}, {} = {}\".format(a,b,a+b))\n",
    "            \n",
    "        case 2:\n",
    "            print(\"Difference of {}, {} = {}\".format(a,b,a-b))\n",
    "                        \n",
    "        case 3:\n",
    "            print(\"Product of {}, {} = {}\".format(a,b,a*b))\n",
    "            \n",
    "        case 4:\n",
    "            print(\"Quotient of {}, {} = {}\".format(a,b,a/b))\n",
    "            \n",
    "        case 5:\n",
    "            print(\"Quotient of {}, {} = {} after being rounded off to the nearest lower number\".format(a,b,a//b))\n",
    "            \n",
    "        case 6:\n",
    "            print(\"Remainder of {}, {} = {}\".format(a,b,a%b))\n",
    "            \n",
    "        case 7:\n",
    "            print(\"{} ^ {} = {}\".format(a,b,a**b))\n",
    "            \n",
    "        case 7: \n",
    "            print(\"Thanks for using this program\") \n",
    "            exit()\n",
    "            \n",
    "        case _:\n",
    "            print(\"Please Enter a Valid Choice !!!\")\n",
    "            \n",
    "            \n",
    "    print(\"=\"*50)\n",
    "    print(\"\\n\\n\")\n",
    "    cur_ch = input(\"Do you want to continue?(yes/no)\\n\")\n",
    "    if(cur_ch == \"no\"):\n",
    "        exit()\n",
    "print(\"Thank You for using the program\")"
   ]
  },
  {
   "cell_type": "code",
   "execution_count": null,
   "id": "4f59870e",
   "metadata": {},
   "outputs": [],
   "source": []
  }
 ],
 "metadata": {
  "kernelspec": {
   "display_name": "Python 3 (ipykernel)",
   "language": "python",
   "name": "python3"
  },
  "language_info": {
   "codemirror_mode": {
    "name": "ipython",
    "version": 3
   },
   "file_extension": ".py",
   "mimetype": "text/x-python",
   "name": "python",
   "nbconvert_exporter": "python",
   "pygments_lexer": "ipython3",
   "version": "3.11.0"
  }
 },
 "nbformat": 4,
 "nbformat_minor": 5
}
