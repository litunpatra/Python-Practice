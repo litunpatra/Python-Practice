{
 "cells": [
  {
   "cell_type": "markdown",
   "id": "40073d99",
   "metadata": {},
   "source": [
    "### Global Variables\n",
    "- Global variables **must be defined before all function calls**, so that all function definitions can access them."
   ]
  },
  {
   "cell_type": "code",
   "execution_count": 1,
   "id": "ddf23637",
   "metadata": {},
   "outputs": [
    {
     "name": "stdout",
     "output_type": "stream",
     "text": [
      "The Language used to Code in Machine Learning is PYTHON\n",
      "The Language used to Code in Deep Learning is PYTHON\n",
      "The language used to Code in IOT is PYTHON\n"
     ]
    }
   ],
   "source": [
    "#globallocalvarex1.py\n",
    "def learnML():\n",
    "    sub1=\"Machine Learning\"   #local variable\n",
    "    print(\"The Language used to Code in {} is {}\".format(sub1,lang))\n",
    "    \n",
    "def learnDL():\n",
    "    sub2=\"Deep Learning\"   #local variable\n",
    "    print(\"The Language used to Code in {} is {}\".format(sub2,lang))\n",
    "    \n",
    "def learnIOT():\n",
    "    sub3=\"IOT\"   #local variable \n",
    "    print(\"The language used to Code in {} is {}\".format(sub3,lang))\n",
    "\n",
    "#main\n",
    "lang=\"PYTHON\"    # Global Variable\n",
    "learnML()\n",
    "learnDL()\n",
    "learnIOT()"
   ]
  },
  {
   "cell_type": "code",
   "execution_count": 2,
   "id": "0fe99a06",
   "metadata": {},
   "outputs": [
    {
     "ename": "NameError",
     "evalue": "name 'sub2' is not defined",
     "output_type": "error",
     "traceback": [
      "\u001b[1;31m---------------------------------------------------------------------------\u001b[0m",
      "\u001b[1;31mNameError\u001b[0m                                 Traceback (most recent call last)",
      "Cell \u001b[1;32mIn[2], line 19\u001b[0m\n\u001b[0;32m     15\u001b[0m     \u001b[38;5;66;03m# Error as we cannot access sub1 & sub2 that are local variables in learnML() & learnDL() respectively \u001b[39;00m\n\u001b[0;32m     16\u001b[0m \n\u001b[0;32m     17\u001b[0m \u001b[38;5;66;03m#main\u001b[39;00m\n\u001b[0;32m     18\u001b[0m lang\u001b[38;5;241m=\u001b[39m\u001b[38;5;124m\"\u001b[39m\u001b[38;5;124mPYTHON\u001b[39m\u001b[38;5;124m\"\u001b[39m    \u001b[38;5;66;03m# Global Variable\u001b[39;00m\n\u001b[1;32m---> 19\u001b[0m learnML()\n",
      "Cell \u001b[1;32mIn[2], line 4\u001b[0m, in \u001b[0;36mlearnML\u001b[1;34m()\u001b[0m\n\u001b[0;32m      2\u001b[0m \u001b[38;5;28;01mdef\u001b[39;00m \u001b[38;5;21mlearnML\u001b[39m():\n\u001b[0;32m      3\u001b[0m     sub1\u001b[38;5;241m=\u001b[39m\u001b[38;5;124m\"\u001b[39m\u001b[38;5;124mMachine Learning\u001b[39m\u001b[38;5;124m\"\u001b[39m   \u001b[38;5;66;03m#local variable\u001b[39;00m\n\u001b[1;32m----> 4\u001b[0m     \u001b[38;5;28mprint\u001b[39m(sub2,sub3)\n",
      "\u001b[1;31mNameError\u001b[0m: name 'sub2' is not defined"
     ]
    }
   ],
   "source": [
    "#globallocalvarex2.py\n",
    "def learnML():\n",
    "    sub1=\"Machine Learning\"   #local variable\n",
    "    print(sub2,sub3)    \n",
    "    # Error as we cannot access sub2 & sub3 that are local variables in learnDL() & learnIOT() respectively \n",
    "    \n",
    "def learnDL():\n",
    "    sub2=\"Deep Learning\"   #local variable\n",
    "    print(sub1,sub3)\n",
    "    # Error as we cannot access sub1 & sub2 that are local variables in learnML() & learnIOT() respectively \n",
    "    \n",
    "def learnIOT():\n",
    "    sub3=\"IOT\"   #local variable \n",
    "    print(sub1,sub2)\n",
    "    # Error as we cannot access sub1 & sub2 that are local variables in learnML() & learnDL() respectively \n",
    "\n",
    "#main\n",
    "lang=\"PYTHON\"    # Global Variable\n",
    "learnML()\n",
    "# learnDL()\n",
    "# learnIOT()"
   ]
  },
  {
   "cell_type": "code",
   "execution_count": 3,
   "id": "89af7fd4",
   "metadata": {},
   "outputs": [
    {
     "ename": "NameError",
     "evalue": "name 'sub1' is not defined",
     "output_type": "error",
     "traceback": [
      "\u001b[1;31m---------------------------------------------------------------------------\u001b[0m",
      "\u001b[1;31mNameError\u001b[0m                                 Traceback (most recent call last)",
      "Cell \u001b[1;32mIn[3], line 1\u001b[0m\n\u001b[1;32m----> 1\u001b[0m learnDL()\n",
      "Cell \u001b[1;32mIn[2], line 9\u001b[0m, in \u001b[0;36mlearnDL\u001b[1;34m()\u001b[0m\n\u001b[0;32m      7\u001b[0m \u001b[38;5;28;01mdef\u001b[39;00m \u001b[38;5;21mlearnDL\u001b[39m():\n\u001b[0;32m      8\u001b[0m     sub2\u001b[38;5;241m=\u001b[39m\u001b[38;5;124m\"\u001b[39m\u001b[38;5;124mDeep Learning\u001b[39m\u001b[38;5;124m\"\u001b[39m   \u001b[38;5;66;03m#local variable\u001b[39;00m\n\u001b[1;32m----> 9\u001b[0m     \u001b[38;5;28mprint\u001b[39m(sub1,sub3)\n",
      "\u001b[1;31mNameError\u001b[0m: name 'sub1' is not defined"
     ]
    }
   ],
   "source": [
    "learnDL()"
   ]
  },
  {
   "cell_type": "code",
   "execution_count": 4,
   "id": "74b46e29",
   "metadata": {},
   "outputs": [
    {
     "ename": "NameError",
     "evalue": "name 'sub1' is not defined",
     "output_type": "error",
     "traceback": [
      "\u001b[1;31m---------------------------------------------------------------------------\u001b[0m",
      "\u001b[1;31mNameError\u001b[0m                                 Traceback (most recent call last)",
      "Cell \u001b[1;32mIn[4], line 1\u001b[0m\n\u001b[1;32m----> 1\u001b[0m learnIOT()\n",
      "Cell \u001b[1;32mIn[2], line 14\u001b[0m, in \u001b[0;36mlearnIOT\u001b[1;34m()\u001b[0m\n\u001b[0;32m     12\u001b[0m \u001b[38;5;28;01mdef\u001b[39;00m \u001b[38;5;21mlearnIOT\u001b[39m():\n\u001b[0;32m     13\u001b[0m     sub3\u001b[38;5;241m=\u001b[39m\u001b[38;5;124m\"\u001b[39m\u001b[38;5;124mIOT\u001b[39m\u001b[38;5;124m\"\u001b[39m   \u001b[38;5;66;03m#local variable \u001b[39;00m\n\u001b[1;32m---> 14\u001b[0m     \u001b[38;5;28mprint\u001b[39m(sub1,sub2)\n",
      "\u001b[1;31mNameError\u001b[0m: name 'sub1' is not defined"
     ]
    }
   ],
   "source": [
    "learnIOT()"
   ]
  },
  {
   "cell_type": "code",
   "execution_count": 6,
   "id": "7055d040",
   "metadata": {},
   "outputs": [
    {
     "ename": "NameError",
     "evalue": "name 'lan' is not defined",
     "output_type": "error",
     "traceback": [
      "\u001b[1;31m---------------------------------------------------------------------------\u001b[0m",
      "\u001b[1;31mNameError\u001b[0m                                 Traceback (most recent call last)",
      "Cell \u001b[1;32mIn[6], line 15\u001b[0m\n\u001b[0;32m     12\u001b[0m     \u001b[38;5;28mprint\u001b[39m(\u001b[38;5;124m\"\u001b[39m\u001b[38;5;124mThe language used to Code in \u001b[39m\u001b[38;5;132;01m{}\u001b[39;00m\u001b[38;5;124m is \u001b[39m\u001b[38;5;132;01m{}\u001b[39;00m\u001b[38;5;124m\"\u001b[39m\u001b[38;5;241m.\u001b[39mformat(sub3,lan))\n\u001b[0;32m     14\u001b[0m \u001b[38;5;66;03m#main\u001b[39;00m\n\u001b[1;32m---> 15\u001b[0m learnML()\n\u001b[0;32m     16\u001b[0m learnDL()\n\u001b[0;32m     17\u001b[0m learnIOT()\n",
      "Cell \u001b[1;32mIn[6], line 4\u001b[0m, in \u001b[0;36mlearnML\u001b[1;34m()\u001b[0m\n\u001b[0;32m      2\u001b[0m \u001b[38;5;28;01mdef\u001b[39;00m \u001b[38;5;21mlearnML\u001b[39m():\n\u001b[0;32m      3\u001b[0m     sub1\u001b[38;5;241m=\u001b[39m\u001b[38;5;124m\"\u001b[39m\u001b[38;5;124mMachine Learning\u001b[39m\u001b[38;5;124m\"\u001b[39m   \u001b[38;5;66;03m#local variable\u001b[39;00m\n\u001b[1;32m----> 4\u001b[0m     \u001b[38;5;28mprint\u001b[39m(\u001b[38;5;124m\"\u001b[39m\u001b[38;5;124mThe Language used to Code in \u001b[39m\u001b[38;5;132;01m{}\u001b[39;00m\u001b[38;5;124m is \u001b[39m\u001b[38;5;132;01m{}\u001b[39;00m\u001b[38;5;124m\"\u001b[39m\u001b[38;5;241m.\u001b[39mformat(sub1,lan))\n",
      "\u001b[1;31mNameError\u001b[0m: name 'lan' is not defined"
     ]
    }
   ],
   "source": [
    "#globallocalvarex3.py\n",
    "def learnML():\n",
    "    sub1=\"Machine Learning\"   #local variable\n",
    "    print(\"The Language used to Code in {} is {}\".format(sub1,lan))\n",
    "    \n",
    "def learnDL():\n",
    "    sub2=\"Deep Learning\"   #local variable\n",
    "    print(\"The Language used to Code in {} is {}\".format(sub2,lan))\n",
    "    \n",
    "def learnIOT():\n",
    "    sub3=\"IOT\"   #local variable \n",
    "    print(\"The language used to Code in {} is {}\".format(sub3,lan))\n",
    "\n",
    "#main\n",
    "learnML()\n",
    "learnDL()\n",
    "learnIOT()\n",
    "lan=\"PYTHON\"    # Global Variable"
   ]
  },
  {
   "cell_type": "markdown",
   "id": "dc7d8a82",
   "metadata": {},
   "source": [
    "All 3 function calls above are not able to access the Global variable \"lan\" as it is defined after all function calls."
   ]
  },
  {
   "cell_type": "code",
   "execution_count": 7,
   "id": "a8c01559",
   "metadata": {},
   "outputs": [
    {
     "name": "stdout",
     "output_type": "stream",
     "text": [
      "The Language used to Code in Machine Learning is PYTHON\n",
      "The Language used to Code in Deep Learning is PYTHON\n",
      "The language used to Code in IOT is PYTHON\n"
     ]
    }
   ],
   "source": [
    "#globallocalvarex4.py\n",
    "\n",
    "language=\"PYTHON\"    # Global Variable\n",
    "\n",
    "def learnML():\n",
    "    sub1=\"Machine Learning\"   #local variable\n",
    "    print(\"The Language used to Code in {} is {}\".format(sub1,language))\n",
    "    \n",
    "def learnDL():\n",
    "    sub2=\"Deep Learning\"   #local variable\n",
    "    print(\"The Language used to Code in {} is {}\".format(sub2,language))\n",
    "    \n",
    "def learnIOT():\n",
    "    sub3=\"IOT\"   #local variable \n",
    "    print(\"The language used to Code in {} is {}\".format(sub3,language))\n",
    "\n",
    "#main\n",
    "learnML()\n",
    "learnDL()\n",
    "learnIOT()"
   ]
  },
  {
   "cell_type": "code",
   "execution_count": 10,
   "id": "35526ba9",
   "metadata": {},
   "outputs": [
    {
     "name": "stdout",
     "output_type": "stream",
     "text": [
      "The lang1 used to Code in Machine Learning is PYTHON\n",
      "The lang1 used to Code in Deep Learning is PYTHON\n",
      "The lang1 used to Code in IOT is PYTHON\n"
     ]
    }
   ],
   "source": [
    "#globallocalvarex5.py\n",
    "\n",
    "def learnML():\n",
    "    sub1=\"Machine Learning\"   #local variable\n",
    "    print(\"The lang1 used to Code in {} is {}\".format(sub1,lang1))\n",
    "    \n",
    "lang1=\"PYTHON\"    # Global Variable appears before all function calls\n",
    "    \n",
    "def learnDL():\n",
    "    sub2=\"Deep Learning\"   #local variable\n",
    "    print(\"The lang1 used to Code in {} is {}\".format(sub2,lang1))\n",
    "    \n",
    "def learnIOT():\n",
    "    sub3=\"IOT\"   #local variable \n",
    "    print(\"The lang1 used to Code in {} is {}\".format(sub3,lang1))\n",
    "\n",
    "#main\n",
    "learnML()\n",
    "learnDL()\n",
    "learnIOT()"
   ]
  },
  {
   "cell_type": "code",
   "execution_count": 11,
   "id": "e0c644d6",
   "metadata": {},
   "outputs": [
    {
     "name": "stdout",
     "output_type": "stream",
     "text": [
      "The lang used to Code in Machine Learning is PYTHON\n",
      "The lang used to Code in Deep Learning is PYTHON\n",
      "The lang used to Code in IOT is PYTHON\n"
     ]
    }
   ],
   "source": [
    "#globallocalvarex6.py\n",
    "\n",
    "def learnML():\n",
    "    sub1=\"Machine Learning\"   #local variable\n",
    "    print(\"The lang used to Code in {} is {}\".format(sub1,lang))\n",
    "    \n",
    "def learnDL():\n",
    "    sub2=\"Deep Learning\"   #local variable\n",
    "    print(\"The lang used to Code in {} is {}\".format(sub2,lang))\n",
    "    \n",
    "def learnIOT():\n",
    "    sub3=\"IOT\"   #local variable \n",
    "    print(\"The lang used to Code in {} is {}\".format(sub3,lang))\n",
    "\n",
    "lang=\"PYTHON\"    # Global Variable defined before all function calls\n",
    "\n",
    "#main\n",
    "learnML()\n",
    "learnDL()\n",
    "learnIOT()"
   ]
  },
  {
   "cell_type": "markdown",
   "id": "a49b7478",
   "metadata": {},
   "source": [
    "## \"global\" key word"
   ]
  },
  {
   "cell_type": "markdown",
   "id": "d4055a2e",
   "metadata": {},
   "source": [
    "When we want to **MODIFY the GLOBAL VARIABLE values** _from within a function definition_, then the global variable names must be preceded with **'global' keyword** otherwise we get \"**UnboundLocalError**: local variable names referenced before assignment\""
   ]
  },
  {
   "cell_type": "code",
   "execution_count": null,
   "id": "cb1b9c7a",
   "metadata": {},
   "outputs": [],
   "source": []
  },
  {
   "cell_type": "code",
   "execution_count": null,
   "id": "c191bd50",
   "metadata": {},
   "outputs": [],
   "source": []
  },
  {
   "cell_type": "code",
   "execution_count": null,
   "id": "5daba787",
   "metadata": {},
   "outputs": [],
   "source": []
  }
 ],
 "metadata": {
  "kernelspec": {
   "display_name": "Python 3 (ipykernel)",
   "language": "python",
   "name": "python3"
  },
  "language_info": {
   "codemirror_mode": {
    "name": "ipython",
    "version": 3
   },
   "file_extension": ".py",
   "mimetype": "text/x-python",
   "name": "python",
   "nbconvert_exporter": "python",
   "pygments_lexer": "ipython3",
   "version": "3.11.0"
  }
 },
 "nbformat": 4,
 "nbformat_minor": 5
}
