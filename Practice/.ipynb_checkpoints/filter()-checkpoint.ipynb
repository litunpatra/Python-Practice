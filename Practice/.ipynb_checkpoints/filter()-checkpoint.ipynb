{
 "cells": [
  {
   "cell_type": "markdown",
   "id": "3a46f857",
   "metadata": {},
   "source": [
    "### filter()\n",
    "**filter()** is used for \"Filtering out some elements from a list of elements(iterable object) by passing the iterable object as an argument to a function\".\n",
    "\n",
    "#### Syntax:\n",
    "**varName = filter(FunctionName, Iterable_object)**\n",
    "\n",
    "#### Explanation:\n",
    "- '**varName**' is an **object of type <class,'filter'>** and we can convert it into any iteratable object by using type-casting functions\n",
    "- \"**FunctionName**\" represents either **Normal function or Anonymous functions**\n",
    "- \"**Iterable_object**\" represents **Sequence, list, tuple, set** and **dict** type variables\n",
    "- The execution process of filter() is as follows - \n",
    "  - \"**Each value of Iterable Object**\" is sent to the function, **Function Name.**\n",
    "    - If the function returns **True** then the **element is filtered**\n",
    "    - if the function returns **False** then that **element is neglected/not filtered**\n",
    "    - This process will be continued until all elements of Iterable object are exhausted"
   ]
  },
  {
   "cell_type": "code",
   "execution_count": 1,
   "id": "7e6b98f3",
   "metadata": {},
   "outputs": [
    {
     "name": "stdout",
     "output_type": "stream",
     "text": [
      "Enter a list of values separated by space:\n",
      "10 -5 20 25 -8 -12 23 32 -25\n",
      "<filter object at 0x000002024F87A190> <class 'filter'>\n",
      "Original Elements = [10, -5, 20, 25, -8, -12, 23, 32, -25]\n",
      "Positive Elements = [10, 20, 25, 23, 32]\n",
      "<filter object at 0x000002024F87A7C0> <class 'filter'>\n",
      "Negative Elements =  (-5, -8, -12, -25)\n"
     ]
    }
   ],
   "source": [
    "#Program for filtering Positive Elements from list of elements by using Normal Functions\n",
    "#FilterEx1.py\n",
    "def pos(n):\n",
    "    if(n>0):\n",
    "        return True\n",
    "    else:\n",
    "        return False\n",
    "\n",
    "def neg(n):\n",
    "    if(n<0):\n",
    "        return True\n",
    "    else:\n",
    "        return False\n",
    "    \n",
    "#main\n",
    "print(\"Enter a list of values separated by space:\")\n",
    "lst = [int(val) for val in input().split()]\n",
    "\n",
    "fo1 = filter(pos,lst)\n",
    "print(fo1,type(fo1))\n",
    "pslist = list(fo1)\n",
    "print(\"Original Elements = {}\".format(lst))\n",
    "print(\"Positive Elements = {}\".format(pslist))\n",
    "\n",
    "fo2 = filter(neg,lst)\n",
    "print(fo2,type(fo2))\n",
    "nglist = tuple(fo2)\n",
    "print(\"Negative Elements = \",nglist)\n"
   ]
  },
  {
   "cell_type": "code",
   "execution_count": 1,
   "id": "b7146413",
   "metadata": {},
   "outputs": [
    {
     "name": "stdout",
     "output_type": "stream",
     "text": [
      "Enter the List of elements separated by space:\n",
      "5 -2 9 -10 15 25 -18\n",
      "##################################################\n",
      "Positive Elements = [5, 9, 15, 25]\n",
      "Negative Elements = (-2, -10, -18)\n",
      "##################################################\n"
     ]
    }
   ],
   "source": [
    "#Program for filtering Positive and Negative Elements from list of elements by using Anonymous Functions\n",
    "#FilterEx2.py\n",
    "pos = lambda n : n>0\n",
    "neg = lambda n : n<0\n",
    "\n",
    "#main:\n",
    "print(\"Enter the List of elements separated by space:\")\n",
    "lst = [int(val) for val in input().split()]\n",
    "pslist = list(filter(pos,lst))\n",
    "nslist = tuple(filter(neg,lst))\n",
    "\n",
    "print(\"#\"*50)\n",
    "print(\"Positive Elements = {}\".format(pslist))\n",
    "print(\"Negative Elements = {}\".format(nslist))\n",
    "print(\"#\"*50)"
   ]
  },
  {
   "cell_type": "code",
   "execution_count": 2,
   "id": "ea09b451",
   "metadata": {},
   "outputs": [
    {
     "name": "stdout",
     "output_type": "stream",
     "text": [
      "Enter a list of +ve & -ve elements:\n",
      "10 20 -45 -23 -2 12 -6 78 0 23\n",
      "Positive Elements = [10, 20, 12, 78, 23]\n",
      "Negative Elements = (-45, -23, -2, -6)\n"
     ]
    }
   ],
   "source": [
    "#Program for filtering Positive and Negative Elements from list of elements by using Anonymous Functions\n",
    "#FilterEx3.py\n",
    "def posNeg():\n",
    "    print(\"Enter a list of +ve & -ve elements:\")\n",
    "    lst=[int(val) for val in input().split()]\n",
    "    pslst = list(filter(lambda n : n>0, lst))\n",
    "    nslst = tuple(filter(lambda n : n<0, lst))\n",
    "    print(\"Positive Elements = {}\".format(pslst))\n",
    "    print(\"Negative Elements = {}\".format(nslst))\n",
    "\n",
    "\n",
    "\n",
    "#main:\n",
    "posNeg()"
   ]
  },
  {
   "cell_type": "code",
   "execution_count": 5,
   "id": "79b79d52",
   "metadata": {},
   "outputs": [
    {
     "name": "stdout",
     "output_type": "stream",
     "text": [
      "Enter a list of elements:\n",
      "5 2 11 32 8 15 7\n",
      "Original Elements = [5, 2, 11, 32, 8, 15, 7]\n",
      "Even Elements = [2, 32, 8]\n",
      "Odd Elements = [5, 11, 15, 7]\n"
     ]
    }
   ],
   "source": [
    "#Program for filtering Odd and Even Elements from list of elements by using Anonymous Functions and Normal Functions.\n",
    "#FilterEx4.py\n",
    "def even(n):\n",
    "    if(n%2 == 0):\n",
    "        return n\n",
    "odd = lambda n:n%2 != 0\n",
    "\n",
    "#main\n",
    "print(\"Enter a list of elements:\")\n",
    "lst = [int(val) for val in input().split()]\n",
    "evenList = list(filter(even,lst))\n",
    "oddList = list(filter(odd,lst))\n",
    "print(\"Original Elements = {}\".format(lst))\n",
    "print(\"Even Elements = {}\".format(evenList))\n",
    "print(\"Odd Elements = {}\".format(oddList))"
   ]
  },
  {
   "cell_type": "code",
   "execution_count": 6,
   "id": "8f2a0203",
   "metadata": {},
   "outputs": [
    {
     "name": "stdout",
     "output_type": "stream",
     "text": [
      "Enter a list of characters separated by comma:\n",
      "'d','f','a','i','r','u','l','o' \n"
     ]
    },
    {
     "ename": "TypeError",
     "evalue": "unsupported operand type(s) for |: 'str' and 'str'",
     "output_type": "error",
     "traceback": [
      "\u001b[1;31m---------------------------------------------------------------------------\u001b[0m",
      "\u001b[1;31mTypeError\u001b[0m                                 Traceback (most recent call last)",
      "\u001b[1;32m~\\AppData\\Local\\Temp\\ipykernel_10952\\3916077621.py\u001b[0m in \u001b[0;36m<module>\u001b[1;34m\u001b[0m\n\u001b[0;32m     10\u001b[0m \u001b[0mprint\u001b[0m\u001b[1;33m(\u001b[0m\u001b[1;34m\"Enter a list of characters separated by comma:\"\u001b[0m\u001b[1;33m)\u001b[0m\u001b[1;33m\u001b[0m\u001b[1;33m\u001b[0m\u001b[0m\n\u001b[0;32m     11\u001b[0m \u001b[0mcl\u001b[0m \u001b[1;33m=\u001b[0m \u001b[1;33m[\u001b[0m\u001b[0mch\u001b[0m \u001b[1;32mfor\u001b[0m \u001b[0mch\u001b[0m \u001b[1;32min\u001b[0m \u001b[0minput\u001b[0m\u001b[1;33m(\u001b[0m\u001b[1;33m)\u001b[0m\u001b[1;33m.\u001b[0m\u001b[0msplit\u001b[0m\u001b[1;33m(\u001b[0m\u001b[1;34m\",\"\u001b[0m\u001b[1;33m)\u001b[0m\u001b[1;33m]\u001b[0m\u001b[1;33m\u001b[0m\u001b[1;33m\u001b[0m\u001b[0m\n\u001b[1;32m---> 12\u001b[1;33m \u001b[0mconsL\u001b[0m \u001b[1;33m=\u001b[0m \u001b[0mlist\u001b[0m\u001b[1;33m(\u001b[0m\u001b[0mfilter\u001b[0m\u001b[1;33m(\u001b[0m\u001b[0mconsonant\u001b[0m\u001b[1;33m,\u001b[0m \u001b[0mcl\u001b[0m\u001b[1;33m)\u001b[0m\u001b[1;33m)\u001b[0m\u001b[1;33m\u001b[0m\u001b[1;33m\u001b[0m\u001b[0m\n\u001b[0m\u001b[0;32m     13\u001b[0m \u001b[0mvwl\u001b[0m \u001b[1;33m=\u001b[0m \u001b[0mtuple\u001b[0m\u001b[1;33m(\u001b[0m\u001b[0mfilter\u001b[0m\u001b[1;33m(\u001b[0m\u001b[0mvowel\u001b[0m\u001b[1;33m,\u001b[0m \u001b[0mcl\u001b[0m\u001b[1;33m)\u001b[0m\u001b[1;33m)\u001b[0m\u001b[1;33m\u001b[0m\u001b[1;33m\u001b[0m\u001b[0m\n\u001b[0;32m     14\u001b[0m \u001b[0mprint\u001b[0m\u001b[1;33m(\u001b[0m\u001b[1;34m\"Vowels = {}\"\u001b[0m\u001b[1;33m.\u001b[0m\u001b[0mformat\u001b[0m\u001b[1;33m(\u001b[0m\u001b[0mvwl\u001b[0m\u001b[1;33m)\u001b[0m\u001b[1;33m)\u001b[0m\u001b[1;33m\u001b[0m\u001b[1;33m\u001b[0m\u001b[0m\n",
      "\u001b[1;32m~\\AppData\\Local\\Temp\\ipykernel_10952\\3916077621.py\u001b[0m in \u001b[0;36mconsonant\u001b[1;34m(n)\u001b[0m\n\u001b[0;32m      2\u001b[0m \u001b[1;31m#FilterEx5.py\u001b[0m\u001b[1;33m\u001b[0m\u001b[1;33m\u001b[0m\u001b[0m\n\u001b[0;32m      3\u001b[0m \u001b[1;32mdef\u001b[0m \u001b[0mconsonant\u001b[0m\u001b[1;33m(\u001b[0m\u001b[0mn\u001b[0m\u001b[1;33m)\u001b[0m\u001b[1;33m:\u001b[0m\u001b[1;33m\u001b[0m\u001b[1;33m\u001b[0m\u001b[0m\n\u001b[1;32m----> 4\u001b[1;33m     \u001b[1;32mif\u001b[0m\u001b[1;33m(\u001b[0m\u001b[0mn\u001b[0m \u001b[1;33m!=\u001b[0m \u001b[1;34m'a'\u001b[0m\u001b[1;33m|\u001b[0m\u001b[1;34m'e'\u001b[0m\u001b[1;33m|\u001b[0m\u001b[1;34m'i'\u001b[0m\u001b[1;33m|\u001b[0m\u001b[1;34m'o'\u001b[0m\u001b[1;33m|\u001b[0m\u001b[1;34m'e'\u001b[0m\u001b[1;33m)\u001b[0m\u001b[1;33m:\u001b[0m\u001b[1;33m\u001b[0m\u001b[1;33m\u001b[0m\u001b[0m\n\u001b[0m\u001b[0;32m      5\u001b[0m         \u001b[1;32mreturn\u001b[0m \u001b[0mn\u001b[0m\u001b[1;33m\u001b[0m\u001b[1;33m\u001b[0m\u001b[0m\n\u001b[0;32m      6\u001b[0m \u001b[1;33m\u001b[0m\u001b[0m\n",
      "\u001b[1;31mTypeError\u001b[0m: unsupported operand type(s) for |: 'str' and 'str'"
     ]
    }
   ],
   "source": [
    "#Write a python program which will accept a line of text and obtains list of vowels by using filter()\n",
    "#FilterEx5.py\n",
    "def consonant(n):\n",
    "    if(n != 'a'|'e'|'i'|'o'|'e'):\n",
    "        return n\n",
    "\n",
    "vowel = lambda n : n == 'a'|'e'|'i'|'o'|'e'\n",
    "\n",
    "#main\n",
    "print(\"Enter a list of characters separated by comma:\")\n",
    "cl = [ch for ch in input().split(\",\")]\n",
    "consL = list(filter(consonant, cl))\n",
    "vwl = tuple(filter(vowel, cl))\n",
    "print(\"Vowels = {}\".format(vwl))\n",
    "print(\"Consonent = {}\".format(consL))"
   ]
  },
  {
   "cell_type": "code",
   "execution_count": 13,
   "id": "0305df5a",
   "metadata": {},
   "outputs": [
    {
     "name": "stdout",
     "output_type": "stream",
     "text": [
      "Enter a list of characters separated by comma:\n",
      "a,y,o,t,i,r\n",
      "Vowels = ('a',)\n",
      "Consonent = ['y', 'o', 't', 'i', 'r']\n"
     ]
    }
   ],
   "source": [
    "#Write a python program which will accept a line of text and obtains list of vowels by using filter()\n",
    "#FilterEx5.py\n",
    "def consonant(n):\n",
    "    if(n != ('a' or 'e' or 'i' or 'o' or 'e')):\n",
    "        return n\n",
    "\n",
    "vowel = lambda n : n == ('a' or 'e' or 'i' or 'o' or 'e')\n",
    "\n",
    "#main\n",
    "print(\"Enter a list of characters separated by comma:\")\n",
    "cl = [ch for ch in input().split(\",\")]\n",
    "consL = list(filter(consonant, cl))\n",
    "vwl = tuple(filter(vowel, cl))\n",
    "print(\"Vowels = {}\".format(vwl))\n",
    "print(\"Consonent = {}\".format(consL))"
   ]
  },
  {
   "cell_type": "code",
   "execution_count": null,
   "id": "f62934ee",
   "metadata": {},
   "outputs": [],
   "source": []
  }
 ],
 "metadata": {
  "kernelspec": {
   "display_name": "Python 3 (ipykernel)",
   "language": "python",
   "name": "python3"
  },
  "language_info": {
   "codemirror_mode": {
    "name": "ipython",
    "version": 3
   },
   "file_extension": ".py",
   "mimetype": "text/x-python",
   "name": "python",
   "nbconvert_exporter": "python",
   "pygments_lexer": "ipython3",
   "version": "3.9.16"
  }
 },
 "nbformat": 4,
 "nbformat_minor": 5
}
