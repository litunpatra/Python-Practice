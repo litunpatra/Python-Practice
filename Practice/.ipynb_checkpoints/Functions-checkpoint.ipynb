{
 "cells": [
  {
   "cell_type": "code",
   "execution_count": 1,
   "id": "a53fc0b7",
   "metadata": {},
   "outputs": [
    {
     "name": "stdout",
     "output_type": "stream",
     "text": [
      "Enter 1st operand:20\n",
      "Enter 2nd operand:32\n",
      "Sum(20.0, 32.0) = 52.0\n"
     ]
    }
   ],
   "source": [
    "#add1.py\n",
    "def addop(a,b):\n",
    "    return a+b\n",
    "\n",
    "#main\n",
    "x=float(input(\"Enter 1st operand:\"))\n",
    "y=float(input(\"Enter 2nd operand:\"))\n",
    "sum=addop(x,y)\n",
    "print(\"Sum({}, {}) = {}\".format(x,y,x+y))"
   ]
  },
  {
   "cell_type": "code",
   "execution_count": 2,
   "id": "6cd974fc",
   "metadata": {},
   "outputs": [
    {
     "name": "stdout",
     "output_type": "stream",
     "text": [
      "Enter 1st operand: 10\n",
      "Enter 2nd operand: 20\n",
      "Sum(10, 20) = 30\n",
      "==================================================\n",
      "Enter 1st operand: 25\n",
      "Enter 2nd operand: 20\n",
      "Sum(25, 20) = 45\n"
     ]
    }
   ],
   "source": [
    "#add2.py\n",
    "def addop():\n",
    "    a=int(input(\"Enter 1st operand: \"))\n",
    "    b=int(input(\"Enter 2nd operand: \"))\n",
    "    c=a+b\n",
    "    return a,b,c\n",
    "\n",
    "#main\n",
    "x,y,res=addop()\n",
    "print(\"Sum({}, {}) = {}\".format(x,y,res))\n",
    "print(\"=\"*50)\n",
    "result=addop()\n",
    "print(\"Sum({}, {}) = {}\".format(result[0],result[1],result[2]))"
   ]
  },
  {
   "cell_type": "code",
   "execution_count": 12,
   "id": "0cc99da1",
   "metadata": {},
   "outputs": [
    {
     "name": "stdout",
     "output_type": "stream",
     "text": [
      "Program to find index of an element in a list\n",
      "==================================================\n",
      "\n",
      "Enter a list of values separated by space: \n",
      "10 -2 13 5 -8\n",
      "Enter the value you want to search: 12\n",
      "No match found\n"
     ]
    }
   ],
   "source": [
    "#findElementIndex.py\n",
    "def readValues():\n",
    "    print(\"\\nEnter a list of values separated by space: \")\n",
    "    lst = [int(val) for val in input().split()]\n",
    "    return lst\n",
    "\n",
    "def findIndex():\n",
    "    a = readValues()\n",
    "    key = int(input(\"Enter the value you want to search: \"))\n",
    "    for i in range(len(a)):\n",
    "        if(key==a[i]):\n",
    "            print(\"{} found at index {} of the list\".format(key,i))\n",
    "            break\n",
    "    else:\n",
    "        print(\"No match found\")\n",
    "\n",
    "#main\n",
    "print(\"Program to find index of an element in a list\")\n",
    "print(\"=\"*50)\n",
    "findIndex()"
   ]
  },
  {
   "cell_type": "code",
   "execution_count": 3,
   "id": "1803300f",
   "metadata": {},
   "outputs": [
    {
     "data": {
      "text/plain": [
       "2"
      ]
     },
     "execution_count": 3,
     "metadata": {},
     "output_type": "execute_result"
    }
   ],
   "source": [
    "l=[10,2,5,15,3]\n",
    "l.index(5)"
   ]
  },
  {
   "cell_type": "code",
   "execution_count": null,
   "id": "ea420e9f",
   "metadata": {},
   "outputs": [],
   "source": [
    "#sortingEx.py\n",
    "def readValues():\n",
    "    print(\"Enter a list of values separated by space: \")\n",
    "    for val in "
   ]
  }
 ],
 "metadata": {
  "kernelspec": {
   "display_name": "Python 3 (ipykernel)",
   "language": "python",
   "name": "python3"
  },
  "language_info": {
   "codemirror_mode": {
    "name": "ipython",
    "version": 3
   },
   "file_extension": ".py",
   "mimetype": "text/x-python",
   "name": "python",
   "nbconvert_exporter": "python",
   "pygments_lexer": "ipython3",
   "version": "3.9.16"
  }
 },
 "nbformat": 4,
 "nbformat_minor": 5
}
