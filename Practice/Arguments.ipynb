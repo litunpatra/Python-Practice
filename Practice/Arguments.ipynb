{
 "cells": [
  {
   "cell_type": "markdown",
   "id": "082c9b06",
   "metadata": {},
   "source": [
    "### 1. Positional Arguments Example"
   ]
  },
  {
   "cell_type": "code",
   "execution_count": 1,
   "id": "7c699920",
   "metadata": {
    "scrolled": true
   },
   "outputs": [
    {
     "name": "stdout",
     "output_type": "stream",
     "text": [
      "==================================================\n",
      "Roll\tName\tMarks\tCourse\n",
      "==================================================\n",
      "10\tNaveen\t50\tDjango\n",
      "20\tHarish\t55\tHistory\n",
      "30\tJay\t88\tPolity\n",
      "40\tNaman\t82\tC++\n",
      "==================================================\n"
     ]
    }
   ],
   "source": [
    "#studinfo1.py\n",
    "def studInfo(sno,sname,marks,crs):\n",
    "    print(\"{}\\t{}\\t{}\\t{}\".format(sno,sname,marks,crs))\n",
    "\n",
    "#main():\n",
    "print(\"=\"*50)\n",
    "print(\"Roll\\tName\\tMarks\\tCourse\")\n",
    "print(\"=\"*50)\n",
    "studInfo(10,\"Naveen\",50,\"Django\")\n",
    "studInfo(20,\"Harish\",55,\"History\")\n",
    "studInfo(30,\"Jay\",88,\"Polity\")\n",
    "studInfo(40,\"Naman\",82,\"C++\")\n",
    "print(\"=\"*50)"
   ]
  },
  {
   "cell_type": "markdown",
   "id": "d7fed04f",
   "metadata": {},
   "source": [
    "### 2. Default Arguments"
   ]
  },
  {
   "cell_type": "code",
   "execution_count": 4,
   "id": "36c4c7bb",
   "metadata": {},
   "outputs": [
    {
     "name": "stdout",
     "output_type": "stream",
     "text": [
      "==================================================\n",
      "Roll\tName\tMarks\tCourse\n",
      "==================================================\n",
      "10\tNaveen\t50\tDjango\n",
      "20\tHarish\t55\tPython\n",
      "30\tJay\t88\tPolity\n",
      "40\tNaman\t82\tC++\n",
      "==================================================\n"
     ]
    }
   ],
   "source": [
    "#studinfo1.py\n",
    "def studInfo(sno,sname,marks,crs=\"Python\"):             \n",
    "    # crs is the default parameter, must remain at last pos. in function heading\n",
    "    print(\"{}\\t{}\\t{}\\t{}\".format(sno,sname,marks,crs))\n",
    "\n",
    "#main():\n",
    "print(\"=\"*50)\n",
    "print(\"Roll\\tName\\tMarks\\tCourse\")\n",
    "print(\"=\"*50)\n",
    "studInfo(10,\"Naveen\",50,\"Django\")\n",
    "studInfo(20,\"Harish\",55) # crs argument value not supplied, it assumes value of default parameter \n",
    "studInfo(30,\"Jay\",88,\"Polity\")\n",
    "studInfo(40,\"Naman\",82,\"C++\")\n",
    "print(\"=\"*50)"
   ]
  },
  {
   "cell_type": "code",
   "execution_count": 10,
   "id": "81046822",
   "metadata": {},
   "outputs": [
    {
     "name": "stdout",
     "output_type": "stream",
     "text": [
      "==================================================\n",
      "Roll \tName \tMark \tCourse \tCountry\n",
      "==================================================\n",
      "10 \tVikash \t52 \tPython \tIndia\n",
      "20 \tGassu \t25 \tPython \tIndia\n",
      "30 \tKedar \t55 \tPython \tIndia\n",
      "40 \tGita \t85 \tJava \tIndia\n",
      "50 \tPravas \t75 \tPhy \tFiji\n",
      "==================================================\n"
     ]
    }
   ],
   "source": [
    "#studinfo2.py\n",
    "def studInfo(roll,sname,marks,crs=\"Python\",cnt=\"India\"):\n",
    "    print(\"{} \\t{} \\t{} \\t{} \\t{}\".format(roll,sname,marks,crs,cnt))\n",
    "\n",
    "#main():\n",
    "print(\"=\"*50)\n",
    "print(\"Roll \\tName \\tMark \\tCourse \\tCountry\")\n",
    "print(\"=\"*50)\n",
    "studInfo(10,\"Vikash\",52)\n",
    "studInfo(20,\"Gassu\",25)\n",
    "studInfo(30,\"Kedar\",55)\n",
    "studInfo(40,\"Gita\",85,\"Java\")\n",
    "studInfo(50,\"Pravas\",75,\"Phy\",\"Fiji\")\n",
    "print(\"=\"*50)"
   ]
  },
  {
   "cell_type": "code",
   "execution_count": 13,
   "id": "56800845",
   "metadata": {},
   "outputs": [
    {
     "name": "stdout",
     "output_type": "stream",
     "text": [
      "==================================================\n",
      "\ta \tb \tc\n",
      "==================================================\n",
      "\t100\t200\t500\n",
      "\t400\t200\t500\n",
      "\t240\t150\t500\n",
      "\t120\t280\t600\n",
      "==================================================\n"
     ]
    }
   ],
   "source": [
    "#DefArgs1.py\n",
    "def dispValues(a=100,b=200,c=500):\n",
    "    print(\"\\t{}\\t{}\\t{}\".format(a,b,c))\n",
    "\n",
    "#main():\n",
    "print(\"=\"*50)\n",
    "print(\"\\ta \\tb \\tc\")\n",
    "print(\"=\"*50)\n",
    "dispValues()\n",
    "dispValues(400)\n",
    "dispValues(240,150)\n",
    "dispValues(120,280,600)\n",
    "print(\"=\"*50)"
   ]
  },
  {
   "cell_type": "code",
   "execution_count": 17,
   "id": "413e7a7c",
   "metadata": {},
   "outputs": [
    {
     "name": "stdout",
     "output_type": "stream",
     "text": [
      "Enter the radius of circle: 5\n",
      "Area of Circle = 78.55\n",
      "Perimeter of Circle = 31.400000000000002\n"
     ]
    }
   ],
   "source": [
    "#Program for demonstrating Default Arguments concept\n",
    "#DefArgs2.py\n",
    "def area(r,pi=3.14):\n",
    "    ar=pi*r**2\n",
    "    print(\"Area of Circle = {}\".format(ar))\n",
    "\n",
    "def peri(r,pi=3.14):\n",
    "    p=2*pi*r\n",
    "    print(\"Perimeter of Circle = {}\".format(p))\n",
    "    \n",
    "#main\n",
    "rad=int(input(\"Enter the radius of circle: \"))\n",
    "area(rad,3.142)\n",
    "peri(rad)"
   ]
  },
  {
   "cell_type": "code",
   "execution_count": 6,
   "id": "18f178b8",
   "metadata": {},
   "outputs": [
    {
     "name": "stdout",
     "output_type": "stream",
     "text": [
      "Enter name of some students separated by space: \n",
      "Vikash Hanshika Mehul Aparna Kadru\n",
      "Entered names are = ['Vikash', 'Hanshika', 'Mehul', 'Aparna', 'Kadru']\n",
      "Names in Dictionary Order = ['Aparna', 'Hanshika', 'Kadru', 'Mehul', 'Vikash']\n",
      "Names in Reverse Dictionary Order = ['Vikash', 'Mehul', 'Kadru', 'Hanshika', 'Aparna']\n",
      "\n",
      "\n",
      "\n",
      "How many names do you want to enter? : 5\n",
      "Enter the names of students separated by space: \n",
      "Fitch\n",
      "Mike\n",
      "Jendahl\n",
      "Stuart\n",
      "Bob\n",
      "Entered names are = ['Fitch', 'Mike', 'Jendahl', 'Stuart', 'Bob']\n",
      "Names in Dictionary Order = ['Bob', 'Fitch', 'Jendahl', 'Mike', 'Stuart']\n",
      "Names in Reverse Dictionary Order = ['Stuart', 'Mike', 'Jendahl', 'Fitch', 'Bob']\n"
     ]
    }
   ],
   "source": [
    "#sortnamesex1.py\n",
    "def readValues():\n",
    "    print(\"Enter name of some students separated by space: \")\n",
    "    ns=[val for val in input().split()]\n",
    "    print(\"Entered names are = {}\".format(ns))\n",
    "    return ns\n",
    "    \n",
    "\n",
    "def readNames():\n",
    "    n = int(input(\"How many names do you want to enter? : \"))\n",
    "    print(\"Enter the names of students separated by space: \")\n",
    "    names=[]\n",
    "    for i in range(n):\n",
    "        names.append(input())\n",
    "    print(\"Entered names are = {}\".format(names))\n",
    "    return names\n",
    "    \n",
    "def sortNames(lst):\n",
    "    lst.sort()\n",
    "    print(\"Names in Dictionary Order = {}\".format(lst))\n",
    "    lst.sort(reverse=True)\n",
    "    print(\"Names in Reverse Dictionary Order = {}\".format(lst))\n",
    "\n",
    "#main\n",
    "l1=readValues()\n",
    "sortNames(l1)\n",
    "print(\"\\n\\n\")\n",
    "l2=readNames()\n",
    "sortNames(l2)"
   ]
  },
  {
   "cell_type": "markdown",
   "id": "91f941c8",
   "metadata": {},
   "source": [
    "### 3. Keyword Arguments/Parameters"
   ]
  },
  {
   "cell_type": "code",
   "execution_count": 4,
   "id": "327862d9",
   "metadata": {},
   "outputs": [
    {
     "name": "stdout",
     "output_type": "stream",
     "text": [
      "==================================================\n",
      "\ta\tb\tc\n",
      "==================================================\n",
      "\t10\t20\t30\n",
      "\t5\t10\t20\n",
      "\t15\t20\t25\n",
      "==================================================\n"
     ]
    }
   ],
   "source": [
    "#kwdargs1.py\n",
    "def disp(a,b,c):\n",
    "    print(\"\\t{}\\t{}\\t{}\".format(a,b,c))\n",
    "\n",
    "#main\n",
    "print(\"=\"*50)\n",
    "print(\"\\ta\\tb\\tc\")\n",
    "print(\"=\"*50)\n",
    "disp(10,20,30)      #func call with positional args\n",
    "disp(c=20,a=5,b=10) #func call with kwd args ---> Order can be jumbled\n",
    "disp(15,c=25,b=20)  #func call with positional & kwd args\n",
    "print(\"=\"*50)"
   ]
  },
  {
   "cell_type": "code",
   "execution_count": 6,
   "id": "1c97118d",
   "metadata": {},
   "outputs": [
    {
     "ename": "SyntaxError",
     "evalue": "positional argument follows keyword argument (3615711782.py, line 10)",
     "output_type": "error",
     "traceback": [
      "\u001b[1;36m  File \u001b[1;32m\"C:\\Users\\Administrator\\AppData\\Local\\Temp\\ipykernel_3504\\3615711782.py\"\u001b[1;36m, line \u001b[1;32m10\u001b[0m\n\u001b[1;33m    disp(c=30,b=20,10)\u001b[0m\n\u001b[1;37m                     ^\u001b[0m\n\u001b[1;31mSyntaxError\u001b[0m\u001b[1;31m:\u001b[0m positional argument follows keyword argument\n"
     ]
    }
   ],
   "source": [
    "#kwdargs2.py\n",
    "def disp(a,b,c):\n",
    "    print(\"\\t{}\\t{}\\t{}\".format(a,b,c))\n",
    "\n",
    "#main\n",
    "print(\"=\"*50)\n",
    "print(\"\\ta\\tb\\tc\")\n",
    "print(\"=\"*50)\n",
    "\n",
    "disp(c=30,b=20,10)\n",
    "\n",
    "print(\"=\"*50)"
   ]
  },
  {
   "cell_type": "code",
   "execution_count": 7,
   "id": "05db4258",
   "metadata": {},
   "outputs": [
    {
     "ename": "SyntaxError",
     "evalue": "positional argument follows keyword argument (1308652532.py, line 10)",
     "output_type": "error",
     "traceback": [
      "\u001b[1;36m  File \u001b[1;32m\"C:\\Users\\Administrator\\AppData\\Local\\Temp\\ipykernel_3504\\1308652532.py\"\u001b[1;36m, line \u001b[1;32m10\u001b[0m\n\u001b[1;33m    disp(100,b=200,300)\u001b[0m\n\u001b[1;37m                      ^\u001b[0m\n\u001b[1;31mSyntaxError\u001b[0m\u001b[1;31m:\u001b[0m positional argument follows keyword argument\n"
     ]
    }
   ],
   "source": [
    "#kwdargs2.py\n",
    "def disp(a,b,c):\n",
    "    print(\"\\t{}\\t{}\\t{}\".format(a,b,c))\n",
    "\n",
    "#main\n",
    "print(\"=\"*50)\n",
    "print(\"\\ta\\tb\\tc\")\n",
    "print(\"=\"*50)\n",
    "\n",
    "disp(100,b=200,300)  \n",
    "\n",
    "print(\"=\"*50)"
   ]
  },
  {
   "cell_type": "markdown",
   "id": "2a84f07e",
   "metadata": {},
   "source": [
    "### NOTE:\n",
    "- During calling a function if we are passing ALL KEYWORD ARGUMENTS, then ordering among such actual arguments is immaterial.\n",
    "- When we are calling a function with a mix of **Keyword and Positional Arguments** and **Default Arguments** :- \n",
    "  - All the **Keyword arguments should always appear in the trailing end.**\n",
    "  - Ordering among all such **Keyword Arguments & Default Arguments is immaterial** as long as they follow all the positional arguments.\n",
    "  - All Positional actual Arguments and Default Arguments should always follow the order in which they appear in the function heading. \n",
    "  - One/more Keyword argument(s) and Default Arguments cannot be sandwiched between two/more positionals."
   ]
  },
  {
   "cell_type": "code",
   "execution_count": 10,
   "id": "5142efc0",
   "metadata": {},
   "outputs": [
    {
     "ename": "SyntaxError",
     "evalue": "positional argument follows keyword argument (708954418.py, line 11)",
     "output_type": "error",
     "traceback": [
      "\u001b[1;36m  File \u001b[1;32m\"C:\\Users\\Administrator\\AppData\\Local\\Temp\\ipykernel_3504\\708954418.py\"\u001b[1;36m, line \u001b[1;32m11\u001b[0m\n\u001b[1;33m    dispEmpInfo(30,\"Prem\",desg=\"Professor\",esal=40000,\"Academics\")\u001b[0m\n\u001b[1;37m                                                                 ^\u001b[0m\n\u001b[1;31mSyntaxError\u001b[0m\u001b[1;31m:\u001b[0m positional argument follows keyword argument\n"
     ]
    }
   ],
   "source": [
    "#kwdargs3.py\n",
    "def dispEmpInfo(eno,ename,esal,desg,dept=\"Sales\"):\n",
    "    print(\"\\t{}\\t{}\\t{}\\t{}\".format(eno,ename,esal,desg,dept))\n",
    "\n",
    "#main\n",
    "print(\"=\"*50)\n",
    "print(\"\\tENo.\\tName\\tSalary\\tDesignation\\tDepartment\")\n",
    "print(\"=\"*50)\n",
    "dispEmpInfo(10,\"Ramesh\",25000,\"Supervisor\",)\n",
    "dispEmpInfo(esal=55000,eno=20,desg=\"Manager\",ename=\"Himangi\")\n",
    "dispEmpInfo(30,\"Prem\",desg=\"Professor\",esal=40000,\"Academics\")\n",
    "print(\"=\"*50)    "
   ]
  },
  {
   "cell_type": "code",
   "execution_count": 18,
   "id": "ea0d4a8d",
   "metadata": {},
   "outputs": [
    {
     "ename": "SyntaxError",
     "evalue": "non-default argument follows default argument (4071984337.py, line 2)",
     "output_type": "error",
     "traceback": [
      "\u001b[1;36m  File \u001b[1;32m\"C:\\Users\\Administrator\\AppData\\Local\\Temp\\ipykernel_3504\\4071984337.py\"\u001b[1;36m, line \u001b[1;32m2\u001b[0m\n\u001b[1;33m    def dispEmpInfo(eno,ename,esal,dept=\"Sales\",desg): #dept. ---> is a Default Arg.\u001b[0m\n\u001b[1;37m                                                    ^\u001b[0m\n\u001b[1;31mSyntaxError\u001b[0m\u001b[1;31m:\u001b[0m non-default argument follows default argument\n"
     ]
    }
   ],
   "source": [
    "#kwdargs3.py\n",
    "def dispEmpInfo(eno,ename,esal,dept=\"Sales\",desg): #dept. ---> is a Default Arg.\n",
    "    print(\"\\t{}\\t{}\\t{}\\t{}\\t{}\".format(eno,ename,esal,desg,dept))\n",
    "\n",
    "#main\n",
    "print(\"=\"*70)\n",
    "print(\"\\tENo.\\tName\\tSalary\\tDesig\\tDepartment\")\n",
    "print(\"=\"*70)\n",
    "dispEmpInfo(10,\"Ramesh\",25000,\"Supervisor\",)\n",
    "dispEmpInfo(esal=55000,eno=20,desg=\"Manager\",ename=\"Hiren\")\n",
    "dispEmpInfo(30,\"Prem\",desg=\"Professor\",dept=\"Academics\",esal=40000)\n",
    "print(\"=\"*70)  "
   ]
  },
  {
   "cell_type": "code",
   "execution_count": 21,
   "id": "7536b628",
   "metadata": {},
   "outputs": [
    {
     "name": "stdout",
     "output_type": "stream",
     "text": [
      "======================================================================\n",
      "\tENo.\tName\tSalary\tDesig\tDepartment\n",
      "======================================================================\n",
      "\t10\tRamesh\t25000\tSupervisor\tSales\n",
      "\t20\tAmish\t55000\tSr. Manager\tSales\n",
      "\t30\tPrem\t40000\tProfessor\tAcademics\n",
      "======================================================================\n"
     ]
    }
   ],
   "source": [
    "#kwdargs3.py\n",
    "def dispEmpInfo(eno,ename,esal,desg,dept=\"Sales\"): #dept. ---> is a Default Arg.\n",
    "    print(\"\\t{}\\t{}\\t{}\\t{}\\t{}\".format(eno,ename,esal,desg,dept))\n",
    "\n",
    "#main\n",
    "print(\"=\"*70)\n",
    "print(\"\\tENo.\\tName\\tSalary\\tDesig\\tDepartment\")\n",
    "print(\"=\"*70)\n",
    "dispEmpInfo(10,\"Ramesh\",25000,\"Supervisor\",)\n",
    "dispEmpInfo(esal=55000,eno=20,desg=\"Sr. Manager\",ename=\"Amish\")\n",
    "dispEmpInfo(30,\"Prem\",desg=\"Professor\",dept=\"Academics\",esal=40000)\n",
    "print(\"=\"*70) "
   ]
  },
  {
   "cell_type": "markdown",
   "id": "34f832c9",
   "metadata": {},
   "source": [
    "#### NOTE:\n",
    "Among all the Formal Arguments appearing in a function heading, the Default Arguments must appear at the end i.e. they should always follow non-default arguments."
   ]
  },
  {
   "cell_type": "code",
   "execution_count": 5,
   "id": "283f5516",
   "metadata": {},
   "outputs": [
    {
     "name": "stdout",
     "output_type": "stream",
     "text": [
      "==================================================\n",
      "  Eno\tName\tSalary\tDesg\tCourse\n",
      "==================================================\n",
      "  10\tRajesh\t35000\tDev\tPYTHON\n",
      "  20\tKalki\t50000\tManager\tPYTHON\n",
      "  30\tJayesh\t60000\tProf.\tData Mining\n",
      "==================================================\n"
     ]
    }
   ],
   "source": [
    "def dispEmpInfo(eno,ename,sal,dsg,crs=\"PYTHON\"):\n",
    "    print(\"  {}\\t{}\\t{}\\t{}\\t{}\".format(eno,ename,sal,dsg,crs))\n",
    "    \n",
    "#main\n",
    "print(\"=\"*50)\n",
    "print(\"  Eno\\tName\\tSalary\\tDesg\\tCourse\")\n",
    "print(\"=\"*50)\n",
    "dispEmpInfo(10,\"Rajesh\",35000,\"Dev\")\n",
    "dispEmpInfo(ename=\"Kalki\",eno=20,sal=50000,dsg=\"Manager\")\n",
    "dispEmpInfo(30,\"Jayesh\",60000,\"Prof.\",\"Data Mining\")\n",
    "print(\"=\"*50)"
   ]
  },
  {
   "cell_type": "code",
   "execution_count": 6,
   "id": "0d11a5e9",
   "metadata": {},
   "outputs": [
    {
     "ename": "TypeError",
     "evalue": "disp() missing 3 required positional arguments: 'b', 'c', and 'd'",
     "output_type": "error",
     "traceback": [
      "\u001b[1;31m---------------------------------------------------------------------------\u001b[0m",
      "\u001b[1;31mTypeError\u001b[0m                                 Traceback (most recent call last)",
      "Cell \u001b[1;32mIn[6], line 15\u001b[0m\n\u001b[0;32m     12\u001b[0m     \u001b[38;5;28mprint\u001b[39m(\u001b[38;5;124m\"\u001b[39m\u001b[38;5;132;01m{}\u001b[39;00m\u001b[38;5;130;01m\\t\u001b[39;00m\u001b[38;5;132;01m{}\u001b[39;00m\u001b[38;5;130;01m\\t\u001b[39;00m\u001b[38;5;132;01m{}\u001b[39;00m\u001b[38;5;130;01m\\t\u001b[39;00m\u001b[38;5;132;01m{}\u001b[39;00m\u001b[38;5;124m\"\u001b[39m\u001b[38;5;241m.\u001b[39mformat(a,b,c,d))\n\u001b[0;32m     14\u001b[0m \u001b[38;5;66;03m#main\u001b[39;00m\n\u001b[1;32m---> 15\u001b[0m disp(\u001b[38;5;241m10\u001b[39m)\n\u001b[0;32m     16\u001b[0m disp(\u001b[38;5;241m10\u001b[39m,\u001b[38;5;241m20\u001b[39m)\n\u001b[0;32m     17\u001b[0m disp(\u001b[38;5;241m10\u001b[39m,\u001b[38;5;241m20\u001b[39m,\u001b[38;5;241m30\u001b[39m)\n",
      "\u001b[1;31mTypeError\u001b[0m: disp() missing 3 required positional arguments: 'b', 'c', and 'd'"
     ]
    }
   ],
   "source": [
    "#varargsex1.py\n",
    "def disp(a):\n",
    "    print(a)\n",
    "\n",
    "def disp(a,b):\n",
    "    print(\"{}\\t{}\".format(a,b))\n",
    "\n",
    "def disp(a,b,c):\n",
    "    print(\"{}\\t{}\\t{}\".format(a,b,c))\n",
    "    \n",
    "def disp(a,b,c,d):\n",
    "    print(\"{}\\t{}\\t{}\\t{}\".format(a,b,c,d))\n",
    "    \n",
    "#main\n",
    "disp(10)\n",
    "disp(10,20)\n",
    "disp(10,20,30)\n",
    "disp(10,20,30,40)"
   ]
  },
  {
   "cell_type": "code",
   "execution_count": 1,
   "id": "1a5bbfe3",
   "metadata": {},
   "outputs": [
    {
     "name": "stdout",
     "output_type": "stream",
     "text": [
      "10\n",
      "10\t20\n",
      "10\t20\t30\n",
      "10\t20\t30\t40\n"
     ]
    }
   ],
   "source": [
    "#varargsex1.py\n",
    "def disp(a):\n",
    "    print(a)\n",
    "disp(10)\n",
    "\n",
    "def disp(a,b):\n",
    "    print(\"{}\\t{}\".format(a,b))\n",
    "disp(10,20)\n",
    "\n",
    "def disp(a,b,c):\n",
    "    print(\"{}\\t{}\\t{}\".format(a,b,c))\n",
    "disp(10,20,30)\n",
    "\n",
    "def disp(a,b,c,d):\n",
    "    print(\"{}\\t{}\\t{}\\t{}\".format(a,b,c,d))\n",
    "disp(10,20,30,40)"
   ]
  },
  {
   "cell_type": "markdown",
   "id": "946a5b45",
   "metadata": {},
   "source": [
    "### 4. Variable Length Parameters/Arguments"
   ]
  },
  {
   "cell_type": "markdown",
   "id": "4efc03f0",
   "metadata": {},
   "source": [
    "When we have a family of multiple function calls with Variable number of values / arguments then with traditional Python programming, we must define multiple function definitions.\n",
    "- This process needs more development time.\n",
    "- To overcome this, we use the concept of Variable Length Parameters."
   ]
  },
  {
   "cell_type": "markdown",
   "id": "eb12a107",
   "metadata": {},
   "source": [
    "To Implement, Variable length Parameters concept, we must\n",
    "- Define a single Function Definition and take a formal Parameter preceded with an asterisk (* param)\n",
    "- The Formal Parameter with asterisk symbol is called ==> **Variable Length Parameter**\n",
    "- Purpose of Variable Length Parameter is to hold / store any number of values coming from similar function calls and whose type is **<class, 'tuple'>**."
   ]
  },
  {
   "cell_type": "markdown",
   "id": "a2cdfc47",
   "metadata": {},
   "source": [
    "#### def functionName( list of Formal params, *param1, param2 = value ):\n",
    "##### ---------------------------------------------\n",
    "##### ---------------------------------------------"
   ]
  },
  {
   "cell_type": "markdown",
   "id": "6aba8513",
   "metadata": {},
   "source": [
    "Here **\\*param**  is called **Variable Length parameter** and it **can hold any number of argument values (or) variable number of argument values** and ***param type is <class,'tuple'>**."
   ]
  },
  {
   "cell_type": "markdown",
   "id": "716dce38",
   "metadata": {},
   "source": [
    "### Rule :-\n",
    "1) The **\\*param must always be written at last part of Function Heading** and **it must be only one (but not multiple)**\n",
    "2) When we use **variable length parameter and default parameter** within a Function Heading,\n",
    "   a. We use **default parameter at the last position** as the last parameter, **preceded by the variable length parameter**\n",
    "   b. **In function calls, we should not use default parameter as Key word argument** because **Variable number of values are treated as Positional Argument Value(s)**"
   ]
  },
  {
   "cell_type": "code",
   "execution_count": 4,
   "id": "09f3f432",
   "metadata": {},
   "outputs": [
    {
     "name": "stdout",
     "output_type": "stream",
     "text": [
      "==================================================\n",
      "Number of Values= 1\n",
      "10 \n",
      "==================================================\n",
      "==================================================\n",
      "Number of Values= 2\n",
      "10 20 \n",
      "==================================================\n",
      "==================================================\n",
      "Number of Values= 3\n",
      "10 20 30 \n",
      "==================================================\n",
      "==================================================\n",
      "Number of Values= 4\n",
      "10 20 30 40 \n",
      "==================================================\n",
      "==================================================\n",
      "Number of Values= 5\n",
      "10 20 30 40 50 \n",
      "==================================================\n",
      "==================================================\n",
      "Number of Values= 6\n",
      "10 20 30 40 50 60 \n",
      "==================================================\n",
      "==================================================\n",
      "Number of Values= 2\n",
      "Python C++ \n",
      "==================================================\n",
      "==================================================\n",
      "Number of Values= 0\n",
      "\n",
      "==================================================\n",
      "==================================================\n",
      "Number of Values= 8\n",
      "10 20 30 40 50 60 RUST PYTHON \n",
      "==================================================\n"
     ]
    }
   ],
   "source": [
    "#pureVarLenArgEx1.py\n",
    "def disp(*a):\n",
    "    print(\"=\"*50)\n",
    "    print(\"Number of Values=\",len(a))\n",
    "    for val in a:\n",
    "        print(\"{}\".format(val),end=\" \")\n",
    "    print()\n",
    "    print(\"=\"*50)\n",
    "\n",
    "#main\n",
    "disp(10)\n",
    "disp(10,20)\n",
    "disp(10,20,30)\n",
    "disp(10,20,30,40)\n",
    "disp(10,20,30,40,50)\n",
    "disp(10,20,30,40,50,60)\n",
    "disp(\"Python\",\"C++\")\n",
    "disp()\n",
    "disp(10,20,30,40,50,60,\"RUST\",\"PYTHON\")"
   ]
  },
  {
   "cell_type": "code",
   "execution_count": 8,
   "id": "9157d806",
   "metadata": {},
   "outputs": [
    {
     "name": "stdout",
     "output_type": "stream",
     "text": [
      "--------------------------------------------------\n",
      "Name of Student=Narendra\n",
      "10 \n",
      "Sum = 10\n",
      "--------------------------------------------------\n",
      "--------------------------------------------------\n",
      "Name of Student=Ravi\n",
      "10 20 \n",
      "Sum = 30\n",
      "--------------------------------------------------\n",
      "--------------------------------------------------\n",
      "Name of Student=Sriram\n",
      "10 20 30 \n",
      "Sum = 60\n",
      "--------------------------------------------------\n",
      "--------------------------------------------------\n",
      "Name of Student=Haresh\n",
      "10 20 30 40 \n",
      "Sum = 100\n",
      "--------------------------------------------------\n",
      "--------------------------------------------------\n",
      "Name of Student=Prakash\n",
      "10 20 30 40 50 \n",
      "Product = 12000000\n",
      "--------------------------------------------------\n",
      "--------------------------------------------------\n",
      "Name of Student=Jayesh\n",
      "10 20 30 40 50 60 \n",
      "Product = 720000000\n",
      "--------------------------------------------------\n",
      "--------------------------------------------------\n",
      "Name of Student=Jayram\n",
      "\n",
      "Sum = 0\n",
      "--------------------------------------------------\n",
      "--------------------------------------------------\n",
      "Name of Student=Pravat\n",
      "-5 -7 -8 \n",
      "Product = -280\n",
      "--------------------------------------------------\n"
     ]
    }
   ],
   "source": [
    "#pureVarLenArgEx2.py\n",
    "def findSum(sname,*a):\n",
    "    print(\"-\"*50)\n",
    "    print(\"Name of Student={}\".format(sname))\n",
    "    s=0\n",
    "    for val in a:\n",
    "        print(\"{}\".format(val),end=\" \")\n",
    "        s+=val\n",
    "    print()\n",
    "    print(\"Sum = {}\".format(s))\n",
    "    print(\"-\"*50)\n",
    "    \n",
    "def findMul(sname,*a):\n",
    "    print(\"-\"*50)\n",
    "    print(\"Name of Student={}\".format(sname))\n",
    "    prod=1\n",
    "    for val in a:\n",
    "        print(\"{}\".format(val),end=\" \")\n",
    "        prod*=val\n",
    "    print()\n",
    "    print(\"Product = {}\".format(prod))\n",
    "    print(\"-\"*50)\n",
    "    \n",
    "#main\n",
    "findSum(\"Narendra\",10)\n",
    "findSum(\"Ravi\",10,20)\n",
    "findSum(\"Sriram\",10,20,30)\n",
    "findSum(\"Haresh\",10,20,30,40)\n",
    "findMul(\"Prakash\",10,20,30,40,50)\n",
    "findMul(\"Jayesh\",10,20,30,40,50,60)\n",
    "findSum(\"Jayram\")\n",
    "findMul(\"Pravat\",-5,-7,-8)"
   ]
  },
  {
   "cell_type": "code",
   "execution_count": 13,
   "id": "d03691b0",
   "metadata": {},
   "outputs": [
    {
     "name": "stdout",
     "output_type": "stream",
     "text": [
      "==================================================\n",
      "\tStudent Id:10\n",
      "\tUniversity:KIIT\n",
      "\tCourse:PYTHON\n",
      "\tStudents Names:\n",
      "\tRamesh\n",
      "\tHarish\n",
      "\tSuresh\n",
      "\tSubash\n",
      "==================================================\n",
      "==================================================\n",
      "\tStudent Id:20\n",
      "\tUniversity:SOA\n",
      "\tCourse:PYTHON\n",
      "\tStudents Names:\n",
      "\tKrishna\n",
      "\tTanmay\n",
      "\tSuchintan\n",
      "\tPravas\n",
      "==================================================\n"
     ]
    }
   ],
   "source": [
    "#pureVarLenArgEx3.py\n",
    "def dispStudInfo(id,uname,*snames,crs=\"PYTHON\"):\n",
    "    print(\"=\"*50)\n",
    "    print(\"\\tStudent Id:{}\".format(id))\n",
    "    print(\"\\tUniversity:{}\".format(uname))\n",
    "    print(\"\\tCourse:{}\".format(crs))\n",
    "    print(\"\\tStudents Names:\")\n",
    "    for name in snames:\n",
    "        print(\"\\t{}\".format(name))\n",
    "    print(\"=\"*50)\n",
    "    \n",
    "#main\n",
    "dispStudInfo(10,\"KIIT\",\"Ramesh\",\"Harish\",\"Suresh\",\"Subash\")\n",
    "dispStudInfo(20,\"SOA\",\"Krishna\",\"Tanmay\",\"Suchintan\",\"Pravas\")"
   ]
  },
  {
   "cell_type": "code",
   "execution_count": 14,
   "id": "31dd946c",
   "metadata": {},
   "outputs": [
    {
     "ename": "TypeError",
     "evalue": "dispStudInfo() got multiple values for argument 'id'",
     "output_type": "error",
     "traceback": [
      "\u001b[1;31m---------------------------------------------------------------------------\u001b[0m",
      "\u001b[1;31mTypeError\u001b[0m                                 Traceback (most recent call last)",
      "Cell \u001b[1;32mIn[14], line 1\u001b[0m\n\u001b[1;32m----> 1\u001b[0m dispStudInfo(\u001b[38;5;124m\"\u001b[39m\u001b[38;5;124mP\u001b[39m\u001b[38;5;124m\"\u001b[39m,\u001b[38;5;124m\"\u001b[39m\u001b[38;5;124mQ\u001b[39m\u001b[38;5;124m\"\u001b[39m,\u001b[38;5;124m\"\u001b[39m\u001b[38;5;124mR\u001b[39m\u001b[38;5;124m\"\u001b[39m,crs\u001b[38;5;241m=\u001b[39m\u001b[38;5;124m\"\u001b[39m\u001b[38;5;124mJAVA\u001b[39m\u001b[38;5;124m\"\u001b[39m,\u001b[38;5;28mid\u001b[39m\u001b[38;5;241m=\u001b[39m\u001b[38;5;241m30\u001b[39m,uname\u001b[38;5;241m=\u001b[39m\u001b[38;5;124m\"\u001b[39m\u001b[38;5;124mOsmania\u001b[39m\u001b[38;5;124m\"\u001b[39m)\n",
      "\u001b[1;31mTypeError\u001b[0m: dispStudInfo() got multiple values for argument 'id'"
     ]
    }
   ],
   "source": [
    "dispStudInfo(\"P\",\"Q\",\"R\",crs=\"JAVA\",id=30,uname=\"Osmania\")"
   ]
  },
  {
   "cell_type": "code",
   "execution_count": 15,
   "id": "27a35ba3",
   "metadata": {},
   "outputs": [
    {
     "ename": "TypeError",
     "evalue": "dispStudInfo() got multiple values for argument 'uname'",
     "output_type": "error",
     "traceback": [
      "\u001b[1;31m---------------------------------------------------------------------------\u001b[0m",
      "\u001b[1;31mTypeError\u001b[0m                                 Traceback (most recent call last)",
      "Cell \u001b[1;32mIn[15], line 1\u001b[0m\n\u001b[1;32m----> 1\u001b[0m dispStudInfo(\u001b[38;5;241m40\u001b[39m,\u001b[38;5;124m\"\u001b[39m\u001b[38;5;124mP\u001b[39m\u001b[38;5;124m\"\u001b[39m,\u001b[38;5;124m\"\u001b[39m\u001b[38;5;124mQ\u001b[39m\u001b[38;5;124m\"\u001b[39m,\u001b[38;5;124m\"\u001b[39m\u001b[38;5;124mR\u001b[39m\u001b[38;5;124m\"\u001b[39m,crs\u001b[38;5;241m=\u001b[39m\u001b[38;5;124m\"\u001b[39m\u001b[38;5;124mJAVA\u001b[39m\u001b[38;5;124m\"\u001b[39m,uname\u001b[38;5;241m=\u001b[39m\u001b[38;5;124m\"\u001b[39m\u001b[38;5;124mOsmania\u001b[39m\u001b[38;5;124m\"\u001b[39m)\n",
      "\u001b[1;31mTypeError\u001b[0m: dispStudInfo() got multiple values for argument 'uname'"
     ]
    }
   ],
   "source": [
    "dispStudInfo(40,\"P\",\"Q\",\"R\",crs=\"JAVA\",uname=\"Osmania\")"
   ]
  },
  {
   "cell_type": "code",
   "execution_count": 16,
   "id": "a984bab5",
   "metadata": {},
   "outputs": [
    {
     "name": "stdout",
     "output_type": "stream",
     "text": [
      "==================================================\n",
      "\tStudent Id:40\n",
      "\tUniversity:Osmania\n",
      "\tCourse:JAVA\n",
      "\tStudents Names:\n",
      "\tP\n",
      "\tQ\n",
      "\tR\n",
      "==================================================\n"
     ]
    }
   ],
   "source": [
    "dispStudInfo(40,\"Osmania\",\"P\",\"Q\",\"R\",crs=\"JAVA\")"
   ]
  },
  {
   "cell_type": "markdown",
   "id": "ff1fca00",
   "metadata": {},
   "source": [
    "### Rule :-\n",
    "1) The **\\*param must always be written at last part of Function Heading** and **it must be only one (but not multiple)**\n",
    "2) When we use **variable length parameter and default parameter** within a Function Heading,\n",
    "   a. We use **default parameter at the last position** as the last parameter, **preceded by the variable length parameter**\n",
    "   b. **In function calls, we should not use default parameter as Key word argument** because **Variable number of values are treated as Positional Argument Value(s)**\n",
    "   \n",
    "- A function definition can contain only one variable length argument (*varLenArg)\n",
    "- When a function definition has a mix of Variable Length Arguments, Positional Arguments and Default Arguments as the formal arguments, the following order MUST exist between  "
   ]
  },
  {
   "cell_type": "code",
   "execution_count": null,
   "id": "e7ce5838",
   "metadata": {},
   "outputs": [],
   "source": []
  }
 ],
 "metadata": {
  "kernelspec": {
   "display_name": "Python 3 (ipykernel)",
   "language": "python",
   "name": "python3"
  },
  "language_info": {
   "codemirror_mode": {
    "name": "ipython",
    "version": 3
   },
   "file_extension": ".py",
   "mimetype": "text/x-python",
   "name": "python",
   "nbconvert_exporter": "python",
   "pygments_lexer": "ipython3",
   "version": "3.11.0"
  }
 },
 "nbformat": 4,
 "nbformat_minor": 5
}
