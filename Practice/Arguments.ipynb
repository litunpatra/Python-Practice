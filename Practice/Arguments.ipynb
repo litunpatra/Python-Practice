{
 "cells": [
  {
   "cell_type": "markdown",
   "id": "082c9b06",
   "metadata": {},
   "source": [
    "### Positional Arguments Example"
   ]
  },
  {
   "cell_type": "code",
   "execution_count": 1,
   "id": "7c699920",
   "metadata": {},
   "outputs": [
    {
     "name": "stdout",
     "output_type": "stream",
     "text": [
      "==================================================\n",
      "Roll\tName\tMarks\tCourse\n",
      "==================================================\n",
      "10\tNaveen\t50\tDjango\n",
      "20\tHarish\t55\tHistory\n",
      "30\tJay\t88\tPolity\n",
      "40\tNaman\t82\tC++\n",
      "==================================================\n"
     ]
    }
   ],
   "source": [
    "#studinfo1.py\n",
    "def studInfo(sno,sname,marks,crs):\n",
    "    print(\"{}\\t{}\\t{}\\t{}\".format(sno,sname,marks,crs))\n",
    "\n",
    "#main():\n",
    "print(\"=\"*50)\n",
    "print(\"Roll\\tName\\tMarks\\tCourse\")\n",
    "print(\"=\"*50)\n",
    "studInfo(10,\"Naveen\",50,\"Django\")\n",
    "studInfo(20,\"Harish\",55,\"History\")\n",
    "studInfo(30,\"Jay\",88,\"Polity\")\n",
    "studInfo(40,\"Naman\",82,\"C++\")\n",
    "print(\"=\"*50)"
   ]
  },
  {
   "cell_type": "code",
   "execution_count": 4,
   "id": "36c4c7bb",
   "metadata": {},
   "outputs": [
    {
     "name": "stdout",
     "output_type": "stream",
     "text": [
      "==================================================\n",
      "Roll\tName\tMarks\tCourse\n",
      "==================================================\n",
      "10\tNaveen\t50\tDjango\n",
      "20\tHarish\t55\tPython\n",
      "30\tJay\t88\tPolity\n",
      "40\tNaman\t82\tC++\n",
      "==================================================\n"
     ]
    }
   ],
   "source": [
    "#studinfo1.py\n",
    "def studInfo(sno,sname,marks,crs=\"Python\"):             \n",
    "    # crs is the default parameter, must remain at last pos. in function heading\n",
    "    print(\"{}\\t{}\\t{}\\t{}\".format(sno,sname,marks,crs))\n",
    "\n",
    "#main():\n",
    "print(\"=\"*50)\n",
    "print(\"Roll\\tName\\tMarks\\tCourse\")\n",
    "print(\"=\"*50)\n",
    "studInfo(10,\"Naveen\",50,\"Django\")\n",
    "studInfo(20,\"Harish\",55) # crs argument value not supplied, it assumes value of default parameter \n",
    "studInfo(30,\"Jay\",88,\"Polity\")\n",
    "studInfo(40,\"Naman\",82,\"C++\")\n",
    "print(\"=\"*50)"
   ]
  },
  {
   "cell_type": "code",
   "execution_count": 10,
   "id": "81046822",
   "metadata": {},
   "outputs": [
    {
     "name": "stdout",
     "output_type": "stream",
     "text": [
      "==================================================\n",
      "Roll \tName \tMark \tCourse \tCountry\n",
      "==================================================\n",
      "10 \tVikash \t52 \tPython \tIndia\n",
      "20 \tGassu \t25 \tPython \tIndia\n",
      "30 \tKedar \t55 \tPython \tIndia\n",
      "40 \tGita \t85 \tJava \tIndia\n",
      "50 \tPravas \t75 \tPhy \tFiji\n",
      "==================================================\n"
     ]
    }
   ],
   "source": [
    "#studinfo2.py\n",
    "def studInfo(roll,sname,marks,crs=\"Python\",cnt=\"India\"):\n",
    "    print(\"{} \\t{} \\t{} \\t{} \\t{}\".format(roll,sname,marks,crs,cnt))\n",
    "\n",
    "#main():\n",
    "print(\"=\"*50)\n",
    "print(\"Roll \\tName \\tMark \\tCourse \\tCountry\")\n",
    "print(\"=\"*50)\n",
    "studInfo(10,\"Vikash\",52)\n",
    "studInfo(20,\"Gassu\",25)\n",
    "studInfo(30,\"Kedar\",55)\n",
    "studInfo(40,\"Gita\",85,\"Java\")\n",
    "studInfo(50,\"Pravas\",75,\"Phy\",\"Fiji\")\n",
    "print(\"=\"*50)"
   ]
  },
  {
   "cell_type": "code",
   "execution_count": 13,
   "id": "56800845",
   "metadata": {},
   "outputs": [
    {
     "name": "stdout",
     "output_type": "stream",
     "text": [
      "==================================================\n",
      "\ta \tb \tc\n",
      "==================================================\n",
      "\t100\t200\t500\n",
      "\t400\t200\t500\n",
      "\t240\t150\t500\n",
      "\t120\t280\t600\n",
      "==================================================\n"
     ]
    }
   ],
   "source": [
    "#DefArgs1.py\n",
    "def dispValues(a=100,b=200,c=500):\n",
    "    print(\"\\t{}\\t{}\\t{}\".format(a,b,c))\n",
    "\n",
    "#main():\n",
    "print(\"=\"*50)\n",
    "print(\"\\ta \\tb \\tc\")\n",
    "print(\"=\"*50)\n",
    "dispValues()\n",
    "dispValues(400)\n",
    "dispValues(240,150)\n",
    "dispValues(120,280,600)\n",
    "print(\"=\"*50)"
   ]
  },
  {
   "cell_type": "code",
   "execution_count": 17,
   "id": "413e7a7c",
   "metadata": {},
   "outputs": [
    {
     "name": "stdout",
     "output_type": "stream",
     "text": [
      "Enter the radius of circle: 5\n",
      "Area of Circle = 78.55\n",
      "Perimeter of Circle = 31.400000000000002\n"
     ]
    }
   ],
   "source": [
    "#Program for demonstrating Default Arguments concept\n",
    "#DefArgs2.py\n",
    "def area(r,pi=3.14):\n",
    "    ar=pi*r**2\n",
    "    print(\"Area of Circle = {}\".format(ar))\n",
    "\n",
    "def peri(r,pi=3.14):\n",
    "    p=2*pi*r\n",
    "    print(\"Perimeter of Circle = {}\".format(p))\n",
    "    \n",
    "#main\n",
    "rad=int(input(\"Enter the radius of circle: \"))\n",
    "area(rad,3.142)\n",
    "peri(rad)"
   ]
  },
  {
   "cell_type": "code",
   "execution_count": null,
   "id": "18f178b8",
   "metadata": {},
   "outputs": [],
   "source": []
  }
 ],
 "metadata": {
  "kernelspec": {
   "display_name": "Python 3 (ipykernel)",
   "language": "python",
   "name": "python3"
  },
  "language_info": {
   "codemirror_mode": {
    "name": "ipython",
    "version": 3
   },
   "file_extension": ".py",
   "mimetype": "text/x-python",
   "name": "python",
   "nbconvert_exporter": "python",
   "pygments_lexer": "ipython3",
   "version": "3.11.0"
  }
 },
 "nbformat": 4,
 "nbformat_minor": 5
}
