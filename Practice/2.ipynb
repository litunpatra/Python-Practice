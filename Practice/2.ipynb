{
 "cells": [
  {
   "cell_type": "code",
   "execution_count": null,
   "id": "5a769490",
   "metadata": {},
   "outputs": [],
   "source": [
    "print(\"Enter 2 values: \")\n",
    "a=input()\n",
    "b=input()\n",
    "x=float(a)\n",
    "y=float(b)\n",
    "print(\"Sum of {},{} = {}\".format(x,y,x+y))"
   ]
  },
  {
   "cell_type": "code",
   "execution_count": null,
   "id": "14a838ef",
   "metadata": {
    "scrolled": true
   },
   "outputs": [],
   "source": [
    "print(\"Enter 2 values: \")\n",
    "x=float(input())\n",
    "y=float(input())\n",
    "print(\"Sum of {},{} = {}\".format(x,y,x+y))"
   ]
  },
  {
   "cell_type": "code",
   "execution_count": null,
   "id": "82c7fc0d",
   "metadata": {},
   "outputs": [],
   "source": [
    "5**2"
   ]
  },
  {
   "cell_type": "code",
   "execution_count": null,
   "id": "3500ac9d",
   "metadata": {},
   "outputs": [],
   "source": [
    "r = float(input(\"Enter the radius of a circle: \"))\n",
    "print(\"Area = {} \\nPerimeter = {}\".format(3.14*r**2, 2*3.14*r))"
   ]
  },
  {
   "cell_type": "code",
   "execution_count": null,
   "id": "2becf7f8",
   "metadata": {},
   "outputs": [],
   "source": [
    "n=int(input(\"Enter a number: \"))\n",
    "sqr=n**0.5\n",
    "print(\"Square Root of {} = {}\".format(n, round(sqr,3)))"
   ]
  },
  {
   "cell_type": "code",
   "execution_count": null,
   "id": "6af38b48",
   "metadata": {},
   "outputs": [],
   "source": [
    "a,b=10,20"
   ]
  },
  {
   "cell_type": "code",
   "execution_count": null,
   "id": "b7cc62e0",
   "metadata": {},
   "outputs": [],
   "source": [
    "a"
   ]
  },
  {
   "cell_type": "code",
   "execution_count": null,
   "id": "96ef701f",
   "metadata": {},
   "outputs": [],
   "source": [
    "b"
   ]
  },
  {
   "cell_type": "code",
   "execution_count": null,
   "id": "6f382e8e",
   "metadata": {},
   "outputs": [],
   "source": [
    "a,b=b,a"
   ]
  },
  {
   "cell_type": "code",
   "execution_count": null,
   "id": "7159cf38",
   "metadata": {},
   "outputs": [],
   "source": [
    "a"
   ]
  },
  {
   "cell_type": "code",
   "execution_count": null,
   "id": "9b989744",
   "metadata": {},
   "outputs": [],
   "source": [
    "b"
   ]
  },
  {
   "cell_type": "code",
   "execution_count": null,
   "id": "8e0dd805",
   "metadata": {},
   "outputs": [],
   "source": [
    "100 or 200"
   ]
  },
  {
   "cell_type": "code",
   "execution_count": null,
   "id": "c53979cb",
   "metadata": {},
   "outputs": [],
   "source": [
    "s = \"PYTHON\""
   ]
  },
  {
   "cell_type": "code",
   "execution_count": null,
   "id": "e9efc35f-5fc7-410e-8a06-68ec539cd6ad",
   "metadata": {},
   "outputs": [],
   "source": [
    "\"P\" in s"
   ]
  },
  {
   "cell_type": "code",
   "execution_count": null,
   "id": "1d2d29ac-f40c-4e2c-9a35-d9966737618c",
   "metadata": {},
   "outputs": [],
   "source": [
    "\"NO\" in s"
   ]
  },
  {
   "cell_type": "code",
   "execution_count": null,
   "id": "68e39c84-a1de-4256-83d8-c58b838fe01d",
   "metadata": {},
   "outputs": [],
   "source": [
    "\"NO\" in s[::-1]"
   ]
  },
  {
   "cell_type": "code",
   "execution_count": null,
   "id": "b34b6443-387e-4855-981c-25d8cf67d818",
   "metadata": {},
   "outputs": [],
   "source": [
    "import random\n",
    "num = list()\n",
    "for i in range(5):\n",
    "       num.append(random.randint(1,100))\n",
    "print(num)"
   ]
  },
  {
   "cell_type": "code",
   "execution_count": null,
   "id": "6a254a1e-00ca-44a7-9235-53c40f93b6b8",
   "metadata": {},
   "outputs": [],
   "source": [
    "num1 = num"
   ]
  },
  {
   "cell_type": "code",
   "execution_count": null,
   "id": "d9744752-e5cf-48d7-891d-c4607592bb67",
   "metadata": {},
   "outputs": [],
   "source": [
    "num is num1"
   ]
  },
  {
   "cell_type": "code",
   "execution_count": null,
   "id": "a519f9e7-1ca2-4d9d-b5c5-97763f402378",
   "metadata": {},
   "outputs": [],
   "source": [
    "num2 = num.copy()"
   ]
  },
  {
   "cell_type": "code",
   "execution_count": null,
   "id": "040f3552-3f7d-417b-b29a-11f36084b1e7",
   "metadata": {},
   "outputs": [],
   "source": [
    "num is not num2"
   ]
  },
  {
   "cell_type": "code",
   "execution_count": null,
   "id": "28756b5b-1c38-4bed-945e-9c71b23653c3",
   "metadata": {},
   "outputs": [],
   "source": [
    "a=1.5\n",
    "print(\"%0.20f\" %a)"
   ]
  },
  {
   "cell_type": "code",
   "execution_count": null,
   "id": "d7a279db-b895-4939-9f5b-9ec96d72a625",
   "metadata": {},
   "outputs": [],
   "source": [
    "s=\"python\"\n",
    "s.capitalize()"
   ]
  },
  {
   "cell_type": "code",
   "execution_count": null,
   "id": "d0243c71-c36e-465f-a590-5e61c015480a",
   "metadata": {},
   "outputs": [],
   "source": [
    "tkt = input(\"Do u have a ticket(yes/no): \")\n",
    "if(tkt.capitalize()==\"Yes\"):\n",
    "    print(\"Welcome\")\n",
    "else:\n",
    "    print(\"Sorry! Not Allowed !!\")\n",
    "    "
   ]
  },
  {
   "cell_type": "code",
   "execution_count": null,
   "id": "8b4ed6b6-baa0-4fae-86ff-5c8cc195bebe",
   "metadata": {},
   "outputs": [],
   "source": [
    "s.upper()"
   ]
  },
  {
   "cell_type": "code",
   "execution_count": null,
   "id": "b9604559-981b-4c5e-8ce7-08070509824f",
   "metadata": {},
   "outputs": [],
   "source": [
    "s.lower()"
   ]
  },
  {
   "cell_type": "code",
   "execution_count": null,
   "id": "8e749b6d-289a-4233-a6ba-bac0322ab988",
   "metadata": {},
   "outputs": [],
   "source": [
    "s"
   ]
  },
  {
   "cell_type": "code",
   "execution_count": null,
   "id": "049da849-aa35-45c2-bbf0-e3986bf61577",
   "metadata": {},
   "outputs": [],
   "source": [
    "s.capitalize()"
   ]
  },
  {
   "cell_type": "code",
   "execution_count": null,
   "id": "7bd4f54a-d73e-4658-8af9-8165a798dea3",
   "metadata": {},
   "outputs": [],
   "source": [
    "a=int(input(\"Enter 1st Number: \"))\n",
    "b=int(input(\"2nd Number: \"))\n",
    "c=int(input(\"3rd Number: \"))\n",
    "if(c<a>b):\n",
    "    print(\"{} is greater\".format(a))\n",
    "else:\n",
    "    if(c<b>a):\n",
    "        print(\"{} is greater\".format(b))\n",
    "    elif(a<c>b):\n",
    "        print(\"{} is greater\".format(c))\n",
    "    else:\n",
    "        print(\"All values are Equal !\")\n",
    "    "
   ]
  },
  {
   "cell_type": "code",
   "execution_count": null,
   "id": "3388347a-1afa-4c71-bbfa-8f1c8a1bf123",
   "metadata": {},
   "outputs": [],
   "source": [
    "diginame = {1:\"ONE\",2:\"TWO\",3:\"THREE\",4:\"FOUR\",5:\"FIVE\",6:\"SIX\",7:\"SEVEN\",8:\"EIGHT\",9:\"NINE\",0:\"ZERO\"}\n",
    "d=int(input(\"Enter any digit:\"))\n",
    "res=diginame.get(d)\n",
    "if(res!=None):\n",
    "    print(\"{} in words is {}\".format(d,res))\n",
    "else:\n",
    "    print(\"Entered values is a NUMBER\")"
   ]
  },
  {
   "cell_type": "code",
   "execution_count": null,
   "id": "6529a4bd-cde3-422a-9f5b-4f78de8bc1a6",
   "metadata": {},
   "outputs": [],
   "source": [
    "#matchCase.py\n",
    "c = True\n",
    "\n",
    "while(c == True):\n",
    "    print(\"\\n\")\n",
    "    print(\"=\"*50)\n",
    "    print(\"Arithmetic Operations:\")\n",
    "    print(\"=\"*50)\n",
    "    print(\"\\t1.Add\")\n",
    "    print(\"\\t2.Subs\")\n",
    "    print(\"\\t3.Mul\")\n",
    "    print(\"\\t4.Div\")\n",
    "    print(\"\\t5.Floor Div\")\n",
    "    print(\"\\t6.Modulo\")\n",
    "    print(\"\\t7.Exponentiation\")\n",
    "    print(\"=\"*50)\n",
    "    a=float(input(\"Enter 1st Number: \"))\n",
    "    b=float(input(\"Enter 2nd Number: \"))\n",
    "    ch = int(input(\"Enter your choice: \"))\n",
    "    match (ch):\n",
    "        case 1:\n",
    "            print(\"Sum of {}, {} = {}\".format(a,b,a+b))\n",
    "            \n",
    "        case 2:\n",
    "            print(\"Difference of {}, {} = {}\".format(a,b,a-b))\n",
    "                        \n",
    "        case 3:\n",
    "            print(\"Product of {}, {} = {}\".format(a,b,a*b))\n",
    "            \n",
    "        case 4:\n",
    "            print(\"Quotient of {}, {} = {}\".format(a,b,a/b))\n",
    "            \n",
    "        case 5:\n",
    "            print(\"Quotient of {}, {} = {} after being rounded off to the nearest lower number\".format(a,b,a//b))\n",
    "            \n",
    "        case 6:\n",
    "            print(\"Remainder of {}, {} = {}\".format(a,b,a%b))\n",
    "            \n",
    "        case 7:\n",
    "            print(\"{} ^ {} = {}\".format(a,b,a**b))\n",
    "            \n",
    "        case 8: \n",
    "            print(\"Thanks for using this program\") \n",
    "            exit()\n",
    "            \n",
    "        case _:\n",
    "            print(\"Please Enter a Valid Choice !!!\")\n",
    "            \n",
    "            \n",
    "    print(\"=\"*50)\n",
    "    print(\"\\n\\n\")\n",
    "    cur_ch = input(\"Do you want to continue?(yes/no)\\n\")\n",
    "    if(cur_ch == \"no\"):\n",
    "#         print(\"Thank You for using the program\")\n",
    "#         break\n",
    "        c=False\n",
    "    "
   ]
  },
  {
   "cell_type": "code",
   "execution_count": 4,
   "id": "4f59870e",
   "metadata": {},
   "outputs": [
    {
     "name": "stdout",
     "output_type": "stream",
     "text": [
      "0\n",
      "1\n",
      "2\n",
      "exit\n"
     ]
    }
   ],
   "source": [
    "for val in range(0,5):\n",
    "    if val == 3:\n",
    "        print(\"exit\")\n",
    "        break\n",
    "    print(val)"
   ]
  },
  {
   "cell_type": "code",
   "execution_count": null,
   "id": "090f27a2",
   "metadata": {},
   "outputs": [],
   "source": [
    "n=int(input(\"Enter any number: \"))\n",
    "if(n<=0):\n",
    "    print(\"{} is invalid input\".format())\n",
    "else:\n",
    "    print(\"=\"*50)\n",
    "    print(\"Numbers within {}\".format(n))\n",
    "    print(\"=\"*50)\n",
    "    i = 1\n",
    "    while(i<=n):\n",
    "        print(\"{}\\t\".format(n))"
   ]
  }
 ],
 "metadata": {
  "kernelspec": {
   "display_name": "Python 3 (ipykernel)",
   "language": "python",
   "name": "python3"
  },
  "language_info": {
   "codemirror_mode": {
    "name": "ipython",
    "version": 3
   },
   "file_extension": ".py",
   "mimetype": "text/x-python",
   "name": "python",
   "nbconvert_exporter": "python",
   "pygments_lexer": "ipython3",
   "version": "3.11.0"
  }
 },
 "nbformat": 4,
 "nbformat_minor": 5
}
