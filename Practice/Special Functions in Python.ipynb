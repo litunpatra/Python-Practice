{
 "cells": [
  {
   "cell_type": "markdown",
   "id": "3a46f857",
   "metadata": {},
   "source": [
    "### filter()\n",
    "**filter()** is used for \"Filtering out some elements from a list of elements(iterable object) by passing the iterable object as an argument to a function\".\n",
    "\n",
    "#### Syntax:\n",
    "**varName = filter(FunctionName, Iterable_object)**\n",
    "\n",
    "#### Explanation:\n",
    "- '**varName**' is an **object of type <class,'filter'>** and we can convert it into any iteratable object by using type-casting functions\n",
    "- \"**FunctionName**\" represents either **Normal function or Anonymous functions**\n",
    "- \"**Iterable_object**\" represents **Sequence, list, tuple, set** and **dict** type variables\n",
    "- The execution process of filter() is as follows - \n",
    "  - \"**Each value of Iterable Object**\" is sent to the function, **Function Name.**\n",
    "    - If the function returns **True** then the **element is filtered**\n",
    "    - if the function returns **False** then that **element is neglected/not filtered**\n",
    "    - This process will be continued until all elements of Iterable object are exhausted"
   ]
  },
  {
   "cell_type": "code",
   "execution_count": 1,
   "id": "7e6b98f3",
   "metadata": {},
   "outputs": [
    {
     "name": "stdout",
     "output_type": "stream",
     "text": [
      "Enter a list of values separated by space:\n",
      "10 -5 20 25 -8 -12 23 32 -25\n",
      "<filter object at 0x000002024F87A190> <class 'filter'>\n",
      "Original Elements = [10, -5, 20, 25, -8, -12, 23, 32, -25]\n",
      "Positive Elements = [10, 20, 25, 23, 32]\n",
      "<filter object at 0x000002024F87A7C0> <class 'filter'>\n",
      "Negative Elements =  (-5, -8, -12, -25)\n"
     ]
    }
   ],
   "source": [
    "#Program for filtering Positive Elements from list of elements by using Normal Functions\n",
    "#FilterEx1.py\n",
    "def pos(n):\n",
    "    if(n>0):\n",
    "        return True\n",
    "    else:\n",
    "        return False\n",
    "\n",
    "def neg(n):\n",
    "    if(n<0):\n",
    "        return True\n",
    "    else:\n",
    "        return False\n",
    "    \n",
    "#main\n",
    "print(\"Enter a list of values separated by space:\")\n",
    "lst = [int(val) for val in input().split()]\n",
    "\n",
    "fo1 = filter(pos,lst)\n",
    "print(fo1,type(fo1))\n",
    "pslist = list(fo1)\n",
    "print(\"Original Elements = {}\".format(lst))\n",
    "print(\"Positive Elements = {}\".format(pslist))\n",
    "\n",
    "fo2 = filter(neg,lst)\n",
    "print(fo2,type(fo2))\n",
    "nglist = tuple(fo2)\n",
    "print(\"Negative Elements = \",nglist)\n"
   ]
  },
  {
   "cell_type": "code",
   "execution_count": null,
   "id": "b7146413",
   "metadata": {},
   "outputs": [],
   "source": []
  },
  {
   "cell_type": "code",
   "execution_count": null,
   "id": "ea09b451",
   "metadata": {},
   "outputs": [],
   "source": []
  },
  {
   "cell_type": "code",
   "execution_count": null,
   "id": "79b79d52",
   "metadata": {},
   "outputs": [],
   "source": []
  },
  {
   "cell_type": "code",
   "execution_count": null,
   "id": "8f2a0203",
   "metadata": {},
   "outputs": [],
   "source": []
  }
 ],
 "metadata": {
  "kernelspec": {
   "display_name": "Python 3 (ipykernel)",
   "language": "python",
   "name": "python3"
  },
  "language_info": {
   "codemirror_mode": {
    "name": "ipython",
    "version": 3
   },
   "file_extension": ".py",
   "mimetype": "text/x-python",
   "name": "python",
   "nbconvert_exporter": "python",
   "pygments_lexer": "ipython3",
   "version": "3.9.16"
  }
 },
 "nbformat": 4,
 "nbformat_minor": 5
}
