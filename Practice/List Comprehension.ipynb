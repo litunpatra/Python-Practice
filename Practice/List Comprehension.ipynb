{
 "cells": [
  {
   "cell_type": "code",
   "execution_count": 2,
   "id": "181f8cbb",
   "metadata": {},
   "outputs": [
    {
     "name": "stdout",
     "output_type": "stream",
     "text": [
      "How many values do you want to enter? : 5\n",
      "Enter 5 values:\n",
      "2\n",
      "5\n",
      "-10\n",
      "1\n",
      "12\n",
      "Entered list = [2, 5, -10, 1, 12]\n"
     ]
    }
   ],
   "source": [
    "#usualWay.py\n",
    "n=int(input(\"How many values do you want to enter? : \"))\n",
    "lst=[]\n",
    "print(\"Enter {} values:\".format(n))\n",
    "for i in range(n):\n",
    "    val=int(input())\n",
    "    lst.append(val)\n",
    "    \n",
    "print(\"Entered list = {}\".format(lst))"
   ]
  },
  {
   "cell_type": "code",
   "execution_count": null,
   "id": "ec6eb180",
   "metadata": {},
   "outputs": [],
   "source": []
  }
 ],
 "metadata": {
  "kernelspec": {
   "display_name": "Python 3 (ipykernel)",
   "language": "python",
   "name": "python3"
  },
  "language_info": {
   "codemirror_mode": {
    "name": "ipython",
    "version": 3
   },
   "file_extension": ".py",
   "mimetype": "text/x-python",
   "name": "python",
   "nbconvert_exporter": "python",
   "pygments_lexer": "ipython3",
   "version": "3.11.0"
  }
 },
 "nbformat": 4,
 "nbformat_minor": 5
}
