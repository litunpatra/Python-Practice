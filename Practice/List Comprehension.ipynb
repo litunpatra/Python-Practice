{
 "cells": [
  {
   "cell_type": "code",
   "execution_count": 2,
   "id": "181f8cbb",
   "metadata": {},
   "outputs": [
    {
     "name": "stdout",
     "output_type": "stream",
     "text": [
      "How many values do you want to enter? : 5\n",
      "Enter 5 values:\n",
      "2\n",
      "5\n",
      "-10\n",
      "1\n",
      "12\n",
      "Entered list = [2, 5, -10, 1, 12]\n"
     ]
    }
   ],
   "source": [
    "#usualWay.py\n",
    "n=int(input(\"How many values do you want to enter? : \"))\n",
    "lst=[]\n",
    "print(\"Enter {} values:\".format(n))\n",
    "for i in range(n):\n",
    "    val=int(input())\n",
    "    lst.append(val)\n",
    "    \n",
    "print(\"Entered list = {}\".format(lst))"
   ]
  },
  {
   "cell_type": "code",
   "execution_count": 2,
   "id": "ec6eb180",
   "metadata": {},
   "outputs": [
    {
     "name": "stdout",
     "output_type": "stream",
     "text": [
      "Enter the list of numbers you want to enter separated by comma: \n",
      "5,8,1,2,9\n",
      "Entered list is = [5, 8, 1, 2, 9]\n"
     ]
    }
   ],
   "source": [
    "#listcomp1.py\n",
    "print(\"Enter the list of numbers you want to enter separated by comma: \")\n",
    "lst = [int(val) for val in input().split(\",\")]\n",
    "print(\"Entered list is = {}\".format(lst))"
   ]
  },
  {
   "cell_type": "code",
   "execution_count": 3,
   "id": "b735f81e",
   "metadata": {},
   "outputs": [
    {
     "name": "stdout",
     "output_type": "stream",
     "text": [
      "Enter a list of elements separated by space: \n",
      "2 5 1 4 9\n",
      "Squared list = [4, 25, 1, 16, 81]\n"
     ]
    }
   ],
   "source": [
    "#listcomp2.py\n",
    "#Enter a list of elements and square each element and print\n",
    "print(\"Enter a list of elements separated by space: \")\n",
    "lst = [int(val) for val in input().split()]\n",
    "sqlst=[]\n",
    "for val in lst:\n",
    "    res = val**2\n",
    "    sqlst.append(res)\n",
    "print(\"Squared list = {}\".format(sqlst))"
   ]
  },
  {
   "cell_type": "code",
   "execution_count": 4,
   "id": "582f72d5",
   "metadata": {},
   "outputs": [
    {
     "name": "stdout",
     "output_type": "stream",
     "text": [
      "Enter a list of elements separated by space: \n",
      "3 2 1 5 4\n",
      "Square of elements in the list = [9, 4, 1, 25, 16]\n"
     ]
    }
   ],
   "source": [
    "#listcomp3.py\n",
    "print(\"Enter a list of elements separated by space: \")\n",
    "lst=[(int(val)**2) for val in input().split()]\n",
    "print(\"Square of elements in the list = {}\".format(lst))"
   ]
  },
  {
   "cell_type": "code",
   "execution_count": 5,
   "id": "f4416847",
   "metadata": {},
   "outputs": [
    {
     "name": "stdout",
     "output_type": "stream",
     "text": [
      "Enter a list of elements separated by space: \n",
      "2 6 4 1 3\n",
      "Entered elements in the list = [2, 6, 4, 1, 3]\n",
      "==================================================\n",
      "Squared elements in list = [4, 36, 16, 1, 9]\n"
     ]
    }
   ],
   "source": [
    "#listcomp4.py\n",
    "print(\"Enter a list of elements separated by space: \")\n",
    "lst=[int(val) for val in input().split()]\n",
    "print(\"Entered elements in the list = {}\".format(lst))\n",
    "print(\"=\"*50)\n",
    "sqlst=[val**2 for val in lst]\n",
    "print(\"Squared elements in list = {}\".format(sqlst))"
   ]
  },
  {
   "cell_type": "code",
   "execution_count": 6,
   "id": "005a439d",
   "metadata": {},
   "outputs": [
    {
     "name": "stdout",
     "output_type": "stream",
     "text": [
      "Enter a list of elements separated by space: \n",
      "5 2 1 -4 3\n",
      "List elements sorted in ascending order:[-4, 1, 2, 3, 5]\n"
     ]
    }
   ],
   "source": [
    "#listSortCompre.py\n",
    "def readValues():\n",
    "    print(\"Enter a list of elements separated by space: \")\n",
    "    lst = [int(val) for val in input().split()]\n",
    "    return lst\n",
    "\n",
    "def sortDisp(a):    # a=lst ==> internally a deep copy is performed\n",
    "    a.sort()\n",
    "\n",
    "#main\n",
    "lst=readValues()\n",
    "sortDisp(lst)\n",
    "print(\"List elements sorted in ascending order:{}\".format(lst))\n",
    "#both \"lst\" and \"a\" refer to the same location "
   ]
  },
  {
   "cell_type": "code",
   "execution_count": 1,
   "id": "a8ca87fa",
   "metadata": {},
   "outputs": [
    {
     "name": "stdout",
     "output_type": "stream",
     "text": [
      "Enter a list of elements separated by space: \n",
      "2 5 3 4 -6\n",
      "==================================================\n",
      "Enter the operation that you want to perform:\n",
      "==================================================\n",
      "\t1.Sum of Elements\n",
      "\t2.Largest Element\n",
      "\t3.Smallest Element\n",
      "\t4.Sorting in Ascending Order\n",
      "\t5.Sorting in Descending Order\n",
      "\t6.Average of Elements\n",
      "==================================================\n",
      "Enter your choice(1 - 6): 4\n",
      "Sorted list in Ascending Order = [-6, 2, 3, 4, 5]\n",
      "Do you want to continue? (yes/no): yes\n",
      "==================================================\n",
      "Enter the operation that you want to perform:\n",
      "==================================================\n",
      "\t1.Sum of Elements\n",
      "\t2.Largest Element\n",
      "\t3.Smallest Element\n",
      "\t4.Sorting in Ascending Order\n",
      "\t5.Sorting in Descending Order\n",
      "\t6.Average of Elements\n",
      "==================================================\n",
      "Enter your choice(1 - 6): 6\n",
      "Average of Elements in the List = 1.6\n",
      "Do you want to continue? (yes/no): yes\n",
      "==================================================\n",
      "Enter the operation that you want to perform:\n",
      "==================================================\n",
      "\t1.Sum of Elements\n",
      "\t2.Largest Element\n",
      "\t3.Smallest Element\n",
      "\t4.Sorting in Ascending Order\n",
      "\t5.Sorting in Descending Order\n",
      "\t6.Average of Elements\n",
      "==================================================\n",
      "Enter your choice(1 - 6): 2\n",
      "Maximum element = 5\n",
      "Present @ index = 1\n",
      "Do you want to continue? (yes/no): yes\n",
      "==================================================\n",
      "Enter the operation that you want to perform:\n",
      "==================================================\n",
      "\t1.Sum of Elements\n",
      "\t2.Largest Element\n",
      "\t3.Smallest Element\n",
      "\t4.Sorting in Ascending Order\n",
      "\t5.Sorting in Descending Order\n",
      "\t6.Average of Elements\n",
      "==================================================\n",
      "Enter your choice(1 - 6): 1\n",
      "Sum = 8\n",
      "Do you want to continue? (yes/no): yes\n",
      "==================================================\n",
      "Enter the operation that you want to perform:\n",
      "==================================================\n",
      "\t1.Sum of Elements\n",
      "\t2.Largest Element\n",
      "\t3.Smallest Element\n",
      "\t4.Sorting in Ascending Order\n",
      "\t5.Sorting in Descending Order\n",
      "\t6.Average of Elements\n",
      "==================================================\n",
      "Enter your choice(1 - 6): 3\n",
      "Smallest element is -6 present at 4\n",
      "Do you want to continue? (yes/no): yes\n",
      "==================================================\n",
      "Enter the operation that you want to perform:\n",
      "==================================================\n",
      "\t1.Sum of Elements\n",
      "\t2.Largest Element\n",
      "\t3.Smallest Element\n",
      "\t4.Sorting in Ascending Order\n",
      "\t5.Sorting in Descending Order\n",
      "\t6.Average of Elements\n",
      "==================================================\n",
      "Enter your choice(1 - 6): 5\n",
      "Sorted list in Descending Order = [5, 4, 3, 2, -6]\n",
      "Do you want to continue? (yes/no): yes\n",
      "==================================================\n",
      "Enter the operation that you want to perform:\n",
      "==================================================\n",
      "\t1.Sum of Elements\n",
      "\t2.Largest Element\n",
      "\t3.Smallest Element\n",
      "\t4.Sorting in Ascending Order\n",
      "\t5.Sorting in Descending Order\n",
      "\t6.Average of Elements\n",
      "==================================================\n",
      "Enter your choice(1 - 6): 4\n",
      "Sorted list in Ascending Order = [-6, 2, 3, 4, 5]\n",
      "Do you want to continue? (yes/no): no\n",
      "Program Execution Over.\n",
      "==================================================\n"
     ]
    }
   ],
   "source": [
    "#listOps.py\n",
    "print(\"Enter a list of elements separated by space: \")\n",
    "lst = [int(val) for val in input().split()]\n",
    "ch='yes'\n",
    "while(ch):\n",
    "    print(\"=\"*50)\n",
    "    print(\"Enter the operation that you want to perform:\")\n",
    "    print(\"=\"*50)\n",
    "    print(\"\\t1.Sum of Elements\")\n",
    "    print(\"\\t2.Largest Element\")\n",
    "    print(\"\\t3.Smallest Element\")\n",
    "    print(\"\\t4.Sorting in Ascending Order\")\n",
    "    print(\"\\t5.Sorting in Descending Order\")\n",
    "    print(\"\\t6.Average of Elements\")\n",
    "    print(\"=\"*50)\n",
    "    \n",
    "    opt = int(input(\"Enter your choice(1 - 6): \"))\n",
    "    \n",
    "    match (opt):\n",
    "        case 1:\n",
    "            sum=0\n",
    "            for i in lst:\n",
    "                sum+=i\n",
    "            print(\"Sum = {}\".format(sum))\n",
    "                        \n",
    "        case 2:\n",
    "            max=0\n",
    "            ind=0\n",
    "            for i in lst:\n",
    "                if(i>max):\n",
    "                    max=i\n",
    "                    ind=lst.index(i) \n",
    "            print(\"Maximum element = {}\\nPresent @ index = {}\".format(max,ind))\n",
    "        \n",
    "        case 3:\n",
    "            min=0\n",
    "            ind=0\n",
    "            for i in lst:\n",
    "                if(i<=min):\n",
    "                    min=i\n",
    "                    ind=lst.index(i)\n",
    "            print(\"Smallest element is {} present at {}\".format(min,ind))\n",
    "        \n",
    "        case 4:\n",
    "            al=lst.copy()\n",
    "            al.sort()\n",
    "            print(\"Sorted list in Ascending Order = {}\".format(al))\n",
    "        \n",
    "        case 5:\n",
    "            dl=lst.copy()\n",
    "            dl.sort(reverse=True)\n",
    "            print(\"Sorted list in Descending Order = {}\".format(dl))\n",
    "            \n",
    "        case 6:\n",
    "            s=0\n",
    "            for i in lst:\n",
    "                s+=i\n",
    "            avg = s/len(lst)\n",
    "            print(\"Average of Elements in the List = {}\".format(avg))\n",
    "        \n",
    "        case _:\n",
    "            print(\"Enter a valid choice!!!\")\n",
    "            \n",
    "    op = input(\"Do you want to continue? (yes/no): \")\n",
    "    if(op=='no'):\n",
    "        break\n",
    "        \n",
    "print(\"Program Execution Over.\")\n",
    "print(\"=\"*50)"
   ]
  }
 ],
 "metadata": {
  "kernelspec": {
   "display_name": "Python 3 (ipykernel)",
   "language": "python",
   "name": "python3"
  },
  "language_info": {
   "codemirror_mode": {
    "name": "ipython",
    "version": 3
   },
   "file_extension": ".py",
   "mimetype": "text/x-python",
   "name": "python",
   "nbconvert_exporter": "python",
   "pygments_lexer": "ipython3",
   "version": "3.11.0"
  }
 },
 "nbformat": 4,
 "nbformat_minor": 5
}
