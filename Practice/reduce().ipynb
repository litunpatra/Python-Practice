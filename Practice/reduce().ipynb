{
 "cells": [
  {
   "cell_type": "markdown",
   "id": "b76a77e7",
   "metadata": {},
   "source": [
    "## reduce()\n",
    "\n",
    "- reduce() is used for obtaining a single element / result from given iterable object by applying to a function\n",
    "\n",
    "### Syntax:\n",
    "###### varName = reduce(function-name,iterable-object)\n",
    "\n",
    "- varName is an object of \"**int**, **float**, **bool**, **complex**, **str**\" ONLY\n",
    "- **reduce()** belongs to a pre-defined module called **functools**"
   ]
  },
  {
   "cell_type": "markdown",
   "id": "d51e5306",
   "metadata": {},
   "source": [
    "##### Internal flow of reduce\n",
    "lst = [10,2,5,20,3,6] find sum.\n",
    " - [12,5,20,3,6]\n",
    " - [17,20,3,6]\n",
    " - [37,3,6]\n",
    " - [40,6]\n",
    " - [46]\n",
    "\n",
    "#### Reduce \n",
    "- res = reduce(lambda x,y : x+y, lst)\n",
    "- res = reduce(lambda y,x : x+y, lst)"
   ]
  },
  {
   "cell_type": "markdown",
   "id": "2e03ee59",
   "metadata": {},
   "source": [
    "### Execution of reduce()\n",
    "\n",
    "1. **reduce( )** in the first iteration selects the 1st two values from the Iterable object and stores them in the First variable(x) and Second variable(y) respectively. \n",
    "2. The function named **function-name**(lambda/normal) that is passed as the **1st argument within the reduce()** i.e. utilizes the values of **1st variable (x)** and **2nd variable (y)** and **applies the specified logic written within function-name on both the values(x & y) and obtains the result**.\n",
    "3. **reduce( )** stores the **result of the function-name in First variable** and then reduce( ) **selects the succeeding element of Iterable object** and **places in second variable**.\n",
    "4. **Repeat Step-2 and Step-3** until **all elements are exhausted from the Iterable object** and then **return the result that is present in the First Variable in the end**."
   ]
  },
  {
   "cell_type": "code",
   "execution_count": 2,
   "id": "74c443a2",
   "metadata": {},
   "outputs": [
    {
     "name": "stdout",
     "output_type": "stream",
     "text": [
      "Enter a list of values separated by space: \n",
      "5 2 7 1 6\n",
      "Sum of elements in ([5, 2, 7, 1, 6]) = 21\n"
     ]
    }
   ],
   "source": [
    "#Program for reading list of values and obtains sum by using reduce()\n",
    "#reduceex1.py\n",
    "import functools \n",
    "print(\"Enter a list of values separated by space: \")\n",
    "lst = [int(val) for val in input().split()]\n",
    "result = functools.reduce(lambda x,y : x+y, lst)\n",
    "print(\"Sum of elements in ({}) = {}\".format(lst, result))"
   ]
  },
  {
   "cell_type": "code",
   "execution_count": 5,
   "id": "cbd823e6",
   "metadata": {},
   "outputs": [
    {
     "name": "stdout",
     "output_type": "stream",
     "text": [
      "Enter a List of Elements separated by space: \n",
      "8 2 5 6 1 9\n",
      "Sum of Elements in [8, 2, 5, 6, 1, 9] = 31\n"
     ]
    }
   ],
   "source": [
    "#Program for reading list of values and obtains sum by using reduce()\n",
    "#reduceex2.py\n",
    "import functools\n",
    "def sumOp(x,y):\n",
    "    return x+y\n",
    "\n",
    "#main\n",
    "print(\"Enter a List of Elements separated by space: \")\n",
    "lst = [int(val) for val in input().split()]\n",
    "results = functools.reduce(sumOp, lst)\n",
    "print(\"Sum of Elements in {} = {}\".format(lst,results))"
   ]
  },
  {
   "cell_type": "code",
   "execution_count": 8,
   "id": "30e86099",
   "metadata": {},
   "outputs": [
    {
     "name": "stdout",
     "output_type": "stream",
     "text": [
      "Enter a list of words separated by comma: \n",
      "Hi,there,friends,hope,you,all,are,doing,well\n",
      "Entered list of words = ['Hi', 'there', 'friends', 'hope', 'you', 'all', 'are', 'doing', 'well']\n",
      "Concatenated Words = Hi there friends hope you all are doing well\n"
     ]
    }
   ],
   "source": [
    "#Write a python program which will accept list of names or words and concatenate them\n",
    "#reduceex3.py\n",
    "import functools as k\n",
    "concat = lambda x,y : x+\" \"+y\n",
    "\n",
    "#main\n",
    "print(\"Enter a list of words separated by comma: \")\n",
    "words = [val for val in input().split(\",\")]\n",
    "sent = k.reduce(concat,words)\n",
    "print(\"Entered list of words = {}\".format(words))\n",
    "print(\"Concatenated Words = {}\".format(sent))"
   ]
  },
  {
   "cell_type": "code",
   "execution_count": null,
   "id": "a98eae33",
   "metadata": {},
   "outputs": [],
   "source": [
    "#Write a python program which will accept list of values and find max and min values by using reduce()\n",
    "#reduceex4.py\n",
    "import functools as k\n",
    "print(\"Enter a list of values separated by comma: \")\n",
    "lst=[int(val) for val in input().split()]\n",
    "maxv=k.reduce(lambda x,y : )"
   ]
  },
  {
   "cell_type": "code",
   "execution_count": null,
   "id": "38da0a30",
   "metadata": {},
   "outputs": [],
   "source": []
  },
  {
   "cell_type": "code",
   "execution_count": null,
   "id": "7cc83f93",
   "metadata": {},
   "outputs": [],
   "source": []
  },
  {
   "cell_type": "code",
   "execution_count": null,
   "id": "5595f343",
   "metadata": {},
   "outputs": [],
   "source": []
  },
  {
   "cell_type": "code",
   "execution_count": null,
   "id": "9bd6b83d",
   "metadata": {},
   "outputs": [],
   "source": []
  },
  {
   "cell_type": "code",
   "execution_count": null,
   "id": "c078aa9a",
   "metadata": {},
   "outputs": [],
   "source": []
  }
 ],
 "metadata": {
  "kernelspec": {
   "display_name": "Python 3 (ipykernel)",
   "language": "python",
   "name": "python3"
  },
  "language_info": {
   "codemirror_mode": {
    "name": "ipython",
    "version": 3
   },
   "file_extension": ".py",
   "mimetype": "text/x-python",
   "name": "python",
   "nbconvert_exporter": "python",
   "pygments_lexer": "ipython3",
   "version": "3.11.0"
  }
 },
 "nbformat": 4,
 "nbformat_minor": 5
}
